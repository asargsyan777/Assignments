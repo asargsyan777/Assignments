{
 "cells": [
  {
   "cell_type": "code",
   "execution_count": null,
   "id": "068f50ae",
   "metadata": {},
   "outputs": [],
   "source": [
    "1. What is the concept of supervised learning? What is the significance of the name?\n",
    "\n",
    "t is called supervised learning because the process of an algorithm learning from the training dataset can be thought of as a teacher supervising the learning process. We know the correct answers, the algorithm iteratively makes predictions on the training data and is corrected by the teacher"
   ]
  },
  {
   "cell_type": "code",
   "execution_count": null,
   "id": "39378d82",
   "metadata": {},
   "outputs": [],
   "source": [
    "2. In the hospital sector, offer an example of supervised learning.\n",
    "\n",
    "One of the uses of machine learning in healthcare is using optical character recognition (OCR) technology on physicians' handwriting, making the data entry fast and seamless. This data can then be analyzed by other machine learning tools to improve decision-making and patient care."
   ]
  },
  {
   "cell_type": "code",
   "execution_count": null,
   "id": "fbad50f7",
   "metadata": {},
   "outputs": [],
   "source": [
    "3. Give three supervised learning examples.\n",
    "Text categorization.\n",
    "Face Detection.\n",
    "Signature recognition.\n",
    "Customer discovery.\n",
    "Spam detection.\n",
    "Weather forecasting."
   ]
  },
  {
   "cell_type": "code",
   "execution_count": null,
   "id": "2e18f947",
   "metadata": {},
   "outputs": [],
   "source": [
    "4. In supervised learning, what are classification and regression?\n",
    "\n",
    "Classification is the task of predicting a discrete class label. Regression is the task of predicting a continuous quantity"
   ]
  },
  {
   "cell_type": "code",
   "execution_count": null,
   "id": "8da5a827",
   "metadata": {},
   "outputs": [],
   "source": [
    "5. Give some popular classification algorithms as examples.\n",
    "\n",
    "Logistic Regression.\n",
    "k-Nearest Neighbors.\n",
    "Decision Trees.\n",
    "Support Vector Machine.\n",
    "Naive Bayes."
   ]
  },
  {
   "cell_type": "code",
   "execution_count": null,
   "id": "1dbafcbf",
   "metadata": {},
   "outputs": [],
   "source": [
    "6. Briefly describe the SVM model.\n",
    "\n",
    "A support vector machine (SVM) is a supervised machine learning model that uses classification algorithms for two-group classification problems. After giving an SVM model sets of labeled training data for each category, they're able to categorize new text."
   ]
  },
  {
   "cell_type": "code",
   "execution_count": null,
   "id": "429588b4",
   "metadata": {},
   "outputs": [],
   "source": [
    "8. In the SVM model, define Support Vectors.\n",
    "\n",
    "Support vectors are data points that are closer to the hyperplane and influence the position and orientation of the hyperplane. Using these support vectors, we maximize the margin of the classifier. Deleting the support vectors will change the position of the hyperplane. These are the points that help us build our SVM."
   ]
  },
  {
   "cell_type": "code",
   "execution_count": null,
   "id": "358bcc93",
   "metadata": {},
   "outputs": [],
   "source": [
    "9. In the SVM model, define the kernel.\n",
    "\n",
    "A kernel is a function used in SVM for helping to solve problems. They provide shortcuts to avoid complex calculations. The amazing thing about kernel is that we can go to higher dimensions and perform smooth calculations with the help of it. We can go up to an infinite number of dimensions using kernels."
   ]
  },
  {
   "cell_type": "code",
   "execution_count": null,
   "id": "9b26ede1",
   "metadata": {},
   "outputs": [],
   "source": [
    "10. What are the factors that influence SVMs effectiveness?\n",
    "\n",
    "The effectiveness of SVM depends on the selection of kernel, kernel's parameters and soft margin parameter C. . Each pair of parameters is checked using cross validation, and the parameters with best cross validation accuracy are picked."
   ]
  },
  {
   "cell_type": "code",
   "execution_count": null,
   "id": "ee8ab9f2",
   "metadata": {},
   "outputs": [],
   "source": []
  }
 ],
 "metadata": {
  "kernelspec": {
   "display_name": "Python 3 (ipykernel)",
   "language": "python",
   "name": "python3"
  },
  "language_info": {
   "codemirror_mode": {
    "name": "ipython",
    "version": 3
   },
   "file_extension": ".py",
   "mimetype": "text/x-python",
   "name": "python",
   "nbconvert_exporter": "python",
   "pygments_lexer": "ipython3",
   "version": "3.9.7"
  }
 },
 "nbformat": 4,
 "nbformat_minor": 5
}
