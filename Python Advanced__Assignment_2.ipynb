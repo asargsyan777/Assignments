{
 "cells": [
  {
   "cell_type": "code",
   "execution_count": null,
   "id": "9412ecf5",
   "metadata": {},
   "outputs": [],
   "source": [
    "Q1. What is the difference between classes and modules?\n",
    "\n",
    "Modules are collections of methods and constants. They cannot generate instances. Classes may generate instances (objects), and have per-instance state"
   ]
  },
  {
   "cell_type": "code",
   "execution_count": null,
   "id": "c099ca27",
   "metadata": {},
   "outputs": [],
   "source": [
    "Q2. How do you make instances and classes?\n",
    "\n",
    "To create instances of a class, we call the class using class name and pass in whatever arguments its __init__ method accepts\n",
    "\n",
    "To create a class,we use the keyword class\n",
    "\n",
    "class Person:\n",
    "  def __init__(self, name, age):\n",
    "    self.name = name\n",
    "    self.age = age\n",
    "\n",
    "p1 = Person(\"Anna\", 27)\n",
    "\n",
    "print(p1.name)\n",
    "print(p1.age)"
   ]
  },
  {
   "cell_type": "code",
   "execution_count": null,
   "id": "149aa511",
   "metadata": {},
   "outputs": [],
   "source": [
    "Q3. Where and how should be class attributes created?\n",
    "\n",
    "A class attribute is shared by all instances of the class. To define a class attribute, we place it outside of the __init__() method. Use class_name. class_attribute or object_name."
   ]
  },
  {
   "cell_type": "code",
   "execution_count": null,
   "id": "fd068f11",
   "metadata": {},
   "outputs": [],
   "source": [
    "Q4. Where and how are instance attributes created?\n",
    "\n",
    "Instance attributes are attributes or properties attached to an instance of a class. Instance attributes are defined in the constructor.\n",
    "class Student:\n",
    "    def __init__(self, name, age): \n",
    "        self.name = name\n",
    "        self.age = age"
   ]
  },
  {
   "cell_type": "code",
   "execution_count": null,
   "id": "42879e65",
   "metadata": {},
   "outputs": [],
   "source": [
    "Q5. What does the term \"self\" in a Python class mean?\n",
    "Self represents the instance of the class. By using the \"self\" we can access the attributes and methods of the class in python"
   ]
  },
  {
   "cell_type": "code",
   "execution_count": null,
   "id": "2feeee26",
   "metadata": {},
   "outputs": [],
   "source": [
    "Q6. How does a Python class handle operator overloading?\n",
    "Python operators work for built-in classes. But the same operator behaves differently with different types.\n",
    "For example operator + is used to add two integers as well as join two strings and merge two lists."
   ]
  },
  {
   "cell_type": "code",
   "execution_count": null,
   "id": "eb4fe04d",
   "metadata": {},
   "outputs": [],
   "source": [
    "Q7. When do you consider allowing operator overloading of your classes?\n",
    "The purpose of operator overloading is to provide a special meaning of an operator for a user-defined data type.\n",
    "We can also use operator overloading to perform different operations using one operator."
   ]
  },
  {
   "cell_type": "code",
   "execution_count": null,
   "id": "222ce7e1",
   "metadata": {},
   "outputs": [],
   "source": [
    "Q8. What is the most popular form of operator overloading?\n",
    "\n",
    "A most popular overloding operaator example is the Addition (+) operator. We can do '+' and that operator operates on two numbers and the same operator operates on two strings. It performs \"Addition\" on numbers whereas it performs \"Concatenation\" on strings."
   ]
  },
  {
   "cell_type": "code",
   "execution_count": null,
   "id": "de10c089",
   "metadata": {},
   "outputs": [],
   "source": [
    "Q9. What are the two most important concepts to grasp in order to comprehend Python OOP code?\n",
    "Everything in Python is an object and every object has a type. These types are declared and defined using classes.And Therefore classes can be considered as the heart of OOP.\n",
    "Most Important concepts from OOP are inheritance and polymorphism,which are key ingredients for designing flexible and easy-to-maintain software. "
   ]
  }
 ],
 "metadata": {
  "kernelspec": {
   "display_name": "Python 3 (ipykernel)",
   "language": "python",
   "name": "python3"
  },
  "language_info": {
   "codemirror_mode": {
    "name": "ipython",
    "version": 3
   },
   "file_extension": ".py",
   "mimetype": "text/x-python",
   "name": "python",
   "nbconvert_exporter": "python",
   "pygments_lexer": "ipython3",
   "version": "3.9.7"
  }
 },
 "nbformat": 4,
 "nbformat_minor": 5
}
