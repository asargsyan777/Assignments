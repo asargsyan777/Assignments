{
 "cells": [
  {
   "cell_type": "code",
   "execution_count": null,
   "id": "ba2d257d",
   "metadata": {},
   "outputs": [],
   "source": [
    "Q1. What is the concept of a metaclass?\n",
    "\n",
    "A metaclass in Python is a class of a class that defines how a class behaves. A class is itself an instance of a metaclass. A class in Python defines how the instance of the class will behave"
   ]
  },
  {
   "cell_type": "code",
   "execution_count": null,
   "id": "8da21be2",
   "metadata": {},
   "outputs": [],
   "source": [
    "Q2. What is the best way to declare a class's metaclass?\n",
    "\n",
    "This can also be done by inheriting a class that has already passed in this keyword.\n",
    "class MyMeta(type): pass class MyClass(metaclass=MyMeta): pass class MySubclass(MyClass): pass.\n",
    "class MetaOne(type): def __new__(cls, name, bases, dict): pass class MetaTwo(type): def __init__(self, name, bases, dict): pass."
   ]
  },
  {
   "cell_type": "code",
   "execution_count": null,
   "id": "1eab35b7",
   "metadata": {},
   "outputs": [],
   "source": [
    "Q3. How do class decorators overlap with metaclasses for handling classes?\n",
    "\n",
    "We still have the same class-object\n",
    "We could can mix inheritance with decorators\n",
    "We don't need to re-create assignment for predefined class-methods\n",
    "If decorator is not limited to only this specific class It is re-usable.\n",
    "\n"
   ]
  },
  {
   "cell_type": "code",
   "execution_count": null,
   "id": "b79479ce",
   "metadata": {},
   "outputs": [],
   "source": [
    "Q4. How do class decorators overlap with metaclasses for handling instances?\n",
    "\n",
    "This decorator exists so you can create class methods that are passed the actual class object within the function call, much like self is passed to any other ordinary instance method in a class"
   ]
  }
 ],
 "metadata": {
  "kernelspec": {
   "display_name": "Python 3 (ipykernel)",
   "language": "python",
   "name": "python3"
  },
  "language_info": {
   "codemirror_mode": {
    "name": "ipython",
    "version": 3
   },
   "file_extension": ".py",
   "mimetype": "text/x-python",
   "name": "python",
   "nbconvert_exporter": "python",
   "pygments_lexer": "ipython3",
   "version": "3.9.7"
  }
 },
 "nbformat": 4,
 "nbformat_minor": 5
}
