{
 "cells": [
  {
   "cell_type": "code",
   "execution_count": null,
   "id": "6d06129e",
   "metadata": {},
   "outputs": [],
   "source": [
    "1. How do you distinguish between shutil.copy() and shutil.copytree()?\n",
    "Their both are in-built functions for easily copying files using the Operating System Shell utilities.\n",
    "The difference between is that shutil.copy() will copy a single file and shutil.copytree() will copy entier folder."
   ]
  },
  {
   "cell_type": "code",
   "execution_count": null,
   "id": "4d707a4f",
   "metadata": {},
   "outputs": [],
   "source": [
    "2. What function is used to rename files?\n",
    " We need to use rename() method of an OS module, which is used to rename files.\n",
    "For example \n",
    "import os  \n",
    "os.rename('data1.txt','data2.txt') "
   ]
  },
  {
   "cell_type": "code",
   "execution_count": null,
   "id": "f38f44b5",
   "metadata": {},
   "outputs": [],
   "source": [
    "3. What is the difference between the delete functions in the send2trash and shutil modules?\n",
    "The difference between is that send2trash function will move the file or folder to the recycle bin \n",
    "and shutill function will permenantely delete files and folders."
   ]
  },
  {
   "cell_type": "code",
   "execution_count": null,
   "id": "286223f9",
   "metadata": {},
   "outputs": [],
   "source": [
    "4.ZipFile objects have a close() method just like File objects' close() method. What ZipFile method is\n",
    "equivalent to File objects' open() method?\n",
    "The extractall() method for ZipFile objects extracts all the files and folders from a Zip file into the current working directory."
   ]
  },
  {
   "cell_type": "code",
   "execution_count": null,
   "id": "83fd09ca",
   "metadata": {},
   "outputs": [],
   "source": [
    "5. Create a programme that searches a folder tree for files with a certain file extension (such as .pdf\n",
    "or .jpg). Copy these files from whatever location they are in to a new folder.\n",
    "\n",
    "def moveFileType(folder):\n",
    "    for folderName, subfolders, filenames in os.walk(folder):\n",
    "        for filename in filenames:\n",
    "            if filename.endswith('.jpg'):\n",
    "                shutil.copy(os.path.join(folderName, filename), '<destination>')"
   ]
  },
  {
   "cell_type": "code",
   "execution_count": 1,
   "id": "e8b5faf3",
   "metadata": {},
   "outputs": [],
   "source": []
  },
  {
   "cell_type": "code",
   "execution_count": null,
   "id": "c0428c71",
   "metadata": {},
   "outputs": [],
   "source": []
  },
  {
   "cell_type": "code",
   "execution_count": null,
   "id": "9a7ffb3d",
   "metadata": {},
   "outputs": [],
   "source": []
  },
  {
   "cell_type": "code",
   "execution_count": null,
   "id": "c506d061",
   "metadata": {},
   "outputs": [],
   "source": []
  },
  {
   "cell_type": "code",
   "execution_count": null,
   "id": "2078d78d",
   "metadata": {},
   "outputs": [],
   "source": []
  },
  {
   "cell_type": "code",
   "execution_count": null,
   "id": "fde692c1",
   "metadata": {},
   "outputs": [],
   "source": []
  }
 ],
 "metadata": {
  "kernelspec": {
   "display_name": "Python 3 (ipykernel)",
   "language": "python",
   "name": "python3"
  },
  "language_info": {
   "codemirror_mode": {
    "name": "ipython",
    "version": 3
   },
   "file_extension": ".py",
   "mimetype": "text/x-python",
   "name": "python",
   "nbconvert_exporter": "python",
   "pygments_lexer": "ipython3",
   "version": "3.9.7"
  }
 },
 "nbformat": 4,
 "nbformat_minor": 5
}
