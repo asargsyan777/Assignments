{
 "cells": [
  {
   "cell_type": "code",
   "execution_count": null,
   "id": "670e9ee4",
   "metadata": {},
   "outputs": [],
   "source": [
    "Q1. What are the benefits of the built-in array package, if any?\n",
    "\n",
    "Get the Type Code. Since the type code is very important to an array, which determined what kind of elements that the array can have. \n",
    "Get Size of Array Item. \n",
    "Count the Number of Occurrences. \n",
    "Append and Extend. \n",
    "Manipulating the Index. \n",
    "Array to List."
   ]
  },
  {
   "cell_type": "code",
   "execution_count": null,
   "id": "3b639050",
   "metadata": {},
   "outputs": [],
   "source": [
    "Q2. What are some of the array packages limitations?\n",
    "\n",
    "The array module defines an object type that can compactly represent an array of some basic values as characters, integers, floating-point numbers. Arrays are sequence types and behave similarly as lists, except that the type of objects stored in them is constrained."
   ]
  },
  {
   "cell_type": "code",
   "execution_count": null,
   "id": "af3fec75",
   "metadata": {},
   "outputs": [],
   "source": [
    "Q3. Describe the main differences between the array and numpy packages.\n",
    "\n",
    "There are several important differences between NumPy arrays and the standard Python sequences: NumPy arrays have a fixed size at creation, unlike Python lists (which can grow dynamically). Changing the size of an ndarray will create a new array and delete the original."
   ]
  },
  {
   "cell_type": "code",
   "execution_count": null,
   "id": "b47c33a9",
   "metadata": {},
   "outputs": [],
   "source": [
    "Q4. Explain the distinctions between the empty, ones, and zeros functions.\n",
    "\n",
    "At such sizes, basically the only difference between numpy. empty and numpy. zeros is that empty uses malloc and zeros uses calloc "
   ]
  },
  {
   "cell_type": "code",
   "execution_count": null,
   "id": "287522d3",
   "metadata": {},
   "outputs": [],
   "source": [
    "Q5. In the fromfunction function, which is used to construct new arrays, what is the role of the callable\n",
    "argument?\n",
    "\n",
    "numpy.fromfunction() function construct an array by executing a function over each coordinate and the resulting array, therefore, has a value fn(x, y, z) at coordinate (x, y, z).\n",
    "\n",
    "Ex.\n",
    "import numpy as geek\n",
    "    \n",
    "gfg = geek.fromfunction(lambda i, j: i * j, (4, 4), dtype = float)\n",
    "    \n",
    "print(gfg)"
   ]
  },
  {
   "cell_type": "code",
   "execution_count": null,
   "id": "2db335c6",
   "metadata": {},
   "outputs": [],
   "source": [
    "Q6. Does a numpy array contain fixed-length strings? What happens if you allocate a longer string to\n",
    "one of these arrays?\n",
    "\n",
    "Once set, it will only be able to store new string having length not more than the maximum length at the time of the creation"
   ]
  },
  {
   "cell_type": "code",
   "execution_count": null,
   "id": "2bed52cf",
   "metadata": {},
   "outputs": [],
   "source": [
    "Q7. What happens when you combine two numpy arrays using an operation like addition (+) or\n",
    "multiplication (*)? What are the conditions for combining two numpy arrays?\n",
    "\n",
    "Often you may have two or more NumPY arrays and want to concatenate/join/merge them into a single array. Python offers multiple options to join/concatenate NumPy arrays.\n",
    "Common operations include given two 2d-arrays, how can we concatenate them row wise or column wise. NumPys concatenate function allows you to concatenate two arrays either by rows or by columns\n",
    "\n",
    "Example.\n",
    "##concatenate 2 numpy arrays: column-wise\n",
    ">np.concatenate((array2D_1,array2D_2),axis=1)\n",
    "array([[ 0,  1,  2, 10, 11, 12],\n",
    "       [ 3,  4,  5, 13, 14, 15],\n",
    "       [ 6,  7,  8, 16, 17, 18]])"
   ]
  },
  {
   "cell_type": "code",
   "execution_count": null,
   "id": "fc261157",
   "metadata": {},
   "outputs": [],
   "source": [
    "Q8. What is the best way to use a Boolean array to mask another array?\n",
    "\n",
    "Using Masking of arrays we can easily handle the missing, invalid, or unwanted entries in our array or dataset/dataframe. Masking is essential works with the list of Boolean values i.e, True or False which when applied to an original array to return the element of interest, here True refers to the value that satisfies the given condition whereas False refers to values that fail to satisfy the condition.\n",
    "We can mask the array using another by using the following functions:-\n",
    "numpy.ma.masked_where(condition, arr)\n",
    "numpy.ma.getmask(arr)\n",
    "numpy.ma.masked_array(arr, mask=)"
   ]
  },
  {
   "cell_type": "code",
   "execution_count": null,
   "id": "350d9eb9",
   "metadata": {},
   "outputs": [],
   "source": [
    "Q9. What are three different ways to get the standard deviation of a wide collection of data using\n",
    "both standard Python and its packages? Sort the three of them by how quickly they execute.\n",
    "\n",
    "Python - Sorting Algorithms\n",
    "Bubble Sort.\n",
    "Merge Sort.\n",
    "Insertion Sort.\n",
    "Shell Sort.\n",
    "Selection Sort."
   ]
  },
  {
   "cell_type": "code",
   "execution_count": null,
   "id": "422e5404",
   "metadata": {},
   "outputs": [],
   "source": [
    "10. What is the dimensionality of a Boolean mask-generated array?\n",
    "\n",
    "We might consider using an np.ma.masked_array to represent the subset of elements that satisfy your condition:\n",
    "    \n",
    "    Example.\n",
    "    \n",
    "import numpy as np\n",
    "\n",
    "arr = np.asarray([[[[1, 11], [2, 22], [3, 33]],\n",
    "                   [[4, 44], [5, 55], [6, 66]]],\n",
    "                  [[[7, 77], [8, 88], [9, 99]],\n",
    "                   [[0, 32], [1, 33], [2, 34]]]])\n",
    "\n",
    "masked_arr = np.ma.masked_less(arr, 3)\n",
    "\n",
    "print(masked_arr)\n",
    "\n",
    "masked array retains its original dimensions. We can access the underlying data and the mask via the .data and .mask attributes respectively.\n",
    "The result of an element-wise operation on a masked array and a non-masked array will also preserve the values of the mask:"
   ]
  },
  {
   "cell_type": "code",
   "execution_count": null,
   "id": "849e97d9",
   "metadata": {},
   "outputs": [],
   "source": []
  },
  {
   "cell_type": "code",
   "execution_count": null,
   "id": "6eca28a5",
   "metadata": {},
   "outputs": [],
   "source": []
  }
 ],
 "metadata": {
  "kernelspec": {
   "display_name": "Python 3 (ipykernel)",
   "language": "python",
   "name": "python3"
  },
  "language_info": {
   "codemirror_mode": {
    "name": "ipython",
    "version": 3
   },
   "file_extension": ".py",
   "mimetype": "text/x-python",
   "name": "python",
   "nbconvert_exporter": "python",
   "pygments_lexer": "ipython3",
   "version": "3.9.7"
  }
 },
 "nbformat": 4,
 "nbformat_minor": 5
}
