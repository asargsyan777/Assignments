{
 "cells": [
  {
   "cell_type": "code",
   "execution_count": null,
   "id": "e5870671",
   "metadata": {},
   "outputs": [],
   "source": [
    "Q1. Define the relationship between a class and its instances. Is it a one-to-one or a one-to-many\n",
    "partnership, for example?\n",
    "In general class is a blueprint which you use to create objects.And Instance is an object that belong to the class"
   ]
  },
  {
   "cell_type": "code",
   "execution_count": null,
   "id": "d49e8af5",
   "metadata": {},
   "outputs": [],
   "source": [
    "Q2. What kind of data is held only in an instance?\n",
    "A data type object (an instance of numpy. dtype class) describes how the bytes in the fixed-size block of memory corresponding to an array item should be interpreted"
   ]
  },
  {
   "cell_type": "code",
   "execution_count": null,
   "id": "77bb9351",
   "metadata": {},
   "outputs": [],
   "source": [
    "Q3. What kind of knowledge is stored in a class?\n",
    "\n",
    "Classes provide a means of bundling data and functionality together. Creating a new class creates a new type of object, allowing new instances of that type to "
   ]
  },
  {
   "cell_type": "code",
   "execution_count": null,
   "id": "2aa48198",
   "metadata": {},
   "outputs": [],
   "source": [
    "Q4. What exactly is a method, and how is it different from a regular function?\n",
    "\n",
    "Methods are associated with the objects of the class they belong to. Functions are not associated with any object. We can invoke a function just by its name. Functions operate on the data you pass to them as arguments."
   ]
  },
  {
   "cell_type": "code",
   "execution_count": null,
   "id": "0779ca3b",
   "metadata": {},
   "outputs": [],
   "source": [
    "Q5. Is inheritance supported in Python, and if so, what is the syntax?\n",
    "\n",
    "In Python, every class inherits from a built-in basic class called 'object'. The constructor i.e. the '__init__' function of a class is invoked\n",
    "Example.\n",
    "class Person:\n",
    "  def __init__(self, fname, lname):\n",
    "    self.firstname = fname\n",
    "    self.lastname = lname\n",
    "\n",
    "  def printname(self):\n",
    "    print(self.firstname, self.lastname)\n",
    "\n",
    "#In here we Use the Person class to create an object, and then execute the printname method:\n",
    "\n",
    "x = Person(\"Anna\", \"Sargsyan\")\n",
    "x.printname()\n"
   ]
  },
  {
   "cell_type": "code",
   "execution_count": null,
   "id": "db6e1279",
   "metadata": {},
   "outputs": [],
   "source": [
    "Q6. How much encapsulation (making instance or class variables private) does Python support?\n",
    "\n",
    "Python implements weak encapsulation- that is it is encapsulation by convention, rather than being enforced by the language."
   ]
  },
  {
   "cell_type": "code",
   "execution_count": null,
   "id": "a076f384",
   "metadata": {},
   "outputs": [],
   "source": [
    "Q7. How do you distinguish between a class variable and an instance variable?\n",
    "\n",
    "Class variables are shared across all objects while instance variables are for data unique to each instance. Instance variable overrides the Class variables having same name which can accidentally introduce bugs or surprising behaviour in our code."
   ]
  },
  {
   "cell_type": "code",
   "execution_count": null,
   "id": "421e6519",
   "metadata": {},
   "outputs": [],
   "source": [
    "Q8. When, if ever, can self be included in a classs method definitions?\n",
    "\n",
    "he self is used to represent the instance of the class. With this keyword, you can access the attributes and methods of the class in python. It binds the attributes with the given arguments. \n",
    "\n",
    "class food():\n",
    " \n",
    "# init method or constructor\n",
    "def __init__(self, fruit, color):\n",
    "self.fruit = fruit\n",
    "self.color = color\n",
    " \n",
    "def show(self):\n",
    "print(\"fruit is\", self.fruit)\n",
    "print(\"color is\", self.color )\n",
    " \n",
    "apple = food(\"apple\", \"red\")\n",
    "grapes = food(\"grapes\", \"green\")\n",
    " \n",
    "apple.show()\n",
    "grapes.show()"
   ]
  },
  {
   "cell_type": "code",
   "execution_count": null,
   "id": "d95db79b",
   "metadata": {},
   "outputs": [],
   "source": [
    "Q9. What is the difference between the _ _add_ _ and the _ _radd_ _ methods?\n",
    "\n",
    "A method called add is just that - a method with that name. It has no special meaning whatsoever to the language or the interpreter. The only other thing that could be said about it is that sets have a method with the same name. That's it, nothing special about it.\n",
    "\n",
    "The method __add__ is called internally by the + operator, so it gets special attention in the language spec and by the interpreter and you override it to define addition for object of a class."
   ]
  },
  {
   "cell_type": "code",
   "execution_count": null,
   "id": "884a5975",
   "metadata": {},
   "outputs": [],
   "source": [
    "Q10. When is it necessary to use a reflection method? When do you not need it, even though you\n",
    "support the operation in question?\n",
    "\n",
    "The name reflection is used to describe code which is able to inspect other code in the same system (or itself)."
   ]
  },
  {
   "cell_type": "code",
   "execution_count": null,
   "id": "b51bee52",
   "metadata": {},
   "outputs": [],
   "source": [
    "Q11. What is the _ _iadd_ _ method called?\n",
    "What are __ methods called in Python?\n",
    "Its called Magic or Dunder Methods. Magic methods in Python are the special methods that start and end with the double underscores. They are also called dunder methods.\n"
   ]
  },
  {
   "cell_type": "code",
   "execution_count": null,
   "id": "50889b05",
   "metadata": {},
   "outputs": [],
   "source": [
    "Q12. Is the _ _init_ _ method inherited by subclasses? What do you do if you need to customize its\n",
    "behavior within a subclass?\n",
    "\n",
    "if you want to override the __init__ method, you must explicitly call the parent __init__ with the correct parameters.\n",
    "\n",
    "Also You don't really have to call the __init__ methods of the base class(es), but you usually want to do it because the base classes will do some important initializations there that are needed for rest of the classes methods to work.\n",
    "\n",
    "For other methods it depends on your intentions. If you just want to add something to the base classes behavior you will want to call the base classes method additionally to your own code. If you want to fundamentally change the behavior, you might not call the base class' method and implement all the functionality directly in the derived class."
   ]
  },
  {
   "cell_type": "code",
   "execution_count": null,
   "id": "7965ebe3",
   "metadata": {},
   "outputs": [],
   "source": []
  }
 ],
 "metadata": {
  "kernelspec": {
   "display_name": "Python 3 (ipykernel)",
   "language": "python",
   "name": "python3"
  },
  "language_info": {
   "codemirror_mode": {
    "name": "ipython",
    "version": 3
   },
   "file_extension": ".py",
   "mimetype": "text/x-python",
   "name": "python",
   "nbconvert_exporter": "python",
   "pygments_lexer": "ipython3",
   "version": "3.9.7"
  }
 },
 "nbformat": 4,
 "nbformat_minor": 5
}
