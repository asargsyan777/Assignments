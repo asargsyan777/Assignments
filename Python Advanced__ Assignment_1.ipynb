{
 "cells": [
  {
   "cell_type": "code",
   "execution_count": null,
   "id": "1c79e69f",
   "metadata": {},
   "outputs": [],
   "source": [
    "Q1. What is the purpose of Pythons OOP?\n",
    "\n",
    "In general Object-Oriented Programming makes the program easy to understand as well as efficient and reusable(so we dont create multiple line of code). Since the class is sharable, the code can be reused.\n",
    "\n",
    "And therefore everything in Python is an object and every object has a type. These types are declared and defined using classes,which  can be considered as the heart of OOP.\n",
    "OOP concepts in Python include Class, Object, Method, Inheritance, Polymorphism, Data Abstraction, and Encapsulation."
   ]
  },
  {
   "cell_type": "code",
   "execution_count": null,
   "id": "58128e9b",
   "metadata": {},
   "outputs": [],
   "source": [
    "Q2. Where does an inheritance search look for an attribute?\n",
    "\n",
    "Attr where object is an instance or class object, Python searches the namespace tree at and above object , for the first attr it can find. Because lower definitions in the tree override higher ones."
   ]
  },
  {
   "cell_type": "code",
   "execution_count": null,
   "id": "b25496b9",
   "metadata": {},
   "outputs": [],
   "source": [
    "Q3. How do you distinguish between a class object and an instance object?\n",
    "\n",
    "Everything in Python is an object such as integers, lists, dictionaries, functions and so on. Every object has a type and the object types are created using classes. Instance is an object that belongs to a class. For instance, list is a class in Python"
   ]
  },
  {
   "cell_type": "code",
   "execution_count": null,
   "id": "130de695",
   "metadata": {},
   "outputs": [],
   "source": [
    "Q4. What makes the first argument in a class’s method function special?\n",
    "\n",
    "This is the reason the first parameter of a function in class must be the object itself.It is not a keyword and has no special meaning in Python."
   ]
  },
  {
   "cell_type": "code",
   "execution_count": null,
   "id": "016a7c52",
   "metadata": {},
   "outputs": [],
   "source": [
    "Q5. What is the purpose of the __init__ method?\n",
    "\n",
    "The __init__ method is similar to constructors in Java. Constructors are used to initialize the object’s state. The task of constructors is to initialize(assign values) to the data members of the class when an object of class is created. Like methods, a constructor also contains collection of statement that are executed at time of Object creation. It is run as soon as an object of a class is instantiated. The method is useful to do any initialization you want to do with your object."
   ]
  },
  {
   "cell_type": "code",
   "execution_count": null,
   "id": "3b40a9fd",
   "metadata": {},
   "outputs": [],
   "source": [
    "Q6. What is the process for creating a class instance?\n",
    "\n",
    "To create instances of a class, we call the class using class name and pass in whatever arguments its __init__ method accepts."
   ]
  },
  {
   "cell_type": "code",
   "execution_count": null,
   "id": "dfa1ef19",
   "metadata": {},
   "outputs": [],
   "source": [
    "Q7. What is the process for creating a class?\n",
    "\n",
    "Python is an object oriented programming language and everything in Python is an object, with its properties and methods.\n",
    "A Class is like an object constructor, or a \"blueprint\" for creating objects.\n",
    "\n",
    "Ex.\n",
    "class Person:\n",
    "  def __init__(self, name, age):\n",
    "    self.name = name\n",
    "    self.age = age\n",
    "\n",
    "p1 = Person(\"Anna\", 27)\n",
    "\n",
    "print(p1.name)\n",
    "print(p1.age)"
   ]
  },
  {
   "cell_type": "code",
   "execution_count": null,
   "id": "b9110476",
   "metadata": {},
   "outputs": [],
   "source": [
    "Q8. How would you define the superclasses of a class?\n",
    "\n",
    "The class from which a class inherits is called the parent or superclass. A class which inherits from a superclass is called a subclass, also called heir class or child class. Superclasses are sometimes called ancestors as well.\n",
    "For Example.\n",
    "We have a Vehicle class and as a subclass can be car,Buss,Truck,Bike."
   ]
  }
 ],
 "metadata": {
  "kernelspec": {
   "display_name": "Python 3 (ipykernel)",
   "language": "python",
   "name": "python3"
  },
  "language_info": {
   "codemirror_mode": {
    "name": "ipython",
    "version": 3
   },
   "file_extension": ".py",
   "mimetype": "text/x-python",
   "name": "python",
   "nbconvert_exporter": "python",
   "pygments_lexer": "ipython3",
   "version": "3.9.7"
  }
 },
 "nbformat": 4,
 "nbformat_minor": 5
}
