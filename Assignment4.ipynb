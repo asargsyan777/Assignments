{
 "cells": [
  {
   "cell_type": "code",
   "execution_count": null,
   "id": "28c631d3",
   "metadata": {},
   "outputs": [],
   "source": [
    "1. What exactly is []?\n",
    "Its a squere brackets.And thats how we create a list.\n"
   ]
  },
  {
   "cell_type": "code",
   "execution_count": null,
   "id": "2708569c",
   "metadata": {},
   "outputs": [],
   "source": [
    "2. In a list of values stored in a variable called spam, how would you assign the value &#39;hello&#39; as the\n",
    "third value? (Assume [2, 4, 6, 8, 10] are in spam.).Let&#39;s pretend the spam includes the list [&#39;a&#39;, &#39;b&#39;, &#39;c&#39;, &#39;d&#39;] for the next three queries.\n",
    "\n",
    "\n",
    "Spam[0,1,2]=Hello"
   ]
  },
  {
   "cell_type": "code",
   "execution_count": null,
   "id": "4379464a",
   "metadata": {},
   "outputs": [],
   "source": [
    "3. What is the value of spam[int(int('3' * 2) / 11)]?\n",
    "\n",
    "3 its a string and '3' * 2 will be 33 .After that int 33/11=3"
   ]
  },
  {
   "cell_type": "code",
   "execution_count": null,
   "id": "e2d474f2",
   "metadata": {
    "scrolled": true
   },
   "outputs": [],
   "source": [
    "4. What is the value of spam[-1]?\n",
    "\n",
    "The value of spam[-1] it will be the last element of the list.It wil be D"
   ]
  },
  {
   "cell_type": "code",
   "execution_count": null,
   "id": "33ff17fa",
   "metadata": {},
   "outputs": [],
   "source": [
    "5. What is the value of spam[:2]?\n",
    "\n",
    "its ['a','b']\n",
    "\n",
    "\n",
    "\n"
   ]
  },
  {
   "cell_type": "code",
   "execution_count": null,
   "id": "75e42d44",
   "metadata": {},
   "outputs": [],
   "source": [
    "6. What is the value of bacon.index\n",
    "its 1\n",
    "                                    \n",
    "                                    "
   ]
  },
  {
   "cell_type": "code",
   "execution_count": null,
   "id": "d44ffdeb",
   "metadata": {},
   "outputs": [],
   "source": []
  },
  {
   "cell_type": "code",
   "execution_count": null,
   "id": "68189c55",
   "metadata": {},
   "outputs": [],
   "source": []
  },
  {
   "cell_type": "code",
   "execution_count": null,
   "id": "61ac713e",
   "metadata": {},
   "outputs": [],
   "source": []
  },
  {
   "cell_type": "code",
   "execution_count": null,
   "id": "8ec14fba",
   "metadata": {},
   "outputs": [],
   "source": []
  },
  {
   "cell_type": "code",
   "execution_count": null,
   "id": "ff75b952",
   "metadata": {},
   "outputs": [],
   "source": []
  },
  {
   "cell_type": "code",
   "execution_count": null,
   "id": "dd1c6854",
   "metadata": {},
   "outputs": [],
   "source": []
  },
  {
   "cell_type": "code",
   "execution_count": null,
   "id": "16df0613",
   "metadata": {},
   "outputs": [],
   "source": [
    "7. How does bacon.append(99) change the look of the list value in bacon?\n",
    "\n",
    "[3.14,'cat','11', 'cat', True,'99']"
   ]
  },
  {
   "cell_type": "code",
   "execution_count": null,
   "id": "fdabcba8",
   "metadata": {},
   "outputs": [],
   "source": [
    "8. How does bacon.remove 'cat' change the look of the list in bacon?\n",
    "[3.14,'11', 'cat', True,'99']"
   ]
  },
  {
   "cell_type": "code",
   "execution_count": null,
   "id": "b568244b",
   "metadata": {},
   "outputs": [],
   "source": [
    "9. What are the list concatenation and list replication operators?\n",
    "\n",
    "concatenation is + and list replication is *"
   ]
  },
  {
   "cell_type": "code",
   "execution_count": null,
   "id": "f3a2e947",
   "metadata": {},
   "outputs": [],
   "source": [
    "10. What is difference between the list methods append() and insert()?\n",
    "append() its adding value at the end.Insert() its adding value anywhere inside of the list."
   ]
  },
  {
   "cell_type": "code",
   "execution_count": null,
   "id": "70b35499",
   "metadata": {},
   "outputs": [],
   "source": [
    "11. What are the two methods for removing items from a list?\n",
    "remove function and delete method"
   ]
  },
  {
   "cell_type": "code",
   "execution_count": null,
   "id": "35eb43d6",
   "metadata": {},
   "outputs": [],
   "source": [
    "12. Describe how list values and string values are identical.\n",
    "They both have indexes.You can use loop,concatinate,replicate\n"
   ]
  },
  {
   "cell_type": "code",
   "execution_count": null,
   "id": "a210a21b",
   "metadata": {},
   "outputs": [],
   "source": [
    "13. What are the difference between tuples and lists?\n",
    "\n",
    "List is mutable and tuples are not\n"
   ]
  },
  {
   "cell_type": "code",
   "execution_count": null,
   "id": "00a2e811",
   "metadata": {},
   "outputs": [],
   "source": [
    "14. How do you type a tuple value that only contains the integer 42?\n",
    "(42.)"
   ]
  },
  {
   "cell_type": "code",
   "execution_count": null,
   "id": "94ec6480",
   "metadata": {},
   "outputs": [],
   "source": [
    "15. How do you get a list values tuple form? How do you get a tuple values list form?\n",
    "\n",
    "tupple()\n",
    "list()"
   ]
  },
  {
   "cell_type": "code",
   "execution_count": null,
   "id": "4b491ab0",
   "metadata": {},
   "outputs": [],
   "source": [
    "16. Variables that \"contain\" list values are not necessarily lists themselves. Instead, what do they\n",
    "contain?\n",
    "there are refrencing to the list values\n"
   ]
  },
  {
   "cell_type": "code",
   "execution_count": null,
   "id": "053d956e",
   "metadata": {},
   "outputs": [],
   "source": [
    "17. How do you distinguish between copy.copy() and copy.deepcopy()?\n",
    "\n",
    "copy.copy() wil copy specific list\n",
    "copy.deepcopy() will deply copy entier list."
   ]
  },
  {
   "cell_type": "code",
   "execution_count": null,
   "id": "2bca526a",
   "metadata": {},
   "outputs": [],
   "source": [
    "\n"
   ]
  },
  {
   "cell_type": "code",
   "execution_count": null,
   "id": "8e05b019",
   "metadata": {},
   "outputs": [],
   "source": []
  },
  {
   "cell_type": "code",
   "execution_count": null,
   "id": "8613c9b6",
   "metadata": {},
   "outputs": [],
   "source": []
  }
 ],
 "metadata": {
  "kernelspec": {
   "display_name": "Python 3 (ipykernel)",
   "language": "python",
   "name": "python3"
  },
  "language_info": {
   "codemirror_mode": {
    "name": "ipython",
    "version": 3
   },
   "file_extension": ".py",
   "mimetype": "text/x-python",
   "name": "python",
   "nbconvert_exporter": "python",
   "pygments_lexer": "ipython3",
   "version": "3.9.7"
  }
 },
 "nbformat": 4,
 "nbformat_minor": 5
}
