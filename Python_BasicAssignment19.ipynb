{
 "cells": [
  {
   "cell_type": "code",
   "execution_count": null,
   "id": "35c56378",
   "metadata": {},
   "outputs": [],
   "source": [
    "Question1\n",
    "Create a function that takes a string and returns a string in which each character is repeated\n",
    "once.\n",
    "\n",
    "def double(str):\n",
    "    outstr = ''\n",
    "    for character in str:\n",
    "        outstr = outstr + char + char\n",
    "    return outstr"
   ]
  },
  {
   "cell_type": "code",
   "execution_count": null,
   "id": "b4766a66",
   "metadata": {},
   "outputs": [],
   "source": [
    "Question2\n",
    "Create a function that reverses a boolean value and returns the string \"boolean expected\"\n",
    "if another variable type is given.\n",
    "\n",
    "def fuctionName(int, bool):\n",
    "    if int in range(...):\n",
    "        if bool == True:\n",
    "            return False\n",
    "        else:\n",
    "            return True"
   ]
  },
  {
   "cell_type": "code",
   "execution_count": null,
   "id": "bd030711",
   "metadata": {},
   "outputs": [],
   "source": [
    "Question3\n",
    "Create a function that returns the thickness (in meters) of a piece of paper after folding it n\n",
    "number of times. The paper starts off with a thickness of 0.5mm.\n",
    "\n",
    "def fold(num_folds=50, thickness=0.5):\n",
    "\n",
    "\n",
    "    for i in range(1, num_folds + 1):\n",
    "        thickness = thickness * 0.5\n",
    "\n",
    "        if thickness >= 10000:\n",
    "            # convert to kilometers\n",
    "            t = thickness / 10000.0\n",
    "            units = 'km'\n",
    "        elif thickness >= 1000:\n",
    "            # convert to meters\n",
    "            t = thickness / 1000.0\n",
    "            units = 'm'\n",
    "        elif thickness >= 100:\n",
    "            # convert to centimeters\n",
    "            t = thickness / 100.0\n",
    "            units = 'cm'\n",
    "        else:\n",
    "            # keep in millimeters\n",
    "            t = thickness\n",
    "            units = 'mm'\n",
    "\n",
    "        fmt_string = '{n} folds, thickness = {thickness:G} {units}'\n",
    "        print(fmt_string.format(n=i, thickness=t, units=units))\n",
    "\n",
    "\n",
    "if __name__ == \"__main__\":\n",
    "    n = input(\"\\n\\nHow many folds? \")\n",
    "    fold(n)"
   ]
  },
  {
   "cell_type": "code",
   "execution_count": null,
   "id": "05b1d696",
   "metadata": {},
   "outputs": [],
   "source": [
    "Question4.\n",
    "Create a function that takes a single string as argument and returns an ordered list containing\n",
    "the indices of all capital letters in the string.\n",
    "\n",
    "def capitals(word):\n",
    "    inds = []\n",
    "    i = 0\n",
    "    for l in word:\n",
    "        if l.isupper():\n",
    "            inds.append(i)\n",
    "        i += 1\n",
    "    return inds"
   ]
  },
  {
   "cell_type": "code",
   "execution_count": null,
   "id": "ca8747d4",
   "metadata": {},
   "outputs": [],
   "source": [
    "Question5\n",
    "Using list comprehensions, create a function that finds all even numbers from 1 to the given\n",
    "number.\n",
    "\n",
    "list1 = [10, 21, 4, 45, 66, 93]\n",
    " \n",
    "for num in list1:\n",
    " \n",
    "    if num % 2 == 0:\n",
    "        print(num, end=\" \")"
   ]
  },
  {
   "cell_type": "code",
   "execution_count": null,
   "id": "c717dbf3",
   "metadata": {},
   "outputs": [],
   "source": []
  }
 ],
 "metadata": {
  "kernelspec": {
   "display_name": "Python 3 (ipykernel)",
   "language": "python",
   "name": "python3"
  },
  "language_info": {
   "codemirror_mode": {
    "name": "ipython",
    "version": 3
   },
   "file_extension": ".py",
   "mimetype": "text/x-python",
   "name": "python",
   "nbconvert_exporter": "python",
   "pygments_lexer": "ipython3",
   "version": "3.9.7"
  }
 },
 "nbformat": 4,
 "nbformat_minor": 5
}
