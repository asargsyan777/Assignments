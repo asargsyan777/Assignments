{
 "cells": [
  {
   "cell_type": "code",
   "execution_count": null,
   "id": "04271553",
   "metadata": {},
   "outputs": [],
   "source": [
    "Question 1\n",
    "Create a function that takes a list of non-negative integers and strings and return a new list\n",
    "without the strings.\n",
    "\n",
    "def filter_list(lst):\n",
    "    intlist = []\n",
    "    while len(lst) > 0:\n",
    "        if isinstance(lst[0],int):\n",
    "            if lst[0] >= 0\n",
    "                intlist.append(lst[0])\n",
    "                lst.remove(lst[0])\n",
    "            else:\n",
    "                lst.remove(lst[0])\n",
    "        if isinstance(lst[0],str):\n",
    "            lst.remove(lst[0])\n",
    "    return (intlist)"
   ]
  },
  {
   "cell_type": "code",
   "execution_count": null,
   "id": "a0c252bb",
   "metadata": {},
   "outputs": [],
   "source": [
    "Question 2\n",
    "The \"Reverser\" takes a string as input and returns that string in reverse order, with the\n",
    "opposite case.\n",
    "\n",
    "def reverse(string):\n",
    "string = \"\".join(reversed(string))\n",
    "return string\n",
    "s = \"SoftHunt\"\n",
    "print (\"The original string is : \",end=\"\")\n",
    "print (s)\n",
    "print (\"The reversed string(using reversed) is : \",end=\"\")\n",
    "print (reverse(s))"
   ]
  },
  {
   "cell_type": "code",
   "execution_count": null,
   "id": "c849f6cb",
   "metadata": {},
   "outputs": [],
   "source": [
    "Question 3\n",
    "With Python 3, you can assign variables from lists in a much more succinct way. Create\n",
    "variables first, middle and last from the given list using destructuring assignment\n",
    "\n",
    "a, *mid, b = [1, 2, 3, 4, 5, 6]\n",
    "print(a, mid, b)"
   ]
  },
  {
   "cell_type": "code",
   "execution_count": null,
   "id": "75f1f462",
   "metadata": {},
   "outputs": [],
   "source": [
    "Question 4\n",
    "Write a function that calculates the factorial of a number recursively.\n",
    "\n",
    "int factorial(int number){\n",
    "    if(number==1){\n",
    "        return number;\n",
    "    }\n",
    "    return number*factorial(number - 1);\n",
    "}\n",
    "int main(){\n",
    "    int a=factorial(5);\n",
    "    printf(\"%d\",a);\n",
    "}"
   ]
  },
  {
   "cell_type": "code",
   "execution_count": null,
   "id": "e418c1b2",
   "metadata": {},
   "outputs": [],
   "source": [
    "Question 5\n",
    "Write a function that moves all elements of one type to the end of the list.\n",
    "\n",
    "test_list = ['3', '5', '7', '9', '11']\n",
    "print (\"The original list is : \" + str(test_list))\n",
    "\n",
    "test_list.sort(key = '5'.__eq__)\n",
    "\n",
    "print (\"The modified element moved list is : \" + str(test_list))"
   ]
  },
  {
   "cell_type": "code",
   "execution_count": null,
   "id": "dffbf891",
   "metadata": {},
   "outputs": [],
   "source": []
  }
 ],
 "metadata": {
  "kernelspec": {
   "display_name": "Python 3 (ipykernel)",
   "language": "python",
   "name": "python3"
  },
  "language_info": {
   "codemirror_mode": {
    "name": "ipython",
    "version": 3
   },
   "file_extension": ".py",
   "mimetype": "text/x-python",
   "name": "python",
   "nbconvert_exporter": "python",
   "pygments_lexer": "ipython3",
   "version": "3.9.7"
  }
 },
 "nbformat": 4,
 "nbformat_minor": 5
}
