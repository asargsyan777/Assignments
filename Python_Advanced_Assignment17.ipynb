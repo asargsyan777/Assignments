{
 "cells": [
  {
   "cell_type": "code",
   "execution_count": null,
   "id": "88d66c19",
   "metadata": {},
   "outputs": [],
   "source": [
    "Q1. Explain the difference between greedy and non-greedy syntax with visual terms in as few words\n",
    "as possible. What is the bare minimum effort required to transform a greedy pattern into a non-greedy\n",
    "one? What characters or characters can you introduce or change?\n",
    "\n",
    "In greedy approach regex pattern tend to consume maximum characters in a source string.For example\n",
    "textstr = \"bcabdcab\"\n",
    "textstr.gsub!(/(.*)ab/, \"xxx\")  \n",
    "# this will match whole `bcabdcab` and return `xxx`\n",
    "\n",
    "Here * is a greedy quantifier.In non greedy approach regex engine returns when it satisfies the matching criteria.To make a quantifier non-greedy append ?\n",
    "textstr = \"bcabdcab\"\n",
    "textstr.gsub!(/(.*?)ab/, \"xxx\")  \n",
    "# this will match only `bcab` part and return `xxxdcab`\n",
    "\n",
    "gsub returns a copy of str(first argument) with the all occurrences of pattern substituted for the second argument"
   ]
  },
  {
   "cell_type": "code",
   "execution_count": null,
   "id": "e8b29cb9",
   "metadata": {},
   "outputs": [],
   "source": [
    "Q2. When exactly does greedy versus non-greedy make a difference?  What if youre looking for a\n",
    "non-greedy match but the only one available is greedy?\n",
    "\n",
    "In Greedy Method, sometimes there is no such guarantee of getting Optimal Solution. It is guaranteed that Dynamic Programming will generate an optimal solution as it generally considers all possible cases and then choose the best. A greedy method follows the problem solving heuristic of making the locally optimal choice at each stage."
   ]
  },
  {
   "cell_type": "code",
   "execution_count": null,
   "id": "37480858",
   "metadata": {},
   "outputs": [],
   "source": [
    "Q3. In a simple match of a string, which looks only for one match and does not do any replacement, is\n",
    "the use of a nontagged group likely to make any practical difference?\n",
    "I dont think so"
   ]
  },
  {
   "cell_type": "code",
   "execution_count": null,
   "id": "111574c4",
   "metadata": {},
   "outputs": [],
   "source": [
    "Q4. Describe a scenario in which using a nontagged category would have a significant impact on the\n",
    "programs outcomes."
   ]
  },
  {
   "cell_type": "code",
   "execution_count": null,
   "id": "d44fe981",
   "metadata": {},
   "outputs": [],
   "source": [
    "Q5.Unlike a normal regex pattern, a look-ahead condition does not consume the characters it\n",
    "examines. Describe a situation in which this could make a difference in the results of your\n",
    "programme.\n",
    "\n",
    "(?=foo) Lookahead --Asserts that what immediately follows the current position in the string is foo"
   ]
  },
  {
   "cell_type": "code",
   "execution_count": null,
   "id": "32bc5e01",
   "metadata": {},
   "outputs": [],
   "source": [
    "Q6. In standard expressions, what is the difference between positive look-ahead and negative look-\n",
    "ahead?\n",
    "Positive lookahead: (?= «pattern») matches if pattern matches what comes after the current location in the input string. Negative lookahead: (?! «pattern») matches if pattern does not match what comes after the current location in the input string."
   ]
  },
  {
   "cell_type": "code",
   "execution_count": null,
   "id": "39176024",
   "metadata": {},
   "outputs": [],
   "source": [
    "Q7. What is the benefit of referring to groups by name rather than by number in a standard\n",
    "expression?\n",
    "\n",
    "The advantage to named groups is that it adds readability and understandability to the code, so that you can easily see what part of a regular expression match is being referenced."
   ]
  },
  {
   "cell_type": "code",
   "execution_count": null,
   "id": "560eee4b",
   "metadata": {},
   "outputs": [],
   "source": [
    "Q8. Can you identify repeated items within a target string using named groups, as in \"The cow\n",
    "jumped over the moon\"?\n",
    "\n",
    "string target = \"The cow cow jumped over the the moon.\";\n",
    "string result = regex_replace(target, reg1, replacement);\n",
    "std::cout << result << std::endl;"
   ]
  },
  {
   "cell_type": "code",
   "execution_count": null,
   "id": "5db1bf5e",
   "metadata": {},
   "outputs": [],
   "source": [
    "Q9. When parsing a string, what is at least one thing that the Scanner interface does for you that the\n",
    "re.findall feature does not?\n",
    "\n",
    "findall() Return all non-overlapping matches of pattern in string, as a list of strings. The string is scanned left-to-right, and matches are returned in the order found."
   ]
  },
  {
   "cell_type": "code",
   "execution_count": null,
   "id": "c3ea48d5",
   "metadata": {},
   "outputs": [],
   "source": [
    "Q10. Does a scanner object have to be named scanner?\n",
    "\n",
    "Yes.\n"
   ]
  }
 ],
 "metadata": {
  "kernelspec": {
   "display_name": "Python 3 (ipykernel)",
   "language": "python",
   "name": "python3"
  },
  "language_info": {
   "codemirror_mode": {
    "name": "ipython",
    "version": 3
   },
   "file_extension": ".py",
   "mimetype": "text/x-python",
   "name": "python",
   "nbconvert_exporter": "python",
   "pygments_lexer": "ipython3",
   "version": "3.9.7"
  }
 },
 "nbformat": 4,
 "nbformat_minor": 5
}
