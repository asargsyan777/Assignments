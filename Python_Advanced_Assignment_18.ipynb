{
 "cells": [
  {
   "cell_type": "code",
   "execution_count": null,
   "id": "24da0143",
   "metadata": {},
   "outputs": [],
   "source": [
    "Q1. Describe the differences between text and binary files in a single paragraph.\n",
    "The main difference is that the text file contains textual information in the form of alphabets, digits and special characters or symbols. On the other hand, a binary file contains bytes or a compiled version of a text file."
   ]
  },
  {
   "cell_type": "code",
   "execution_count": null,
   "id": "b737ef47",
   "metadata": {},
   "outputs": [],
   "source": [
    "Q2. What are some scenarios where using text files will be the better option? When would you like to\n",
    "use binary files instead of text files?\n",
    "\n",
    "While both binary and text files contain data stored as a series of bits (binary values of 1s and 0s), the bits in text files represent characters, while the bits in binary files represent custom data. While text files contain only textual data, binary files may contain both textual and custom binary data."
   ]
  },
  {
   "cell_type": "code",
   "execution_count": null,
   "id": "44eadaaa",
   "metadata": {},
   "outputs": [],
   "source": [
    "Q3. What are some of the issues with using binary operations to read and write a Python integer\n",
    "directly to disc?\n",
    "We can open some binary files in the normal text editor but we cant read the content present inside ."
   ]
  },
  {
   "cell_type": "code",
   "execution_count": null,
   "id": "b083556d",
   "metadata": {},
   "outputs": [],
   "source": [
    "Q4. Describe a benefit of using the with keyword instead of explicitly opening a file.\n",
    "\n",
    "Using with means that the file will be closed as soon as you leave the block. This is beneficial because closing a file is something that can easily be forgotten and ties up resources that you no longer need."
   ]
  },
  {
   "cell_type": "code",
   "execution_count": null,
   "id": "43fa67b7",
   "metadata": {},
   "outputs": [],
   "source": [
    "Q5. Does Python have the trailing newline while reading a line of text? Does Python append a\n",
    "newline when you write a line of text?\n",
    "Yes-it does-for example.\n",
    "with open('file_name.txt', 'a') as f:\n",
    "        f.write(file + '\\n')"
   ]
  },
  {
   "cell_type": "code",
   "execution_count": null,
   "id": "d0942413",
   "metadata": {},
   "outputs": [],
   "source": [
    "Q6. What file operations enable for random-access operation?\n",
    "\n",
    "A random access file behaves like a large array of bytes stored in the file system. There is a kind of cursor, or index into the implied array, called the file pointer; input operations read bytes starting at the file pointer and advance the file pointer past the bytes read."
   ]
  },
  {
   "cell_type": "code",
   "execution_count": null,
   "id": "f392902c",
   "metadata": {},
   "outputs": [],
   "source": [
    "Q7. When do you think youll use the struct package the most?\n",
    "\n",
    "The struct module in Python is used to convert native Python data types such as strings and numbers into a string of bytes and vice versa."
   ]
  },
  {
   "cell_type": "code",
   "execution_count": null,
   "id": "ba49aaae",
   "metadata": {},
   "outputs": [],
   "source": [
    "Q8. When is pickling the best option?\n",
    "pickle should always be the preferred way to serialize Python objects."
   ]
  },
  {
   "cell_type": "code",
   "execution_count": null,
   "id": "81c31ae6",
   "metadata": {},
   "outputs": [],
   "source": [
    "Q9. When will it be best to use the shelve package?\n",
    "Shelve is a python module used to store objects in a file. The shelve module implements persistent storage for arbitrary Python objects which can be pickled"
   ]
  },
  {
   "cell_type": "code",
   "execution_count": null,
   "id": "61109d83",
   "metadata": {},
   "outputs": [],
   "source": [
    "Q10. What is a special restriction when using the shelve package, as opposed to using other data\n",
    "dictionaries?\n",
    "Carry out the code refactoring to make the program simpler and more efficient."
   ]
  }
 ],
 "metadata": {
  "kernelspec": {
   "display_name": "Python 3 (ipykernel)",
   "language": "python",
   "name": "python3"
  },
  "language_info": {
   "codemirror_mode": {
    "name": "ipython",
    "version": 3
   },
   "file_extension": ".py",
   "mimetype": "text/x-python",
   "name": "python",
   "nbconvert_exporter": "python",
   "pygments_lexer": "ipython3",
   "version": "3.9.7"
  }
 },
 "nbformat": 4,
 "nbformat_minor": 5
}
