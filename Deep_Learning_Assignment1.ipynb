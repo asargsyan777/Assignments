{
 "cells": [
  {
   "cell_type": "code",
   "execution_count": null,
   "id": "9eff7c80",
   "metadata": {},
   "outputs": [],
   "source": [
    "1. What is the function of a summation junction of a neuron? What is threshold activation\n",
    "function?\n",
    "An activation function in a neural network defines how the weighted sum of the input is transformed into an output from a node or nodes in a layer of the network."
   ]
  },
  {
   "cell_type": "code",
   "execution_count": null,
   "id": "1a67c344",
   "metadata": {},
   "outputs": [],
   "source": [
    "2. What is a step function? What is the difference of step function with threshold function?\n",
    "\n",
    "A step function is a function like that used by the original Perceptron. The output is a certain value, A1, if the input sum is above a certain threshold and A0 if the input sum is below a certain threshold. The values used by the Perceptron were A1 = 1 and A0 = 0."
   ]
  },
  {
   "cell_type": "code",
   "execution_count": null,
   "id": "1406d296",
   "metadata": {},
   "outputs": [],
   "source": [
    "3. Explain the McCulloch–Pitts model of neuron.\n",
    "\n",
    "The McCulloch-Pitts model was an extremely simple artificial neuron. The inputs could be either a zero or a one. And the output was a zero or a one. And each input could be either excitatory or inhibitory. Now the whole point was to sum the inputs."
   ]
  },
  {
   "cell_type": "code",
   "execution_count": null,
   "id": "692ff9dc",
   "metadata": {},
   "outputs": [],
   "source": [
    "4. Explain the ADALINE network model.\n",
    "As already stated Adaline is a single-unit neuron, which receives input from several units and also from one unit, called bias. An Adeline model consists of trainable weights. The inputs are of two values (+1 or -1) and the weights have signs (positive or negative). Initially random weights are assigned.M"
   ]
  },
  {
   "cell_type": "code",
   "execution_count": null,
   "id": "d1d0945f",
   "metadata": {},
   "outputs": [],
   "source": [
    "5. What is the constraint of a simple perceptron? Why it may fail with a real-world data set?\n",
    "Perceptrons only represent linearly separable problems. They fail to converge if the training examples are not linearly separable"
   ]
  },
  {
   "cell_type": "code",
   "execution_count": null,
   "id": "f38006e9",
   "metadata": {},
   "outputs": [],
   "source": [
    "6. What is linearly inseparable problem? What is the role of the hidden layer?\n",
    "Linear separability means that there exist a hyperplane separating the classes in the feature space, i.e. ∑wixi+b."
   ]
  },
  {
   "cell_type": "code",
   "execution_count": null,
   "id": "6c4b6c81",
   "metadata": {},
   "outputs": [],
   "source": [
    "7. Explain XOR problem in case of a simple perceptron.\n",
    "The XOr problem is that we need to build a Neural Network (a perceptron in our case) to produce the truth table related to the XOr logical operator. This is a binary classification problem. Hence, supervised learning is a better way to solve it."
   ]
  },
  {
   "cell_type": "code",
   "execution_count": null,
   "id": "5e4e5084",
   "metadata": {},
   "outputs": [],
   "source": [
    "8. Design a multi-layer perceptron to implement A XOR B.\n",
    "\n",
    "The XOr problem is that we need to build a Neural Network (a perceptron in our case) to produce the truth table related to the XOr logical operator. This is a binary classification problem. Hence, supervised learning is a better way to solve it. In this case, we will be using perceptrons."
   ]
  },
  {
   "cell_type": "code",
   "execution_count": null,
   "id": "288c2b40",
   "metadata": {},
   "outputs": [],
   "source": [
    "9. Explain the single-layer feed forward architecture of ANN.\n",
    "\n",
    "In this type of network, we have only two layers input layer and output layer but the input layer does not count because no computation is performed in this layer. The output layer is formed when different weights are applied on input nodes and the cumulative effect per node is taken."
   ]
  },
  {
   "cell_type": "code",
   "execution_count": null,
   "id": "fcfae759",
   "metadata": {},
   "outputs": [],
   "source": [
    "10. Explain the competitive network architecture of ANN.\n",
    "\n",
    "ANN is made of three layers namely input layer, output layer, and hidden layer/s. There must be a connection from the nodes in the input layer with the nodes in the hidden layer and from each hidden layer node with the nodes of the output layer. The input layer takes the data from the network."
   ]
  },
  {
   "cell_type": "code",
   "execution_count": null,
   "id": "15e514bb",
   "metadata": {},
   "outputs": [],
   "source": [
    "11. Consider a multi-layer feed forward neural network. Enumerate and explain steps in the\n",
    "backpropagation algorithm used to train the network.\n",
    "\n",
    "Backpropagation is the essence of neural network training. It is the method of fine-tuning the weights of a neural network based on the error rate obtained in the previous epoch (i.e., iteration). Proper tuning of the weights allows you to reduce error rates and make the model reliable by increasing its generalization."
   ]
  },
  {
   "cell_type": "code",
   "execution_count": null,
   "id": "9c92e5c2",
   "metadata": {},
   "outputs": [],
   "source": [
    "12. What are the advantages and disadvantages of neural networks?\n",
    "\n",
    "Efficiency. ...\n",
    "Continuous Learning. ...\n",
    "Data retrieval. ...\n",
    "Multitasking is one of the common advantages of Neural Networks. ...\n",
    "Wide Applications. ...\n",
    "Hardware dependent. ...\n",
    "Complex Algorithms are foreseen disadvantages of Neural Networks. ...\n",
    "Black Box Nature."
   ]
  },
  {
   "cell_type": "code",
   "execution_count": null,
   "id": "7cc07a8c",
   "metadata": {},
   "outputs": [],
   "source": []
  }
 ],
 "metadata": {
  "kernelspec": {
   "display_name": "Python 3 (ipykernel)",
   "language": "python",
   "name": "python3"
  },
  "language_info": {
   "codemirror_mode": {
    "name": "ipython",
    "version": 3
   },
   "file_extension": ".py",
   "mimetype": "text/x-python",
   "name": "python",
   "nbconvert_exporter": "python",
   "pygments_lexer": "ipython3",
   "version": "3.9.7"
  }
 },
 "nbformat": 4,
 "nbformat_minor": 5
}
