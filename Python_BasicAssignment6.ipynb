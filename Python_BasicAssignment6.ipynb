{
 "cells": [
  {
   "cell_type": "code",
   "execution_count": null,
   "id": "e40c5660",
   "metadata": {},
   "outputs": [],
   "source": [
    "1. Write a Python Program to Display Fibonacci Sequence Using Recursion?\n",
    "\n",
    "def recur_fibo(n):\n",
    "   if n <= 1:\n",
    "       return n\n",
    "   else:\n",
    "       return(recur_fibo(n-1) + recur_fibo(n-2))\n",
    "\n",
    "nterms = 10\n",
    "\n",
    "if nterms <= 0:\n",
    "   print(\"Plese enter a positive integer\")\n",
    "else:\n",
    "   print(\"Fibonacci sequence:\")\n",
    "   for i in range(nterms):\n",
    "       print(recur_fibo(i))"
   ]
  },
  {
   "cell_type": "code",
   "execution_count": null,
   "id": "0898923f",
   "metadata": {},
   "outputs": [],
   "source": [
    "2. Write a Python Program to Find Factorial of Number Using Recursion?\n",
    "\n",
    "def factorial(n): \n",
    "      \n",
    "    if (n==1 or n==0):\n",
    "          \n",
    "        return 1\n",
    "      \n",
    "    else:\n",
    "          \n",
    "        return (n * factorial(n - 1)) \n",
    "  \n",
    "num = 5; \n",
    "print(\"number : \",num)\n",
    "print(\"Factorial : \",factorial(num))"
   ]
  },
  {
   "cell_type": "code",
   "execution_count": null,
   "id": "45578f9e",
   "metadata": {},
   "outputs": [],
   "source": [
    "3. Write a Python Program to calculate your Body Mass Index?\n",
    "\n",
    "def BMI(height, weight):\n",
    "    bmi = weight/(height**2)\n",
    "    return bmi\n",
    " \n",
    "height = 1.79832\n",
    "weight = 70\n",
    " \n",
    "bmi = BMI(height, weight)\n",
    "print(\"The BMI is\", format(bmi), \"so \", end='')\n",
    " \n",
    "if (bmi < 18.5):\n",
    "    print(\"underweight\")\n",
    " \n",
    "elif ( bmi >= 18.5 and bmi < 24.9):\n",
    "    print(\"Healthy\")\n",
    " \n",
    "elif ( bmi >= 24.9 and bmi < 30):\n",
    "    print(\"overweight\")\n",
    " \n",
    "elif ( bmi >=30):\n",
    "    print(\"Suffering from Obesity\")"
   ]
  },
  {
   "cell_type": "code",
   "execution_count": null,
   "id": "2affb9e3",
   "metadata": {},
   "outputs": [],
   "source": [
    "4. Write a Python Program to calculate the natural logarithm of any number?\n",
    "\n",
    "import numpy\n",
    "\n",
    "x = numpy.log(10)\n",
    "\n",
    "print(x)"
   ]
  },
  {
   "cell_type": "code",
   "execution_count": null,
   "id": "cbdc77a3",
   "metadata": {},
   "outputs": [],
   "source": [
    "5. Write a Python Program for cube sum of first n natural numbers?\n",
    "\n",
    "def sumOfSeries(n):\n",
    "   sum = 0\n",
    "   for i in range(1, n+1):\n",
    "      sum +=i*i*i\n",
    "   return sum\n",
    "n = 3\n",
    "print(sumOfSeries(n))"
   ]
  }
 ],
 "metadata": {
  "kernelspec": {
   "display_name": "Python 3 (ipykernel)",
   "language": "python",
   "name": "python3"
  },
  "language_info": {
   "codemirror_mode": {
    "name": "ipython",
    "version": 3
   },
   "file_extension": ".py",
   "mimetype": "text/x-python",
   "name": "python",
   "nbconvert_exporter": "python",
   "pygments_lexer": "ipython3",
   "version": "3.9.7"
  }
 },
 "nbformat": 4,
 "nbformat_minor": 5
}
