{
 "cells": [
  {
   "cell_type": "code",
   "execution_count": null,
   "id": "2f4e0dd5",
   "metadata": {},
   "outputs": [],
   "source": [
    "1. Describe the structure of an artificial neuron. How is it similar to a biological neuron? What\n",
    "are its main components?\n",
    "\n",
    "Artificial neuron also known as perceptron is the basic unit of the neural network. In simple terms, it is a mathematical function based on a model of biological neurons. It can also be seen as a simple logic gate with binary outputs. They are sometimes also called perceptrons."
   ]
  },
  {
   "cell_type": "code",
   "execution_count": null,
   "id": "e1a2048f",
   "metadata": {},
   "outputs": [],
   "source": [
    "2. What are the different types of activation functions popularly used? Explain each of them.\n",
    "\n",
    "Binary Step Function.\n",
    "Linear Activation Function.\n",
    "Sigmoid/Logistic Activation Function.\n",
    "The derivative of the Sigmoid Activation Function.\n",
    "Tanh Function (Hyperbolic Tangent)\n",
    "Gradient of the Tanh Activation Function.\n",
    "ReLU Activation Function.\n",
    "The Dying ReLU problem."
   ]
  },
  {
   "cell_type": "code",
   "execution_count": null,
   "id": "faab9313",
   "metadata": {},
   "outputs": [],
   "source": [
    "3.\n",
    "1. Explain, in details, Rosenblatt’s perceptron model. How can a set of data be classified using a\n",
    "simple perceptron?\n",
    "\n",
    "Rosenblatt perceptron is a binary single neuron model. The inputs integration is implemented through the addition of the weighted inputs that have fixed weights obtained during the training stage. If the result of this addition is larger than a given threshold θ the neuron fires."
   ]
  },
  {
   "cell_type": "code",
   "execution_count": null,
   "id": "8ab1d12f",
   "metadata": {},
   "outputs": [],
   "source": [
    "3. What is artificial neural network (ANN)? Explain some of the salient highlights in the\n",
    "different architectural options for ANN.\n",
    "\n",
    "An Artificial Neural Network (ANN) is an information processing paradigm that is inspired by the brain. ANNs, like people, learn by examples. An ANN is configured for a specific application, such as pattern recognition or data classification, through a learning process."
   ]
  },
  {
   "cell_type": "code",
   "execution_count": null,
   "id": "0a06e86b",
   "metadata": {},
   "outputs": [],
   "source": [
    "4. Explain the learning process of an ANN. Explain, with example, the challenge in assigning\n",
    "synaptic weights for the interconnection between neurons? How can this challenge be\n",
    "addressed?\n",
    "\n",
    "An artificial neural network's learning rule or learning process is a method, mathematical logic or algorithm which improves the network's performance and/or training time. Usually, this rule is applied repeatedly over the network."
   ]
  },
  {
   "cell_type": "code",
   "execution_count": null,
   "id": "3191d5a9",
   "metadata": {},
   "outputs": [],
   "source": [
    "5. Explain, in details, the backpropagation algorithm. What are the limitations of this\n",
    "algorithm?\n",
    "\n",
    "It relies on input to perform on a specific problem.\n",
    "Sensitive to complex/noisy data.\n",
    "It needs the derivatives of activation functions for the network design time."
   ]
  },
  {
   "cell_type": "code",
   "execution_count": null,
   "id": "dae7ac49",
   "metadata": {},
   "outputs": [],
   "source": [
    "6. Describe, in details, the process of adjusting the interconnection weights in a multi-layer\n",
    "neural network.\n",
    "\n",
    "The backpropagation algorithm is applicable for multi-layer feed-forward network. It is a supervised learning algorithm which continues adjusting the weights of the connected neurons with an objective to reduce the deviation of the output signal from the target output."
   ]
  },
  {
   "cell_type": "code",
   "execution_count": null,
   "id": "1d4bb092",
   "metadata": {},
   "outputs": [],
   "source": [
    "7. What are the steps in the backpropagation algorithm? Why a multi-layer neural network is\n",
    "required?\n",
    "\n",
    "Step – 1: Forward Propagation. Step – 2: Backward Propagation. Step – 3: Putting all the values together and calculating the updated weight value."
   ]
  },
  {
   "cell_type": "code",
   "execution_count": null,
   "id": "40ac4736",
   "metadata": {},
   "outputs": [],
   "source": [
    "8. Write short notes on:\n",
    "\n",
    "1. Artificial neuron  --An artificial neuron is a mathematical function conceived as a model of biological neurons, a neural network"
   ]
  },
  {
   "cell_type": "code",
   "execution_count": null,
   "id": "8959578e",
   "metadata": {},
   "outputs": [],
   "source": []
  },
  {
   "cell_type": "code",
   "execution_count": null,
   "id": "b6ed9811",
   "metadata": {},
   "outputs": [],
   "source": []
  }
 ],
 "metadata": {
  "kernelspec": {
   "display_name": "Python 3 (ipykernel)",
   "language": "python",
   "name": "python3"
  },
  "language_info": {
   "codemirror_mode": {
    "name": "ipython",
    "version": 3
   },
   "file_extension": ".py",
   "mimetype": "text/x-python",
   "name": "python",
   "nbconvert_exporter": "python",
   "pygments_lexer": "ipython3",
   "version": "3.9.7"
  }
 },
 "nbformat": 4,
 "nbformat_minor": 5
}
