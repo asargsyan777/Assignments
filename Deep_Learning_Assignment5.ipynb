{
 "cells": [
  {
   "cell_type": "code",
   "execution_count": null,
   "id": "2b612280",
   "metadata": {},
   "outputs": [],
   "source": [
    "1. Why would you want to use the Data API?\n",
    "\n",
    "APIs are needed to bring applications together in order to perform a designed function built around sharing data and executing pre-defined processes. They work as the middle man, allowing developers to build new programmatic interactions between the various applications people and businesses use on a daily basis."
   ]
  },
  {
   "cell_type": "code",
   "execution_count": null,
   "id": "7ab2258f",
   "metadata": {},
   "outputs": [],
   "source": [
    "2. What are the benefits of splitting a large dataset into multiple files?\n",
    "\n",
    "Multiple Users can Access Data Simultaneously. When the data in a database is split, in frontend and backend, it can be easily supplied to multiple users sharing a network. ...\n",
    "Provides Better Protection. ...\n",
    "Allows for Future Planning. ...\n",
    "Easy to Modify User Interface."
   ]
  },
  {
   "cell_type": "code",
   "execution_count": null,
   "id": "4d22835b",
   "metadata": {},
   "outputs": [],
   "source": [
    "3. During training, how can you tell that your input pipeline is the bottleneck? What can you do\n",
    "to fix it?\n",
    "\n",
    "Choose the best model for the task. ...\n",
    "Profile your model. ...\n",
    "Profile and optimize operators in the graph. ...\n",
    "Optimize your model. ...\n",
    "Tweak the number of threads. ...\n",
    "Eliminate redundant copies."
   ]
  },
  {
   "cell_type": "code",
   "execution_count": null,
   "id": "8e3695cf",
   "metadata": {},
   "outputs": [],
   "source": [
    "4. Can you save any binary data to a TFRecord file, or only serialized protocol buffers?\n",
    "The TFRecord format is a simple format for storing a sequence of binary records. Protocol buffers are a cross-platform, cross-language library for efficient serialization of structured data. Protocol messages are defined by . proto files, these are often the easiest way to understand a message type"
   ]
  },
  {
   "cell_type": "code",
   "execution_count": null,
   "id": "379d45a1",
   "metadata": {},
   "outputs": [],
   "source": [
    "5. Why would you go through the hassle of converting all your data to the Example protobuf\n",
    "format? Why not use your own protobuf definition?\n",
    "\n",
    "Protocol buffers, usually referred as Protobuf, is a protocol developed by Google to allow serialization and deserialization of structured data. Google developed it with the goal to provide a better way, compared to XML, to make systems communicate"
   ]
  },
  {
   "cell_type": "code",
   "execution_count": null,
   "id": "77b66f14",
   "metadata": {},
   "outputs": [],
   "source": [
    "6. When using TFRecords, when would you want to activate compression? Why not do it\n",
    "systematically?\n",
    " The TFRecord file is stored sequentially, enabling fast streaming due to low access times.\n"
   ]
  },
  {
   "cell_type": "code",
   "execution_count": null,
   "id": "35e6add0",
   "metadata": {},
   "outputs": [],
   "source": [
    "7. Data can be preprocessed directly when writing the data files, or within the tf.data pipeline,\n",
    "or in preprocessing layers within your model, or using TF Transform. Can you list a few pros\n",
    "and cons of each option?\n",
    "\n",
    " With Keras preprocessing layers, you can build and export models that are truly end-to-end: models that accept raw images or raw structured data"
   ]
  }
 ],
 "metadata": {
  "kernelspec": {
   "display_name": "Python 3 (ipykernel)",
   "language": "python",
   "name": "python3"
  },
  "language_info": {
   "codemirror_mode": {
    "name": "ipython",
    "version": 3
   },
   "file_extension": ".py",
   "mimetype": "text/x-python",
   "name": "python",
   "nbconvert_exporter": "python",
   "pygments_lexer": "ipython3",
   "version": "3.9.7"
  }
 },
 "nbformat": 4,
 "nbformat_minor": 5
}
