{
 "cells": [
  {
   "cell_type": "markdown",
   "id": "9d2f5c62",
   "metadata": {},
   "source": [
    "1. In the below elements which of them are values or an expression? eg:- values can be\n",
    "integer or string and expressions will be mathematical operators.\n",
    "\n",
    "*       its a expression\n",
    "'hello' its a value\n",
    "-87.8   its a expression\n",
    " -      its an expression\n",
    " /      expression\n",
    " +      expression\n",
    " 6      its a value\n",
    "\n",
    "\n",
    "\n",
    "\n"
   ]
  },
  {
   "cell_type": "markdown",
   "id": "d1def738",
   "metadata": {},
   "source": [
    "2.Whats is the difference between string and Variable\n",
    "\n",
    "Variable its something that hold values.\n",
    "String is where we can store anything we want from numbers to characters and etc.\n"
   ]
  },
  {
   "cell_type": "markdown",
   "id": "bb898eb2",
   "metadata": {},
   "source": [
    "3. Describe three different data types.\n",
    "\n",
    "Interger is holding numbers example  int=7\n",
    "string is holding values example str = \"SUDH\"\n",
    "list is holding different data types example ls =[3,4,5,6,7] print (ls)\n",
    "\n",
    "\n",
    "\n",
    "\n"
   ]
  },
  {
   "cell_type": "markdown",
   "id": "b0c12e1d",
   "metadata": {},
   "source": [
    "4. What is an expression made up of? What do all expressions do?\n",
    "\n",
    "Expression is combination of values,variables and operators. If we want to print an expression the interpreter evaluates the expression and give us the result.\n",
    "for example a = 8+8 then this  variable a stores the expression value."
   ]
  },
  {
   "cell_type": "markdown",
   "id": "d5e83dc3",
   "metadata": {},
   "source": [
    "5. This assignment statements, like spam = 10. What is the difference between an\n",
    "expression and a statement?\n",
    "\n",
    "A statement is an instruction that the Python interpreter can execute. When we type a statement then its executes and displays the result and the result of a print statement is a value.\n",
    "Expression is combination of mathematical operations.\n",
    "\n"
   ]
  },
  {
   "cell_type": "markdown",
   "id": "a4fb7d9a",
   "metadata": {},
   "source": [
    "6. After running the following code, what does the variable bacon contain?\n",
    "bacon = 22\n",
    "bacon +1    The result will be    bacon = 23"
   ]
  },
  {
   "cell_type": "markdown",
   "id": "d9b80ad2",
   "metadata": {},
   "source": [
    "7. What should the values of the following two terms be?\n",
    "\n",
    "'spam'+'spamspam' will be spamspamspam\n",
    "'spam'*3 will be spamspamspam"
   ]
  },
  {
   "cell_type": "markdown",
   "id": "d84b24ef",
   "metadata": {},
   "source": [
    "8. Why is eggs a valid variable name while 100 is invalid?\n",
    "Because variable name can not be numbers or reserve keywors\n"
   ]
  },
  {
   "cell_type": "markdown",
   "id": "a010683d",
   "metadata": {},
   "source": [
    "9. What three functions can be used to get the integer, floating-point number, or string\n",
    "version of a value?\n",
    "\n",
    "Int,float and str."
   ]
  },
  {
   "cell_type": "markdown",
   "id": "dc512839",
   "metadata": {},
   "source": [
    "10. Why does this expression cause an error? How can you fix it?\n",
    "'I have eaten' + 99 + 'burritos.'\n",
    "\n",
    "Because integer can not be concatinated with a string.It can only concatenate str (not \"int\") to str"
   ]
  }
 ],
 "metadata": {
  "kernelspec": {
   "display_name": "Python 3 (ipykernel)",
   "language": "python",
   "name": "python3"
  },
  "language_info": {
   "codemirror_mode": {
    "name": "ipython",
    "version": 3
   },
   "file_extension": ".py",
   "mimetype": "text/x-python",
   "name": "python",
   "nbconvert_exporter": "python",
   "pygments_lexer": "ipython3",
   "version": "3.9.7"
  }
 },
 "nbformat": 4,
 "nbformat_minor": 5
}
