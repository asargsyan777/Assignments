{
 "cells": [
  {
   "cell_type": "code",
   "execution_count": null,
   "id": "251e700c",
   "metadata": {},
   "outputs": [],
   "source": [
    "Q1. In Python 3.X, what are the names and functions of string object types?\n",
    "\n",
    "Python has a set of built-in methods that you can use on strings.\n",
    "\n",
    "Python String Methods.\n",
    "join()----  Converts the elements of an iterable into a string\n",
    "ljust() --- Returns a left justified version of the string\n",
    "lower() ----Converts a string into lower case\n",
    "replace() --Returns a string where a specified value is replaced with a specified value\n",
    "swapcase() --Swaps cases, lower case becomes upper case and vice versa\n",
    "\n"
   ]
  },
  {
   "cell_type": "code",
   "execution_count": null,
   "id": "11c19075",
   "metadata": {},
   "outputs": [],
   "source": [
    "Q2. How do the string forms in Python 3.X vary in terms of operations?\n",
    "\n",
    "One of Pythons coolest features is the string format operator %. \n",
    "Here is the list of complete set of symbols which can be used along with % −\n",
    "%c\n",
    "character\n",
    "\n",
    "%s\n",
    "string conversion via str() prior to formatting\n",
    "\n",
    "%i\n",
    "signed decimal integer\n",
    "\n",
    "%x\n",
    "hexadecimal integer (lowercase letters)\n",
    "\n",
    "%f\n",
    "floating point real number"
   ]
  },
  {
   "cell_type": "code",
   "execution_count": null,
   "id": "41e1c6a1",
   "metadata": {},
   "outputs": [],
   "source": [
    "Q3. In 3.X, how do you put non-ASCII Unicode characters in a string?\n",
    "\n",
    "In order to use non-ASCII characters, Python requires explicit encoding and decoding of strings into Unicode."
   ]
  },
  {
   "cell_type": "code",
   "execution_count": null,
   "id": "b0538c0c",
   "metadata": {},
   "outputs": [],
   "source": [
    "Q4. In Python 3.X, what are the key differences between text-mode and binary-mode files?\n",
    "\n",
    "The major difference between these two is that a text file contains textual information in the form of alphabets, digits and special characters or symbols. On the other hand, a binary file contains bytes or a compiled version of a text file"
   ]
  },
  {
   "cell_type": "code",
   "execution_count": null,
   "id": "dd7be64a",
   "metadata": {},
   "outputs": [],
   "source": [
    "Q5. How can you interpret a Unicode text file containing text encoded in a different encoding than\n",
    "your platforms default?\n",
    "\n",
    "Python 3 always stores text strings as sequences of Unicode code points. These are values in the range 0-0x10FFFF. They don’t always correspond directly to the characters you read on your screen, but that distinction doesn’t matter for most text manipulation tasks.\n",
    "the files to be processed are in an ASCII compatible encoding, but you don’t know exactly which one. All files must be processed without triggering any exceptions, but some risk of data corruption is deemed acceptable (e.g. collating log files from multiple sources where some data errors are acceptable, so long as the logs remain largely intact)."
   ]
  },
  {
   "cell_type": "code",
   "execution_count": null,
   "id": "062bf2a0",
   "metadata": {},
   "outputs": [],
   "source": [
    "Q6. What is the best way to make a Unicode text file in a particular encoding format?\n",
    "USE str.encode() AND file.write() TO WRITE UNICODE TEXT TO A TEXT FILE\n",
    "Call str.encode(encoding) with encoding set to \"utf8\" to encode str. Call open(file, mode) to open a file with mode set to \"wb\" . \"wb\" writes to files in binary mode and preserves UTF-8 format. Call file.write(data) to write data to the file.\n",
    "For example.\n",
    "unicode_text = u'ʑʒʓʔʕʗʘʙʚʛʜʝʞ'\n",
    "encoded_unicode = unicode_text.encode(\"utf8\")\n",
    "\n",
    "a_file = open(\"textfile.txt\", \"wb\")\n",
    "a_file.write(encoded_unicode)\n",
    "\n",
    "a_file = open(\"textfile.txt\", \"r\")\n",
    "r reads contents of a file\n",
    "\n",
    "contents = a_file.read()\n",
    "\n",
    "print(contents)"
   ]
  },
  {
   "cell_type": "code",
   "execution_count": null,
   "id": "c135f61a",
   "metadata": {},
   "outputs": [],
   "source": [
    "Q7. What qualifies ASCII text as a form of Unicode text?\n",
    "\n",
    "The first 128 Unicode code points represent the ASCII characters, which means that any ASCII text is also a UTF-8 text. UCS-2 uses two bytes (16 bits) for each character but can only encode the first 65,536 code points, the so-called Basic Multilingual Plane (BMP)."
   ]
  },
  {
   "cell_type": "code",
   "execution_count": null,
   "id": "facb6777",
   "metadata": {},
   "outputs": [],
   "source": [
    "Q8. What is Encoding and Decoding in Python 3.X ?\n",
    "\n",
    "The key to understanding how Unicode works lies in the way its character codes (a.k.a. \"code points\") in memory are mapped to their encoded forms as needed for efficient storage or transfer. We say that characters are translated to and from raw bytes using an encoding—the rules for translating a Unicode string into a sequence of bytes, and extracting the string from a sequence of bytes. More procedurally, this translation back and forth between bytes and strings is defined by two terms:\n",
    "\n",
    "Encoding is the process of translating a string of characters into its raw-bytes form, per any desired encoding that's broad enough to store its characters.\n",
    "Decoding is the process of translating a string of raw bytes into its character-string form, per the encoding originally used to create the bytes string."
   ]
  },
  {
   "cell_type": "code",
   "execution_count": null,
   "id": "f247fa5e",
   "metadata": {},
   "outputs": [],
   "source": []
  }
 ],
 "metadata": {
  "kernelspec": {
   "display_name": "Python 3 (ipykernel)",
   "language": "python",
   "name": "python3"
  },
  "language_info": {
   "codemirror_mode": {
    "name": "ipython",
    "version": 3
   },
   "file_extension": ".py",
   "mimetype": "text/x-python",
   "name": "python",
   "nbconvert_exporter": "python",
   "pygments_lexer": "ipython3",
   "version": "3.9.7"
  }
 },
 "nbformat": 4,
 "nbformat_minor": 5
}
