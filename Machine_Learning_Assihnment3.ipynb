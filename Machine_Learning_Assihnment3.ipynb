{
 "cells": [
  {
   "cell_type": "code",
   "execution_count": null,
   "id": "825e5125",
   "metadata": {},
   "outputs": [],
   "source": [
    "1.Explain the term machine learning, and how does it work? Explain two machine learning\n",
    "applications in the business world. What are some of the ethical concerns that machine learning\n",
    "applications could raise?\n",
    "\n",
    "Machine learning (ML) is a type of artificial intelligence (AI) that allows software applications to become more accurate at predicting outcomes without being explicitly programmed to do so\n",
    "Machine Learning in finance helps in portfolio management, algorithmic trading, loan underwriting, and fraud detection. However, future applications of Machine Learning in finance will include Chatbots and other conversational interfaces for security, customer service, and sentiment analysis."
   ]
  },
  {
   "cell_type": "code",
   "execution_count": null,
   "id": "88ed3073",
   "metadata": {},
   "outputs": [],
   "source": [
    "2. Describe the process of human learning:\n",
    "i. Under the supervision of experts\n",
    "\n",
    "ii. With the assistance of experts in an indirect manner\n",
    "\n",
    "iii. Self-education\n",
    "\n",
    "Its the same as ML ,learn from paterns."
   ]
  },
  {
   "cell_type": "code",
   "execution_count": null,
   "id": "8c28f0c2",
   "metadata": {},
   "outputs": [],
   "source": [
    "3. Provide a few examples of various types of machine learning.\n",
    "\n",
    "These are three types of machine learning: supervised learning, unsupervised learning, and reinforcement learning"
   ]
  },
  {
   "cell_type": "code",
   "execution_count": null,
   "id": "b4a78dc2",
   "metadata": {},
   "outputs": [],
   "source": [
    "4. Examine the various forms of machine learning.\n",
    "\n",
    "As new data is fed to these algorithms, they learn and optimise their operations to improve performance, developing 'intelligence' over time. There are four types of machine learning algorithms: supervised, semi-supervised, unsupervised and reinforcement."
   ]
  },
  {
   "cell_type": "code",
   "execution_count": null,
   "id": "5e372c3b",
   "metadata": {},
   "outputs": [],
   "source": [
    "5. Can you explain what a well-posed learning problem is? Explain the main characteristics that must\n",
    "be present to identify a learning problem properly.\n",
    "\n",
    "A (machine learning) problem is well-posed if a solution to it exists, if that solution is unique, and if that solution depends on the data / experience but it is not sensitive to (reasonably small) changes in the data / experience"
   ]
  },
  {
   "cell_type": "code",
   "execution_count": null,
   "id": "63fabd53",
   "metadata": {},
   "outputs": [],
   "source": [
    "6. Is machine learning capable of solving all problems? Give a detailed explanation of your answer.\n",
    "\n",
    "What kind of problems can machine learning solve?\n",
    "In short, machine learning problems typically involve predicting previously observed outcomes using past data. The technology is best suited to solve problems that require unbiased analysis of numerous quantified factors in order to generate an outcome."
   ]
  },
  {
   "cell_type": "code",
   "execution_count": null,
   "id": "5a81d15f",
   "metadata": {},
   "outputs": [],
   "source": [
    "7. What are the various methods and technologies for solving machine learning problems? Any two\n",
    "of them should be defined in detail.\n",
    "\n",
    "The training process continues until the model achieves a desired level of accuracy on the training data. Examples of Supervised Learning: Regression, Decision Tree, Random Forest, KNN, Logistic Regression"
   ]
  },
  {
   "cell_type": "code",
   "execution_count": null,
   "id": "ecb0fd8b",
   "metadata": {},
   "outputs": [],
   "source": [
    "8. Can you explain the various forms of supervised learning? Explain each one with an example\n",
    "application.\n",
    "\n",
    "There are two types of Supervised Learning techniques: Regression and Classification. Classification separates the data, Regression fits the data."
   ]
  },
  {
   "cell_type": "code",
   "execution_count": null,
   "id": "871a7c99",
   "metadata": {},
   "outputs": [],
   "source": [
    "9. What is the difference between supervised and unsupervised learning? With a sample application\n",
    "in each region, explain the differences.\n",
    "\n",
    "To put it simply, supervised learning uses labeled input and output data, while\n",
    "an unsupervised learning algorithm does not. In supervised learning, the \n",
    "algorithm \"learns\" from the training dataset by iteratively making predictions\n",
    "on the data and adjusting for the correct answer."
   ]
  },
  {
   "cell_type": "code",
   "execution_count": null,
   "id": "9e713491",
   "metadata": {},
   "outputs": [],
   "source": [
    "10. Describe the machine learning process in depth.\n",
    "\n",
    "a. Make brief notes on any two of the following:\n",
    "\n",
    "MATLAB is one of the most widely used programming languages.\n",
    "\n",
    "Machine learning teaches computers to do what comes naturally to humans: learn from experience. Machine learning algorithms use computational methods to “learn” information directly from data without relying on a predetermined equation as a model."
   ]
  },
  {
   "cell_type": "code",
   "execution_count": null,
   "id": "7cde91ef",
   "metadata": {},
   "outputs": [],
   "source": [
    "11. Make a comparison between:-\n",
    "\n",
    "1. Generalization and abstraction\n",
    "\n",
    "\n",
    "While abstraction reduces complexity by hiding irrelevant detail, generalization reduces complexity by replacing multiple entities which perform similar functions with a single construct"
   ]
  }
 ],
 "metadata": {
  "kernelspec": {
   "display_name": "Python 3 (ipykernel)",
   "language": "python",
   "name": "python3"
  },
  "language_info": {
   "codemirror_mode": {
    "name": "ipython",
    "version": 3
   },
   "file_extension": ".py",
   "mimetype": "text/x-python",
   "name": "python",
   "nbconvert_exporter": "python",
   "pygments_lexer": "ipython3",
   "version": "3.9.7"
  }
 },
 "nbformat": 4,
 "nbformat_minor": 5
}
