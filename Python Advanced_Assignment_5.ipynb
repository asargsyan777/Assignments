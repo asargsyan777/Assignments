{
 "cells": [
  {
   "cell_type": "code",
   "execution_count": null,
   "id": "bc4b303d",
   "metadata": {},
   "outputs": [],
   "source": [
    "Q1. What is the meaning of multiple inheritance?\n",
    "A class can be extended from more than one base class in Python.This is called multiple inheritance.It can be described as a process where the child class or object inherits the methods and attributes from one or more parent classes. It is a process that leads to reusability of a code, higher performance and flexibility.\n",
    "\n",
    "Example>\n",
    "\n",
    "class A:\n",
    "    def A(self):\n",
    "        print('This is class A.')        \n",
    "class B:\n",
    "    def B(self):\n",
    "        print('This is class B.')        \n",
    "class C(A,B):\n",
    "    def C(self):\n",
    "        print('This is class C which inherits features of both classes A and B.')"
   ]
  },
  {
   "cell_type": "code",
   "execution_count": null,
   "id": "543fc6b3",
   "metadata": {},
   "outputs": [],
   "source": [
    "Q2. What is the concept of delegation?\n",
    "\n",
    "In Python Delegation concept is an object-oriented design pattern that allows object composition to achieve the same code reuse as inheritance.\n",
    "Example of deligation\n",
    "\n",
    "class Animal:\n",
    "  def __init__(self, name, num_of_legs):\n",
    "    self.name = name\n",
    "    self.num_of_legs = num_of_legs\n",
    "  \n",
    "  def get_number_of_legs(self):\n",
    "    print(f\"I have {self.num_of_legs} legs\")\n",
    "\n",
    "class Dog(Animal):\n",
    "  def __init__(self, name, num_of_legs):\n",
    "    super().__init__(name, num_of_legs)\n",
    "\n",
    "dog = Dog('Fido', 4)\n",
    "dog.get_number_of_legs()\n"
   ]
  },
  {
   "cell_type": "code",
   "execution_count": null,
   "id": "7fa599c5",
   "metadata": {},
   "outputs": [],
   "source": [
    "Q3. What is the concept of composition?\n",
    "\n",
    "Composition is a concept that models a has a relationship.\n",
    "In composition one of the classes is composed of one or more instance of other classes. In other words one class is container and other class is content and if you delete the container object then all of its contents objects are also deleted\n"
   ]
  },
  {
   "cell_type": "code",
   "execution_count": null,
   "id": "6b1cb38a",
   "metadata": {},
   "outputs": [],
   "source": [
    "Q4. What are bound methods and how do we use them?\n",
    "\n",
    "A bound method is the one which is dependent on the instance of the class as the first argument. It passes the instance as the first argument which is used to access the variables and functions. In Pythons newer version all functions in the class are by default bound methods."
   ]
  },
  {
   "cell_type": "code",
   "execution_count": null,
   "id": "7a880947",
   "metadata": {},
   "outputs": [],
   "source": [
    "Q5. What is the purpose of pseudoprivate attributes?\n",
    "\n",
    "Pseudoprivate attributes are also useful in larger frameworks or tools, both to avoid introducing new method names that might accidentally hide definitions elsewhere in the class tree and to reduce the chance of internal methods being replaced by names defined lower in the tree"
   ]
  }
 ],
 "metadata": {
  "kernelspec": {
   "display_name": "Python 3 (ipykernel)",
   "language": "python",
   "name": "python3"
  },
  "language_info": {
   "codemirror_mode": {
    "name": "ipython",
    "version": 3
   },
   "file_extension": ".py",
   "mimetype": "text/x-python",
   "name": "python",
   "nbconvert_exporter": "python",
   "pygments_lexer": "ipython3",
   "version": "3.9.7"
  }
 },
 "nbformat": 4,
 "nbformat_minor": 5
}
