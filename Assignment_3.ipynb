{
 "cells": [
  {
   "cell_type": "code",
   "execution_count": null,
   "id": "dfe49353",
   "metadata": {},
   "outputs": [],
   "source": [
    "1. Why are functions advantageous to have in your programs?\n",
    "\n",
    "The advantages of functions is we dont have to reapeat over and over again.And Its easy to maintain and write.\n"
   ]
  },
  {
   "cell_type": "code",
   "execution_count": null,
   "id": "d4d82f48",
   "metadata": {},
   "outputs": [],
   "source": [
    "2. When does the code in a function run: \n",
    "    \n",
    "    The code inside of function is executed when we call the function."
   ]
  },
  {
   "cell_type": "code",
   "execution_count": null,
   "id": "bbe18f29",
   "metadata": {},
   "outputs": [],
   "source": [
    "3. What statement creates a function?\n",
    "We create a function with keyword def"
   ]
  },
  {
   "cell_type": "code",
   "execution_count": null,
   "id": "7ec98272",
   "metadata": {},
   "outputs": [],
   "source": [
    "4. What is the difference between a function and a function call?\n",
    "Function is where we put our goal and in order to achive or executed we need to call the function."
   ]
  },
  {
   "cell_type": "code",
   "execution_count": null,
   "id": "e61ce207",
   "metadata": {},
   "outputs": [],
   "source": [
    "5. How many global scopes are there in a Python program? How many local scopes?\n",
    "There is one global scopes,so when its global we can access anywhere.When we terminate the program it will remember onlythe previeus one that its running.\n",
    "\n",
    "\n"
   ]
  },
  {
   "cell_type": "code",
   "execution_count": null,
   "id": "498336d9",
   "metadata": {},
   "outputs": [],
   "source": [
    "6. What happens to variables in a local scope when the function call returns?\n",
    "When a function return the variable gets destroied.\n"
   ]
  },
  {
   "cell_type": "code",
   "execution_count": null,
   "id": "20ad0dcc",
   "metadata": {},
   "outputs": [],
   "source": [
    "7. What is the concept of a return value? Is it possible to have a return value in an expression?\n",
    "Return its a values thats function is returning when executed.It can be integer,string.And can return a expression.\n"
   ]
  },
  {
   "cell_type": "code",
   "execution_count": null,
   "id": "e42f0062",
   "metadata": {},
   "outputs": [],
   "source": [
    "8. If a function does not have a return statement, what is the return value of a call to that function?\n",
    "It will return none.\n",
    "\n"
   ]
  },
  {
   "cell_type": "code",
   "execution_count": null,
   "id": "82cfb593",
   "metadata": {},
   "outputs": [],
   "source": [
    "9. How do you make a function variable refer to the global variable?\n",
    "So we need to use global keyword.\n",
    "\n"
   ]
  },
  {
   "cell_type": "code",
   "execution_count": null,
   "id": "cdaf6829",
   "metadata": {},
   "outputs": [],
   "source": [
    "10. What is the data type of None?\n",
    "Data type of None its NULL.\n"
   ]
  },
  {
   "cell_type": "code",
   "execution_count": null,
   "id": "566d4917",
   "metadata": {},
   "outputs": [],
   "source": [
    "11. What does the sentence import areallyourpetsnamederic do?\n",
    "It will import the module,which we can access to code from another module.\n"
   ]
  },
  {
   "cell_type": "code",
   "execution_count": null,
   "id": "3bc4d8ab",
   "metadata": {},
   "outputs": [],
   "source": [
    "12. If you had a bacon() feature in a spam module, what would you call it after importing spam?\n",
    "spam.bacon()\n"
   ]
  },
  {
   "cell_type": "code",
   "execution_count": null,
   "id": "380835cb",
   "metadata": {},
   "outputs": [],
   "source": [
    "13. What can you do to save a programme from crashing if it encounters an error?\n",
    "We can handle the exception by using try and except.\n"
   ]
  },
  {
   "cell_type": "code",
   "execution_count": null,
   "id": "02a6766d",
   "metadata": {},
   "outputs": [],
   "source": [
    "14. What is the purpose of the try clause? What is the purpose of the except clause?\n",
    "\n",
    "Try block is where you put your code,exept where you catch in case there is a error."
   ]
  },
  {
   "cell_type": "code",
   "execution_count": null,
   "id": "b7178514",
   "metadata": {},
   "outputs": [],
   "source": []
  }
 ],
 "metadata": {
  "kernelspec": {
   "display_name": "Python 3 (ipykernel)",
   "language": "python",
   "name": "python3"
  },
  "language_info": {
   "codemirror_mode": {
    "name": "ipython",
    "version": 3
   },
   "file_extension": ".py",
   "mimetype": "text/x-python",
   "name": "python",
   "nbconvert_exporter": "python",
   "pygments_lexer": "ipython3",
   "version": "3.9.7"
  }
 },
 "nbformat": 4,
 "nbformat_minor": 5
}
