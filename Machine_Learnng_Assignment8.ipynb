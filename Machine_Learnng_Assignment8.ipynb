{
 "cells": [
  {
   "cell_type": "code",
   "execution_count": null,
   "id": "6b5da07e",
   "metadata": {},
   "outputs": [],
   "source": [
    "1. What exactly is a feature? Give an example to illustrate your point.\n",
    "\n",
    "The definition of a feature is a part of the face, a quality, a special attraction, article or a major film showing in the theatre. An example of feature is a nose. An example of feature is freckles. An example of feature is a guest speaker at an event. An example of feature is a cover story in a magazine."
   ]
  },
  {
   "cell_type": "code",
   "execution_count": null,
   "id": "6721fd55",
   "metadata": {},
   "outputs": [],
   "source": [
    "2. What are the feuture Enginering Techniques for Machine Learning.\n",
    "\n",
    " Discretization\n",
    " Categorical Encoding\n",
    " Feature Splitting\n",
    " Handling Outliers.\n",
    " Variable Transformations\n",
    " Scaling. \n",
    " Creating Features."
   ]
  },
  {
   "cell_type": "code",
   "execution_count": null,
   "id": "8e6fd25f",
   "metadata": {},
   "outputs": [],
   "source": [
    "3. Describe how nominal variables are encoded.\n",
    "\n",
    "When we have a feature where variables are just names and there is no order or rank to this variable's feature"
   ]
  },
  {
   "cell_type": "code",
   "execution_count": null,
   "id": "ade2c364",
   "metadata": {},
   "outputs": [],
   "source": [
    "4. Describe how numeric features are converted to categorical features.\n",
    "\n",
    "Converting numeric data to categorical data seems like an easy problem. One simple approach would be to divide the raw source data into equal intervals"
   ]
  },
  {
   "cell_type": "code",
   "execution_count": null,
   "id": "4b6bc74c",
   "metadata": {},
   "outputs": [],
   "source": [
    "5. Describe the feature selection wrapper approach. State the advantages and disadvantages of this\n",
    "approach?\n",
    "\n",
    "In wrapper methods, the feature selection process is based on a specific machine learning algorithm that we are trying to fit on a given dataset."
   ]
  },
  {
   "cell_type": "code",
   "execution_count": null,
   "id": "c2ff35db",
   "metadata": {},
   "outputs": [],
   "source": [
    "6. When is a feature considered irrelevant? Does it impact outputs?\n",
    "\n",
    "It would mean that the model trained with some irrelevant features is overfit: a good model uses only features which have some predictive power on the target variable, so if the sample is representative enough any irrelevant feature is ignored or assigned very little weight. However if the training dataset is too small or the model too complex then it uses details which happen by chance, so it could use some irrelevant features: this is overfitting."
   ]
  },
  {
   "cell_type": "code",
   "execution_count": null,
   "id": "b4150786",
   "metadata": {},
   "outputs": [],
   "source": [
    "7. When is a function considered redundant? What criteria are used to identify features that could\n",
    "be redundant?\n",
    "\n",
    "An attribute (column or feature of data set) is called redundant if it can be derived from any other attribute or set of attributes. Inconsistencies in attribute or dimension naming can also lead to the redundancies in data set"
   ]
  },
  {
   "cell_type": "code",
   "execution_count": null,
   "id": "4170215f",
   "metadata": {},
   "outputs": [],
   "source": [
    "8. What are the various distance measurements used to determine feature similarity?\n",
    "\n",
    "Most clustering approaches use distance measures to assess the similarities or differences between a pair of objects, the most popular distance measures used are:\n",
    "Euclidean Distance\n",
    "Manhattan Distance\n",
    "Jaccard Index\n",
    "Minkowski distance\n",
    "Cosine Index:"
   ]
  },
  {
   "cell_type": "code",
   "execution_count": null,
   "id": "42dcbea6",
   "metadata": {},
   "outputs": [],
   "source": [
    "9. State difference between Euclidean and Manhattan distances?\n",
    "\n",
    "Euclidean distance is the shortest path between source and destination which is a straight line as shown in Figure 1.3. but Manhattan distance is sum of all the real distances between source(s) and destination(d) and each distance are always the straight lines as shown in Figure 1.4."
   ]
  },
  {
   "cell_type": "code",
   "execution_count": null,
   "id": "a36e6a80",
   "metadata": {},
   "outputs": [],
   "source": [
    "10. Distinguish between feature transformation and feature selection.\n",
    "\n",
    "Feature extraction creates a new, smaller set of features that captures most of the useful information in the data. The main difference between them is Feature selection keeps a subset of the original features while feature extraction creates new ones."
   ]
  },
  {
   "cell_type": "code",
   "execution_count": null,
   "id": "e2be10a2",
   "metadata": {},
   "outputs": [],
   "source": [
    "11. Make brief notes on any two of the following:\n",
    "    SVD--SVD is basically a matrix factorization technique, which decomposes any matrix into 3 generic and familiar matrices. It has some cool applications in Machine Learning and Image Processing. To understand the concept of Singular Value Decomposition the knowledge on eigenvalues and eigenvectors is essential.\n",
    "    2. Collection of features using a hybrid approach ---A hybrid feature selection method is proposed for classification in small sample size data sets. • The filter step is based on instance learning taking advantage of the small sample size of data.\n",
    "    "
   ]
  },
  {
   "cell_type": "code",
   "execution_count": null,
   "id": "dae1184a",
   "metadata": {},
   "outputs": [],
   "source": []
  }
 ],
 "metadata": {
  "kernelspec": {
   "display_name": "Python 3 (ipykernel)",
   "language": "python",
   "name": "python3"
  },
  "language_info": {
   "codemirror_mode": {
    "name": "ipython",
    "version": 3
   },
   "file_extension": ".py",
   "mimetype": "text/x-python",
   "name": "python",
   "nbconvert_exporter": "python",
   "pygments_lexer": "ipython3",
   "version": "3.9.7"
  }
 },
 "nbformat": 4,
 "nbformat_minor": 5
}
