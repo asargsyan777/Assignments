{
 "cells": [
  {
   "cell_type": "code",
   "execution_count": null,
   "id": "1acd6862",
   "metadata": {},
   "outputs": [],
   "source": [
    "1. Compare and contrast the float and Decimal classes benefits and drawbacks.\n",
    "\n",
    "Decimal used within financial applications that require a high degree of accuracy and easy to avoid rounding errors whereas Float used when you stores scientific numbers and for better performance. Performance of Decimals is slower than and float data types."
   ]
  },
  {
   "cell_type": "code",
   "execution_count": null,
   "id": "97a4a880",
   "metadata": {},
   "outputs": [],
   "source": [
    "2. Decimal('1.200') and Decimal('1.2') are two objects to consider. In what sense are these the same\n",
    "object? Are these just two ways of representing the exact same value, or do they correspond to\n",
    "different internal states?\n",
    "\n",
    "Yes.Simply because the numeric data types include integers and floats. A floating point (known as a float) number has decimal points even if that decimal point value is 0."
   ]
  },
  {
   "cell_type": "code",
   "execution_count": null,
   "id": "2bfc3b81",
   "metadata": {},
   "outputs": [],
   "source": [
    "3. What happens if the equality of Decimal('1.200') and Decimal('1.2') is checked?\n",
    "\n",
    "isdecimal()-It is a function in Python that returns true if all characters in a string are decimal. If all characters are not decimal then it returns false."
   ]
  },
  {
   "cell_type": "code",
   "execution_count": null,
   "id": "2ea8ea68",
   "metadata": {},
   "outputs": [],
   "source": [
    "4. Why is it preferable to start a Decimal object with a string rather than a floating-point value?\n",
    "\n",
    "The Decimal is a floating decimal point type which more precision and a smaller range than the float. It is appropriate for financial and monetary calculations. It is also closer to the way how humans work with numbers"
   ]
  },
  {
   "cell_type": "code",
   "execution_count": null,
   "id": "2eda9b8a",
   "metadata": {},
   "outputs": [],
   "source": [
    "5. In an arithmetic phrase, how simple is it to combine Decimal objects with integers?\n",
    "\n",
    "class decimal.Decimal(value='0', context=None)\n",
    "Construct a new Decimal object based from value.\n",
    "\n",
    "value can be an integer, string, tuple, float, or another Decimal object. If no value is given, returns Decimal('0'). If value is a string, it should conform to the decimal numeric string syntax after leading and trailing whitespace characters, as well as underscores throughout, are removed:"
   ]
  },
  {
   "cell_type": "code",
   "execution_count": null,
   "id": "affc57e3",
   "metadata": {},
   "outputs": [],
   "source": [
    "6. Can Decimal objects and floating-point values be combined easily?\n",
    "\n",
    "Decimal objects cannot generally be combined with floats or instances of fractions. Fraction in arithmetic operations: an attempt to add a Decimal to a float , for example, will raise a TypeError . However, it is possible to use Python's comparison operators to compare a Decimal instance x with another number y ."
   ]
  },
  {
   "cell_type": "code",
   "execution_count": null,
   "id": "3a5d1135",
   "metadata": {},
   "outputs": [],
   "source": [
    "7. Using the Fraction class but not the Decimal class, give an example of a quantity that can be\n",
    "expressed with absolute precision.\n",
    "\n",
    "Fraction in arithmetic operations: an attempt to add a Decimal to a float , for example, will raise a TypeError . However, it is possible to use Python'"
   ]
  },
  {
   "cell_type": "code",
   "execution_count": null,
   "id": "031ba7cc",
   "metadata": {},
   "outputs": [],
   "source": [
    "8. Describe a quantity that can be accurately expressed by the Decimal or Fraction classes but not by\n",
    "a floating-point value.\n",
    "\n",
    "The decimal module was designed to support without prejudice, both exact unrounded decimal arithmetic (sometimes called fixed-point arithmetic) and rounded."
   ]
  },
  {
   "cell_type": "code",
   "execution_count": null,
   "id": "08d068b3",
   "metadata": {},
   "outputs": [],
   "source": [
    "Q9.Consider the following two fraction objects: Fraction(1, 2) and Fraction(1, 2). (5, 10). Is the internal\n",
    "state of these two objects the same? Why do you think that is?\n",
    "\n",
    "Yes they are,because Once the two fractions have the same denominator, you can check to see if the numerators are equal. If they are equal, then the two fractions are equal as"
   ]
  },
  {
   "cell_type": "code",
   "execution_count": null,
   "id": "0814105a",
   "metadata": {},
   "outputs": [],
   "source": [
    "Q10. How do the Fraction class and the integer type (int) relate to each other? Containment or\n",
    "inheritance?\n",
    "\n",
    "The operations for the Fraction type will allow a Fraction data object to .Inheritance is the ability for one class to be related to another class in"
   ]
  }
 ],
 "metadata": {
  "kernelspec": {
   "display_name": "Python 3 (ipykernel)",
   "language": "python",
   "name": "python3"
  },
  "language_info": {
   "codemirror_mode": {
    "name": "ipython",
    "version": 3
   },
   "file_extension": ".py",
   "mimetype": "text/x-python",
   "name": "python",
   "nbconvert_exporter": "python",
   "pygments_lexer": "ipython3",
   "version": "3.9.7"
  }
 },
 "nbformat": 4,
 "nbformat_minor": 5
}
