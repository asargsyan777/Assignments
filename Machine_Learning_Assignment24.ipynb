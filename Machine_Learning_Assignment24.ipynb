{
 "cells": [
  {
   "cell_type": "code",
   "execution_count": null,
   "id": "35c17f65",
   "metadata": {},
   "outputs": [],
   "source": [
    "1. What is your definition of clustering? What are a few clustering algorithms you might think of?\n",
    "\n",
    "Clustering is the task of dividing the population or data points into a number of groups such that data points in the same groups are more similar to other data points in the same group than those in other groups. In simple words, the aim is to segregate groups with similar traits and assign them into clusters."
   ]
  },
  {
   "cell_type": "code",
   "execution_count": null,
   "id": "b2a39bed",
   "metadata": {},
   "outputs": [],
   "source": [
    "2. What are some of the most popular clustering algorithm applications?\n",
    "Density-based. ...\n",
    "Distribution-based. ...\n",
    "Centroid-based. ...\n",
    "Hierarchical-based. ...\n",
    "K-means clustering algorithm. ...\n",
    "DBSCAN clustering algorithm. ...\n",
    "Gaussian Mixture Model algorithm. ...\n",
    "BIRCH algorithm."
   ]
  },
  {
   "cell_type": "code",
   "execution_count": null,
   "id": "79e25121",
   "metadata": {},
   "outputs": [],
   "source": [
    "3. When using K-Means, describe two strategies for selecting the appropriate number of clusters.\n",
    "\n",
    "The Elbow Method is more of a decision rule, while the Silhouette is a metric used for validation while clustering. Thus, it can be used in combination with the Elbow Method. Therefore, the Elbow Method and the Silhouette Method are not alternatives to each other for finding the optimal K."
   ]
  },
  {
   "cell_type": "code",
   "execution_count": null,
   "id": "61035c39",
   "metadata": {},
   "outputs": [],
   "source": [
    "4. What is mark propagation and how does it work? Why would you do it, and how would you do it?\n",
    "\n",
    "Backpropagation (backward propagation) is an important mathematical tool for improving the accuracy of predictions in data mining and machine learning. Essentially, backpropagation is an algorithm used to calculate derivatives quickly."
   ]
  },
  {
   "cell_type": "code",
   "execution_count": null,
   "id": "122860bd",
   "metadata": {},
   "outputs": [],
   "source": [
    "5. Provide two examples of clustering algorithms that can handle large datasets. And two that look\n",
    "for high-density areas?\n",
    "\n",
    "CLARA (clustering large applications.) It is a sample-based method that randomly selects a small subset of data points instead of considering the whole observations, which means that it works well on a large dataset"
   ]
  },
  {
   "cell_type": "code",
   "execution_count": null,
   "id": "aa1fcb29",
   "metadata": {},
   "outputs": [],
   "source": [
    "6. Can you think of a scenario in which constructive learning will be advantageous? How can you go\n",
    "about putting it into action?"
   ]
  },
  {
   "cell_type": "code",
   "execution_count": null,
   "id": "a122d1ec",
   "metadata": {},
   "outputs": [],
   "source": [
    "7. How do you tell the difference between anomaly and novelty detection?\n",
    "\n",
    "In this context an outlier is also called a novelty. Outlier detection and novelty detection are both used for anomaly detection, where one is interested in detecting abnormal or unusual observations."
   ]
  },
  {
   "cell_type": "code",
   "execution_count": null,
   "id": "60c70bc1",
   "metadata": {},
   "outputs": [],
   "source": [
    "8. What is a Gaussian mixture, and how does it work? What are some of the things you can do about\n",
    "it?\n",
    "\n",
    "Gaussian mixture models (GMMs) are a type of machine learning algorithm. They are used to classify data into different categories based on the probability distribution. Gaussian mixture models can be used in many different areas, including finance, marketing and so much more!"
   ]
  },
  {
   "cell_type": "code",
   "execution_count": null,
   "id": "10764a0c",
   "metadata": {},
   "outputs": [],
   "source": [
    "9. When using a Gaussian mixture model, can you name two techniques for determining the correct\n",
    "number of clusters?\n",
    "\n",
    "An approach is to find the clusters using soft clustering methods and then see if they are gaussian. If they are then you can apply a GMM model which represents the whole dataset."
   ]
  },
  {
   "cell_type": "code",
   "execution_count": null,
   "id": "6ae9852a",
   "metadata": {},
   "outputs": [],
   "source": []
  }
 ],
 "metadata": {
  "kernelspec": {
   "display_name": "Python 3 (ipykernel)",
   "language": "python",
   "name": "python3"
  },
  "language_info": {
   "codemirror_mode": {
    "name": "ipython",
    "version": 3
   },
   "file_extension": ".py",
   "mimetype": "text/x-python",
   "name": "python",
   "nbconvert_exporter": "python",
   "pygments_lexer": "ipython3",
   "version": "3.9.7"
  }
 },
 "nbformat": 4,
 "nbformat_minor": 5
}
