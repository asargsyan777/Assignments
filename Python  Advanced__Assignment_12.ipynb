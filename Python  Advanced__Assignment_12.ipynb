{
 "cells": [
  {
   "cell_type": "code",
   "execution_count": null,
   "id": "52c11bec",
   "metadata": {},
   "outputs": [],
   "source": [
    "Q1. Does assigning a value to a strings indexed character violate Pythons string immutability?\n",
    "\n",
    "The string itself is immutable but the label can change. Assigning a new value to an existing variable is perfectly valid. Python does not have constants. This is independent from data type mutability."
   ]
  },
  {
   "cell_type": "code",
   "execution_count": null,
   "id": "f86d18a1",
   "metadata": {},
   "outputs": [],
   "source": [
    "Q2. Does using the += operator to concatenate strings violate Python&#39;s string immutability? Why or\n",
    "why not?\n",
    "\n",
    "It violates the rules of how ID values and += are supposed to work - the ID values produced with the optimization in place would be not only impossible, but prohibited, with the unoptimized semantics - but the developers care more about people who would see bad concatenation performance and assume Python sucks."
   ]
  },
  {
   "cell_type": "code",
   "execution_count": null,
   "id": "20a05389",
   "metadata": {},
   "outputs": [],
   "source": [
    "Q3. In Python, how many different ways are there to index a character?\n",
    "\n",
    "We can access characters in a String in Two ways : Accessing Characters by Positive Index Number. Accessing Characters by Negative Index Number"
   ]
  },
  {
   "cell_type": "code",
   "execution_count": null,
   "id": "fbbbf250",
   "metadata": {},
   "outputs": [],
   "source": [
    "Q4. What is the relationship between indexing and slicing?\n",
    "\n",
    "\"Indexing\" means referring to an element of an iterable by its position within the iterable. \"Slicing\" means getting a subset of elements from an iterable based on their indices."
   ]
  },
  {
   "cell_type": "code",
   "execution_count": null,
   "id": "41259151",
   "metadata": {},
   "outputs": [],
   "source": [
    "Q5. What is an indexed characters exact data type? What is the data form of a slicing-generated\n",
    "substring?\n",
    "\n",
    "Positive Indexing\n",
    "The traditional method of string indexing is to count upwards from zero starting with the leftmost character in the string. The index increments by one with each character as the strings are read from left to right. This is referred to as positive indexing. The first character has an index of 0, the character at position x has an index x - 1, and the last character in the string has an index of string_length - 1. If the index is greater than string_length - 1, Python returns the error IndexError: string index out of range. The following chart shows how the Python string index works using the six-character string Linode as an example.\n",
    "    L\ti\tn\to\td\te\n",
    "    0\t1\t2\t3\t4\t5\n",
    "\n",
    "    \n",
    "    Negative Indexing\n",
    "The characters in a string can also be indexed counting back from the end of the string. This is known as negative indexing. The final character of the string has a negative index of -1. The second last character occupies position -2, and so on. If the index does not exist within the string, Python returns an error. The following chart describes how the string Linode is indexed using negative indexing.\n",
    "    L\ti\tn\to\td\te\n",
    "   -6\t-5\t-4\t-3\t-2\t-1\n"
   ]
  },
  {
   "cell_type": "code",
   "execution_count": null,
   "id": "acd7c36c",
   "metadata": {},
   "outputs": [],
   "source": [
    "Q6. What is the relationship between string and character \"types\" in Python?\n",
    "\n",
    "In Python, Strings are arrays of bytes representing Unicode characters. However, Python does not have a character data type, a single character is simply a string with a length of 1. Square brackets can be used to access elements of the string."
   ]
  },
  {
   "cell_type": "code",
   "execution_count": null,
   "id": "3bcd1503",
   "metadata": {},
   "outputs": [],
   "source": [
    "Q7. Identify at least two operators and one method that allow you to combine one or more smaller\n",
    "strings to create a larger string.\n",
    "\n",
    "The most common among them is using the plus (\"+\") operator. We can combine both string variables and string literals using the \"+\" operator. However, there's another method that allows an easy way of concatenating multiple strings. It is using the in-place (+=) operator."
   ]
  },
  {
   "cell_type": "code",
   "execution_count": null,
   "id": "1de1cf10",
   "metadata": {},
   "outputs": [],
   "source": [
    "Q8. What is the benefit of first checking the target string with in or not in before using the index\n",
    "method to find a substring?\n",
    "\n",
    "The idea is to run a loop from start to end and for every index in the given string check whether the sub-string can be formed from that index. This can be done by running a nested loop traversing the given string and in that loop run another loop checking for sub-string from every index. "
   ]
  },
  {
   "cell_type": "code",
   "execution_count": null,
   "id": "838d97ba",
   "metadata": {},
   "outputs": [],
   "source": [
    "Q9. Which operators and built-in string methods produce simple Boolean (true/false) results?\n",
    "\n",
    "The Python Boolean type is one of Python’s built-in data types. It’s used to represent the truth value of an expression. For example, the expression 1 <= 2 is True, while the expression 0 == 1 is False. Understanding how Python Boolean values behave is important to programming well in Python."
   ]
  }
 ],
 "metadata": {
  "kernelspec": {
   "display_name": "Python 3 (ipykernel)",
   "language": "python",
   "name": "python3"
  },
  "language_info": {
   "codemirror_mode": {
    "name": "ipython",
    "version": 3
   },
   "file_extension": ".py",
   "mimetype": "text/x-python",
   "name": "python",
   "nbconvert_exporter": "python",
   "pygments_lexer": "ipython3",
   "version": "3.9.7"
  }
 },
 "nbformat": 4,
 "nbformat_minor": 5
}
