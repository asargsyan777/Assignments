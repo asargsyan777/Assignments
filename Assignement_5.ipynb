{
 "cells": [
  {
   "cell_type": "markdown",
   "id": "044cb201",
   "metadata": {},
   "source": [
    "1. What does an empty dictionary's code look like?\n",
    "{ }"
   ]
  },
  {
   "cell_type": "markdown",
   "id": "6e3f76d3",
   "metadata": {},
   "source": [
    "2. What is the value of a dictionary value with the key 'foo' and the value 42?\n",
    "{'foo': 42}"
   ]
  },
  {
   "cell_type": "markdown",
   "id": "74d85101",
   "metadata": {},
   "source": [
    "3. What is the most significant distinction between a dictionary and a list?\n",
    "A list is an ordered sequence of objects, however dictionaries are unordered sets.And also, the main difference is \n",
    "that items in dictionaries are accessed via keys and not via their position [by indexing]"
   ]
  },
  {
   "cell_type": "markdown",
   "id": "a0656587",
   "metadata": {},
   "source": [
    "4. What happens if you try to access spam['foo'] if spam is {'bar': 100}?\n",
    "\n",
    "You will get a KeyError error. "
   ]
  },
  {
   "cell_type": "markdown",
   "id": "09c3ecf5",
   "metadata": {},
   "source": [
    "5. If a dictionary is stored in spam, what is the difference between the expressions 'cat' in spam and 'cat' in spam.keys()?\n",
    "There is no difference. The in operator checks whether a value exists as a key in the dictionary. 'cat' in spam checks whether there is a 'cat' key in the dictionary, while 'cat' in spam. values() checks whether there is a value 'cat' for one of the keys in spam ."
   ]
  },
  {
   "cell_type": "markdown",
   "id": "e9ab5f86",
   "metadata": {},
   "source": [
    "6. If a dictionary is stored in spam, what is the difference between the expressions 'cat' in spam and 'cat' in spam.values()?\n",
    "There is no difference. The in operator checks whether a value exists as a key in the dictionary. 'cat' in spam checks whether there is a 'cat' key in the dictionary, while 'cat' in spam. values() checks whether there is a value 'cat' for one of the keys in spam .\n"
   ]
  },
  {
   "cell_type": "markdown",
   "id": "ef45ae9a",
   "metadata": {},
   "source": [
    "7. What is a shortcut for the following code?\n",
    "if 'color' not in spam:\n",
    "spam['color'] = 'black'\n",
    "\n",
    "spam.setdefault ('color','black')"
   ]
  },
  {
   "cell_type": "markdown",
   "id": "6af4ade0",
   "metadata": {},
   "source": [
    "8. How do you \"pretty print\" dictionary values using which module and function?\n",
    "Use pprint() to Pretty Print a Dictionary in Python"
   ]
  }
 ],
 "metadata": {
  "kernelspec": {
   "display_name": "Python 3",
   "language": "python",
   "name": "python3"
  },
  "language_info": {
   "codemirror_mode": {
    "name": "ipython",
    "version": 3
   },
   "file_extension": ".py",
   "mimetype": "text/x-python",
   "name": "python",
   "nbconvert_exporter": "python",
   "pygments_lexer": "ipython3",
   "version": "3.7.3"
  }
 },
 "nbformat": 4,
 "nbformat_minor": 5
}
