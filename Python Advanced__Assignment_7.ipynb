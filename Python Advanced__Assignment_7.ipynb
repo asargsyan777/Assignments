{
 "cells": [
  {
   "cell_type": "code",
   "execution_count": null,
   "id": "a27c15ca",
   "metadata": {},
   "outputs": [],
   "source": [
    "Q1. What is the purpose of the try statement?\n",
    "\n",
    "The try block lets as test a block of code for errors.\n",
    "First, the try clause is executed the code between try and except clause.\n",
    "If there is no exception, then only the try clause will run, except the clause is finished.\n",
    "If any exception occurs, the try clause will be skipped and except clause will run.\n",
    "If any exception occurs, but the except clause within the code doesn’t handle it, it is passed on to the outer try statements. If the exception is left unhandled, then the execution stops.\n",
    "A try statement can have more than one except clause"
   ]
  },
  {
   "cell_type": "code",
   "execution_count": null,
   "id": "7e8cb157",
   "metadata": {},
   "outputs": [],
   "source": [
    "Q2. What are the two most popular try statement variations?\n",
    "\n",
    "Syntax errors and Exceptions"
   ]
  },
  {
   "cell_type": "code",
   "execution_count": null,
   "id": "0665b434",
   "metadata": {},
   "outputs": [],
   "source": [
    "Q3. What is the purpose of the raise statement?\n",
    "\n",
    "Python raise Keyword is used to raise exceptions or errors. The raise keyword raises an error and stops the control flow of the program. It is used to bring up the current exception in an exception handler so that it can be handled further up the call stack."
   ]
  },
  {
   "cell_type": "code",
   "execution_count": null,
   "id": "80ed82b8",
   "metadata": {},
   "outputs": [],
   "source": [
    "Q4. What does the assert statement do, and what other statement is it like?\n",
    "\n",
    "Assert statement takes an expression and optional message. assert statement is used to check types, values of argument and the output of the function."
   ]
  },
  {
   "cell_type": "code",
   "execution_count": null,
   "id": "9442c573",
   "metadata": {},
   "outputs": [],
   "source": [
    "Q5. What is the purpose of the with/as argument, and what other statement is it like?\n",
    "\n",
    "The with statement in Python is used for resource management and exception handling. Its most likely find it when working with file streams. For example, the statement ensures that the file stream process doesn't block other processes if an exception is raised, but terminates properly."
   ]
  }
 ],
 "metadata": {
  "kernelspec": {
   "display_name": "Python 3 (ipykernel)",
   "language": "python",
   "name": "python3"
  },
  "language_info": {
   "codemirror_mode": {
    "name": "ipython",
    "version": 3
   },
   "file_extension": ".py",
   "mimetype": "text/x-python",
   "name": "python",
   "nbconvert_exporter": "python",
   "pygments_lexer": "ipython3",
   "version": "3.9.7"
  }
 },
 "nbformat": 4,
 "nbformat_minor": 5
}
