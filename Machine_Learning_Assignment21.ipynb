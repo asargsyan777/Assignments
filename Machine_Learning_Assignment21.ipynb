{
 "cells": [
  {
   "cell_type": "code",
   "execution_count": null,
   "id": "608a37b9",
   "metadata": {},
   "outputs": [],
   "source": [
    "1. What is the estimated depth of a Decision Tree trained (unrestricted) on a one million instance\n",
    "training set?\n",
    "\n",
    "Thus, if the training set contains one million instances, the Decision Tree will have a depth of log2(106) ≈ 20 (actually a bit more since the tree will generally not be perfectly well balanced)."
   ]
  },
  {
   "cell_type": "code",
   "execution_count": null,
   "id": "9c5af1bb",
   "metadata": {},
   "outputs": [],
   "source": [
    "2. Is the Gini impurity of a node usually lower or higher than that of its parent? Is it always\n",
    "lower/greater, or is it usually lower/greater?\n",
    "\n",
    "A node's Gini impurity is generally lower than its parent's. This is ensured by the CART training algorithm's cost function, which splits each node in a way that minimizes the weighted sum of its children's Gini impurities."
   ]
  },
  {
   "cell_type": "code",
   "execution_count": null,
   "id": "c1f3e552",
   "metadata": {},
   "outputs": [],
   "source": [
    "3. Explain if its a good idea to reduce max depth if a Decision Tree is overfitting the training set?\n",
    "the Post-pruning technique allows the decision tree model to grow to its full depth, then removes the tree branches to prevent the model from overfitting."
   ]
  },
  {
   "cell_type": "code",
   "execution_count": null,
   "id": "83f46bd6",
   "metadata": {},
   "outputs": [],
   "source": [
    "4. Explain if its a good idea to try scaling the input features if a Decision Tree underfits the training\n",
    "set?\n",
    "\n",
    "Decision Trees don't care whether or not the training data is scaled or centered; scaling the input features will just be a waste of time."
   ]
  },
  {
   "cell_type": "code",
   "execution_count": null,
   "id": "6c374f09",
   "metadata": {},
   "outputs": [],
   "source": [
    "5. How much time will it take to train another Decision Tree on a training set of 10 million instances\n",
    "if it takes an hour to train a Decision Tree on a training set with 1 million instances?\n",
    "\n",
    "So, when we multiplied the size of the training set by 10, then the training time will be multiplied by some factor, say K. For 10 million instances i.e., m = 106, then we get the value of K ≈ 11.7. Therefore, we can expect the training time to be roughly 11.7 hours."
   ]
  },
  {
   "cell_type": "code",
   "execution_count": null,
   "id": "96d0dffc",
   "metadata": {},
   "outputs": [],
   "source": [
    "6. Will setting presort=True speed up training if your training set has 100,000 instances?\n",
    "Presorting the training set speeds up training only if the dataset is smaller than a few thousand instances. If it contains 100,000 instances, setting presort=True will considerably slow down training."
   ]
  },
  {
   "cell_type": "code",
   "execution_count": null,
   "id": "21a12712",
   "metadata": {},
   "outputs": [],
   "source": [
    "7. Follow these steps to train and fine-tune a Decision Tree for the moons dataset:\n",
    "    \n",
    "    Use make_moons(n_samples=10000, noise=0.4) to generate a moons dataset.\n",
    "Use train_test_split() to split the dataset into a training set and a test set.\n",
    "Use grid search with cross-validation (with the help of the GridSearchCV class) to find good hyperparameter values for a DecisionTreeClassifier. Hint: try various values for max_leaf_nodes.\n",
    "Train it on the full training set using these hyperparameters, and measure your model’s performance on the test set. You should get roughly 85% to 87% accuracy."
   ]
  },
  {
   "cell_type": "code",
   "execution_count": null,
   "id": "828cd614",
   "metadata": {},
   "outputs": [],
   "source": [
    "8. Follow these steps to grow a forest:\n",
    "    \n",
    "    Continuing the previous exercise, generate 1,000 subsets of the training set, each containing 100 instances selected randomly. Hint: you can use Scikit-Learn’s ShuffleSplit class for this.\n",
    "Train one Decision Tree on each subset, using the best hyperparameter values found in the previous exercise. Evaluate these 1,000 Decision Trees on the test set. Since they were trained on smaller sets, these Decision Trees will likely perform worse than the first Decision Tree, achieving only about 80% accuracy.\n",
    "Now comes the magic. For each test set instance, generate the predictions of the 1,000 Decision Trees, and keep only the most frequent prediction (you can use SciPy’s mode() function for this). This approach gives you majority-vote predictions over the test set.\n",
    "Evaluate these predictions on the test set: you should obtain a slightly higher accuracy than your first model (about 0.5 to 1.5% higher). Congratulations, you have trained a Random Forest classifier!"
   ]
  },
  {
   "cell_type": "code",
   "execution_count": null,
   "id": "92938baf",
   "metadata": {},
   "outputs": [],
   "source": []
  },
  {
   "cell_type": "code",
   "execution_count": null,
   "id": "6b136f4b",
   "metadata": {},
   "outputs": [],
   "source": []
  },
  {
   "cell_type": "code",
   "execution_count": null,
   "id": "e76e372d",
   "metadata": {},
   "outputs": [],
   "source": []
  }
 ],
 "metadata": {
  "kernelspec": {
   "display_name": "Python 3 (ipykernel)",
   "language": "python",
   "name": "python3"
  },
  "language_info": {
   "codemirror_mode": {
    "name": "ipython",
    "version": 3
   },
   "file_extension": ".py",
   "mimetype": "text/x-python",
   "name": "python",
   "nbconvert_exporter": "python",
   "pygments_lexer": "ipython3",
   "version": "3.9.7"
  }
 },
 "nbformat": 4,
 "nbformat_minor": 5
}
