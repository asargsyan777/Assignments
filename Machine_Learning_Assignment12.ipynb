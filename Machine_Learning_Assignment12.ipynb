{
 "cells": [
  {
   "cell_type": "code",
   "execution_count": null,
   "id": "b24abd20",
   "metadata": {},
   "outputs": [],
   "source": [
    "1. What is prior probability? \n",
    "Prior probability, in Bayesian statistics, is the probability of an event before new data is collected. This is the best rational assessment of the probability of an outcome based on the current knowledge before an experiment is performed."
   ]
  },
  {
   "cell_type": "code",
   "execution_count": null,
   "id": "833409dd",
   "metadata": {},
   "outputs": [],
   "source": [
    "2. What is posterior probability? \n",
    "\n",
    "A posterior probability, in Bayesian statistics, is the revised or updated probability of an event occurring after taking into consideration new information. The posterior probability is calculated by updating the prior probability using Bayes' theorem."
   ]
  },
  {
   "cell_type": "code",
   "execution_count": null,
   "id": "e32da502",
   "metadata": {},
   "outputs": [],
   "source": [
    "3. What is likelihood probability?\n",
    "One of the most commonly encountered way of thinking in machine learning is the maximum likelihood point of view. This is the concept that when working with a probabilistic model with unknown parameters, the parameters which make the data have the highest probability are the most likely ones."
   ]
  },
  {
   "cell_type": "code",
   "execution_count": null,
   "id": "5c97fb31",
   "metadata": {},
   "outputs": [],
   "source": [
    "4. What is Naïve Bayes classifier? Why is it named so?\n",
    "\n",
    "Naïve Bayes Classifier is one of the simple and most effective Classification algorithms which helps in building the fast machine learning models that can make quick predictions. It is a probabilistic classifier, which means it predicts on the basis of the probability of an object."
   ]
  },
  {
   "cell_type": "code",
   "execution_count": null,
   "id": "7ca29573",
   "metadata": {},
   "outputs": [],
   "source": [
    "5. What is optimal Bayes classifier?\n",
    "The Bayes Optimal Classifier is a probabilistic model that makes the most probable prediction for a new example. It is described using the Bayes Theorem that provides a principled way for calculating a conditional probability"
   ]
  },
  {
   "cell_type": "code",
   "execution_count": null,
   "id": "4cfc55f2",
   "metadata": {},
   "outputs": [],
   "source": [
    "6. Write any two features of Bayesian learning methods.\n",
    "\n",
    "This provides a more flexible approach to learning than algorithms that completely eliminate a hypothesis if it is found to be inconsistent with any single example. – a probability distribution over observed data for each possible hypothesis."
   ]
  },
  {
   "cell_type": "code",
   "execution_count": null,
   "id": "7f98d06e",
   "metadata": {},
   "outputs": [],
   "source": [
    "7. Define the concept of consistent learners.\n",
    "\n",
    "Consistent Learners. • A learner L using a hypothesis H and training data D is said to be a consistent learner if it always outputs a hypothesis with zero error on D whenever H contains such a hypothesis. "
   ]
  },
  {
   "cell_type": "code",
   "execution_count": null,
   "id": "0cf54b70",
   "metadata": {},
   "outputs": [],
   "source": [
    "8. Write any two strengths of Bayes classifier.\n",
    "\n",
    "This algorithm works quickly and can save a lot of time.\n",
    "Naive Bayes is suitable for solving multi-class prediction problems.\n",
    "If its assumption of the independence of features holds true, it can perform better than other models and requires much less training data."
   ]
  },
  {
   "cell_type": "code",
   "execution_count": null,
   "id": "55570328",
   "metadata": {},
   "outputs": [],
   "source": [
    "9. Write any two weaknesses of Bayes classifier.\n",
    "\n",
    "Conditional Independence Assumption does not always hold. ...\n",
    "Zero probability problem : When we encounter words in the test data for a particular class that are not present in the training data, we might end up with zero class probabilities."
   ]
  },
  {
   "cell_type": "code",
   "execution_count": null,
   "id": "16620b9e",
   "metadata": {},
   "outputs": [],
   "source": [
    "10. Explain how Naïve Bayes classifier is used for\n",
    "\n",
    "1. Text classification--Naive Bayes classifiers have been heavily used for text classification and text analysis machine learning problems. Text Analysis is a major application field for machine learning algorithms\n",
    "\n"
   ]
  }
 ],
 "metadata": {
  "kernelspec": {
   "display_name": "Python 3 (ipykernel)",
   "language": "python",
   "name": "python3"
  },
  "language_info": {
   "codemirror_mode": {
    "name": "ipython",
    "version": 3
   },
   "file_extension": ".py",
   "mimetype": "text/x-python",
   "name": "python",
   "nbconvert_exporter": "python",
   "pygments_lexer": "ipython3",
   "version": "3.9.7"
  }
 },
 "nbformat": 4,
 "nbformat_minor": 5
}
