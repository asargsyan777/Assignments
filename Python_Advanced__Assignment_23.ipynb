{
 "cells": [
  {
   "cell_type": "code",
   "execution_count": null,
   "id": "3bb20cc3",
   "metadata": {},
   "outputs": [],
   "source": [
    "Q1. If you have any, what are your choices for increasing the comparison between different figures on\n",
    "the same graph?\n",
    "\n",
    "If you want to compare values, use a pie chart — for relative comparison — or bar charts — for precise comparison. If you want to compare volumes, use an area chart or a bubble chart. If you want to show trends and patterns in your data, use a line chart, bar chart, or scatter plot."
   ]
  },
  {
   "cell_type": "code",
   "execution_count": null,
   "id": "d0c1f28c",
   "metadata": {},
   "outputs": [],
   "source": [
    "Q2. Can you explain the benefit of compound interest over a higher rate of interest that does not\n",
    "compound after reading this chapter?\n",
    "\n",
    "Compound interest causes your wealth to grow faster. It makes a sum of money grow at a faster rate than higher rate interest because you will earn returns on the money you invest, as well as on returns at the end of every compounding period. "
   ]
  },
  {
   "cell_type": "code",
   "execution_count": null,
   "id": "6a619d6e",
   "metadata": {},
   "outputs": [],
   "source": [
    "Q3. What is a histogram, exactly? Name a numpy method for creating such a graph.\n",
    "\n",
    "A histogram is the best way to visualize the frequency distribution of a dataset by splitting it into small equal-sized intervals called bins. The Numpy histogram function is similar to the hist() function of matplotlib library, the only difference is that the Numpy histogram gives the numerical representation of the dataset while the hist() gives graphical representation of the dataset.\n",
    " NumPy.histogram() "
   ]
  },
  {
   "cell_type": "code",
   "execution_count": null,
   "id": "6ddce064",
   "metadata": {},
   "outputs": [],
   "source": [
    "Q4. If necessary, how do you change the aspect ratios between the X and Y axes?\n",
    "\n",
    "So in Matplotlib we do this steps.\n",
    "Set the figure size and adjust the padding between and around the subplots.\n",
    "Create x and y data points using numpy.\n",
    "Plot x and y data points using plot() method.\n",
    "Set the X and Y axes limit.\n",
    "To display the figure, use show() method."
   ]
  },
  {
   "cell_type": "code",
   "execution_count": null,
   "id": "26c38060",
   "metadata": {},
   "outputs": [],
   "source": [
    "Q5. Compare and contrast the three types of array multiplication between two numpy arrays: dot\n",
    "product, outer product, and regular multiplication of two numpy arrays.\n",
    "\n",
    "a = np.arange(3*4*5*6).reshape((3,4,5,6))\n",
    "b = np.arange(3*4*5*6)[::-1].reshape((5,4,6,3))\n",
    "np.dot(a, b)[2,3,2,1,2,2]\n",
    "499128\n",
    "sum(a[2,3,2,:] * b[1,2,:,2])\n",
    "\n",
    "x = np.array(['a', 'b', 'c'], dtype=object)\n",
    "np.outer(x, [1, 2, 3])\n",
    "array([['a', 'aa', 'aaa'],\n",
    "       ['b', 'bb', 'bbb'],\n",
    "       ['c', 'cc', 'ccc']], dtype=object)"
   ]
  },
  {
   "cell_type": "code",
   "execution_count": null,
   "id": "69652221",
   "metadata": {},
   "outputs": [],
   "source": [
    "Q6. Before you buy a home, which numpy function will you use to measure your monthly mortgage\n",
    "payment?\n",
    "\n",
    "In order to calculate the monthly mortgage payment, you will use the numpy function .pmt(rate, nper, pv) where:\n",
    "\n",
    "rate = The periodic (monthly) interest rate\n",
    "nper = The number of payment periods (months) in the lifespan of the mortgage loan\n",
    "pv = The total value of the mortgage loan\n",
    "\n",
    "OR.\n",
    "EMI is calculated using following formula:\n",
    "EMI = p * r * (1+r)n/((1+r)n-1)\n",
    "If the interest rate per annum is R% then interest rate per month is calculated using: Monthly Interest Rate (r) = R/(12*100)"
   ]
  },
  {
   "cell_type": "code",
   "execution_count": null,
   "id": "4b8b9a32",
   "metadata": {},
   "outputs": [],
   "source": [
    "Q7. Can string data be stored in numpy arrays? If so, list at least one restriction that applies to this\n",
    "data.\n",
    "\n",
    "he elements of a NumPy array, or simply an array, are usually numbers, but can also be boolians, strings, or other objects."
   ]
  }
 ],
 "metadata": {
  "kernelspec": {
   "display_name": "Python 3 (ipykernel)",
   "language": "python",
   "name": "python3"
  },
  "language_info": {
   "codemirror_mode": {
    "name": "ipython",
    "version": 3
   },
   "file_extension": ".py",
   "mimetype": "text/x-python",
   "name": "python",
   "nbconvert_exporter": "python",
   "pygments_lexer": "ipython3",
   "version": "3.9.7"
  }
 },
 "nbformat": 4,
 "nbformat_minor": 5
}
