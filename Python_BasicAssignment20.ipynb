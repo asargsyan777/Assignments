{
 "cells": [
  {
   "cell_type": "code",
   "execution_count": null,
   "id": "cd465077",
   "metadata": {},
   "outputs": [],
   "source": [
    "Question1.\n",
    "Create a function that takes a list of strings and integers, and filters out the list so that it\n",
    "returns a list of integers only.\n",
    "\n",
    "def filter_list(l):\n",
    "  'return a new list with the strings filtered out'\n",
    "  return [i for i in l if not isinstance(i, str)]"
   ]
  },
  {
   "cell_type": "code",
   "execution_count": null,
   "id": "8ff231bd",
   "metadata": {},
   "outputs": [],
   "source": [
    "Question2\n",
    "Given a list of numbers, create a function which returns the list.\n",
    "\n",
    "List = []\n",
    "print(\"Blank List: \")\n",
    "print(List)\n",
    " \n",
    "List = [10, 20, 14]\n",
    "print(\"\\nList of numbers: \")\n",
    "print(List)\n",
    " \n",
    "# Creating a List of strings and accessing\n",
    "# using index\n",
    "List = [\"Ineuron\", \"For\", \"Ineuron\"]\n",
    "print(\"\\nList Items: \")\n",
    "print(List[0])\n",
    "print(List[2])\n",
    " \n",
    "\n",
    "List = [['Ineuron', 'For'], ['Ineuron']]\n",
    "print(\"\\nMulti-Dimensional List: \")\n",
    "print(List)"
   ]
  },
  {
   "cell_type": "code",
   "execution_count": null,
   "id": "79b65650",
   "metadata": {},
   "outputs": [],
   "source": [
    "Question3\n",
    "Create a function that takes the height and radius of a cone as arguments and returns the\n",
    "volume of the cone rounded to the nearest hundredth. See the resources tab for the formula.\n",
    "\n",
    "import math\n",
    "\n",
    "radius = float(input('Please Enter the Radius of a Cone: '))\n",
    "height = float(input('Please Enter the Height of a Cone: '))\n",
    "\n",
    "l = math.sqrt(radius * radius + height * height)\n",
    "\n",
    "SA = math.pi * radius * (radius + l)\n",
    "\n",
    "Volume = (1.0/3) * math.pi * radius * radius * height\n",
    "\n",
    "LSA = math.pi * radius  * l\n",
    "\n",
    "print(\"\\n Length of a Side (Slant)of a Cone = %.2f\" %l)\n",
    "print(\" The Surface Area of a Cone = %.2f \" %SA)\n",
    "print(\" The Volume of a Cone = %.2f\" %Volume);\n",
    "print(\" The Lateral Surface Area of a Cone = %.2f \" %LSA)"
   ]
  },
  {
   "cell_type": "code",
   "execution_count": null,
   "id": "e3c83cb6",
   "metadata": {},
   "outputs": [],
   "source": [
    "Question5\n",
    "Create a function that takes a list of numbers between 1 and 10 (excluding one number) and\n",
    "returns the missing number.\n",
    "\n",
    "def missing_num(lst):\n",
    "\n",
    "   for n in range(1,11):\n",
    "\n",
    "       if n not in lst:\n",
    "\n",
    "           print(n)\n",
    "\n",
    "lst = (1,3,4,5,6,7,8,9,10)\n",
    "\n",
    "missing_num(lst)"
   ]
  },
  {
   "cell_type": "code",
   "execution_count": null,
   "id": "287c1ea7",
   "metadata": {},
   "outputs": [],
   "source": []
  },
  {
   "cell_type": "code",
   "execution_count": null,
   "id": "eae4727d",
   "metadata": {},
   "outputs": [],
   "source": []
  }
 ],
 "metadata": {
  "kernelspec": {
   "display_name": "Python 3 (ipykernel)",
   "language": "python",
   "name": "python3"
  },
  "language_info": {
   "codemirror_mode": {
    "name": "ipython",
    "version": 3
   },
   "file_extension": ".py",
   "mimetype": "text/x-python",
   "name": "python",
   "nbconvert_exporter": "python",
   "pygments_lexer": "ipython3",
   "version": "3.9.7"
  }
 },
 "nbformat": 4,
 "nbformat_minor": 5
}
