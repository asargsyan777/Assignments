{
 "cells": [
  {
   "cell_type": "code",
   "execution_count": null,
   "id": "b995939f",
   "metadata": {},
   "outputs": [],
   "source": [
    "Question1\n",
    "Create a function that takes three parameters where:\n",
    " x is the start of the range (inclusive).\n",
    " y is the end of the range (inclusive).\n",
    " n is the divisor to be checked against.\n",
    "Return an ordered list with numbers in the range that are divisible by the third parameter n.\n",
    "Return an empty list if there are no numbers that are divisible by n.\n",
    "\n",
    "def list_operation(x, y, n):\n",
    "    l1 = []\n",
    "    \n",
    "    for i in range(x,y):\n",
    "        if (i%n) == 0:\n",
    "            l1.append(i)\n",
    "    return l1"
   ]
  },
  {
   "cell_type": "code",
   "execution_count": null,
   "id": "dd991a4c",
   "metadata": {},
   "outputs": [],
   "source": [
    "Question2\n",
    "Create a function that takes in two lists and returns True if the second list follows the first list\n",
    "by one element, and False otherwise. In other words, determine if the second list is the first\n",
    "list shifted to the right by 1.\n",
    "\n",
    "def simon_says(a,b):\n",
    "    a.remove(a[len(a)-1])\n",
    "    b.remove(b[0])\n",
    "    if set(a) == set(b):\n",
    "        print(True)\n",
    "    else:\n",
    "        print(False)"
   ]
  },
  {
   "cell_type": "code",
   "execution_count": null,
   "id": "f14b4731",
   "metadata": {},
   "outputs": [],
   "source": [
    "Question3\n",
    "A group of friends have decided to start a secret society. The name will be the first letter of\n",
    "each of their names, sorted in alphabetical order.\n",
    "Create a function that takes in a list of names and returns the name of the secret society.\n",
    "\n",
    "def society_name(a):\n",
    "    l2 = []\n",
    "    for i in range(len(a)):\n",
    "        first_character = a[i][0]\n",
    "        l2.append(first_character)\n",
    "    l2.sort()\n",
    "    s_name = str(''.join(l2))\n",
    "    print(s_name)   \n",
    "\n"
   ]
  },
  {
   "cell_type": "code",
   "execution_count": null,
   "id": "bd912b3c",
   "metadata": {},
   "outputs": [],
   "source": [
    "Question4\n",
    "An isogram is a word that has no duplicate letters. Create a function that takes a string and\n",
    "returns either True or False depending on whether or not its an \"isogram\".\n",
    "\n",
    "def is_isogram(a):\n",
    "    b = a.lower()\n",
    "    if len(list(a)) == len(set(b)):\n",
    "        print('True')\n",
    "    else:\n",
    "        print('False')  "
   ]
  },
  {
   "cell_type": "code",
   "execution_count": null,
   "id": "e947c5cc",
   "metadata": {},
   "outputs": [],
   "source": [
    "Question5\n",
    "Create a function that takes a string and returns True or False, depending on whether the\n",
    "characters are in order or not.\n",
    "\n",
    "def is_in_order(word):\n",
    "    \n",
    "    l3 = []\n",
    "    for i in word:\n",
    "        l3.append(i)\n",
    "\n",
    "    l3.sort()\n",
    "    joined_word = ''.join(l3)\n",
    "\n",
    "    if word == joined_word:\n",
    "        print(True)\n",
    "    else:\n",
    "        print(False)"
   ]
  },
  {
   "cell_type": "code",
   "execution_count": null,
   "id": "214d1746",
   "metadata": {},
   "outputs": [],
   "source": []
  }
 ],
 "metadata": {
  "kernelspec": {
   "display_name": "Python 3 (ipykernel)",
   "language": "python",
   "name": "python3"
  },
  "language_info": {
   "codemirror_mode": {
    "name": "ipython",
    "version": 3
   },
   "file_extension": ".py",
   "mimetype": "text/x-python",
   "name": "python",
   "nbconvert_exporter": "python",
   "pygments_lexer": "ipython3",
   "version": "3.9.7"
  }
 },
 "nbformat": 4,
 "nbformat_minor": 5
}
