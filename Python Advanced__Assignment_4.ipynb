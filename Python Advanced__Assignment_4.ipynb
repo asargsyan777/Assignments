{
 "cells": [
  {
   "cell_type": "code",
   "execution_count": null,
   "id": "d1d67170",
   "metadata": {},
   "outputs": [],
   "source": [
    "Q1. Which two operator overloading methods can you use in your classes to support iteration?\n",
    "\n",
    " + operator for different purposes.(concatenate two strings and also do addition)\n",
    " * Multiply two numbers print(3 * 4) and also Repeat the String print(\"ineuron\"*4)\n"
   ]
  },
  {
   "cell_type": "code",
   "execution_count": null,
   "id": "c67f2cad",
   "metadata": {},
   "outputs": [],
   "source": [
    "Q2. In what contexts do the two operator overloading methods manage printing?\n",
    "\n",
    "Example we can use.\n",
    "class Bill:\n",
    "    def __init__(self, value):\n",
    "        self.value = value\n",
    "    \n",
    "    def __add__(self, otherBill):\n",
    "        return self.value + otherBill.value\n",
    "        \n",
    "five_dollars = Bill(5)\n",
    "ten_dollars = Bill(10)\n",
    "\n",
    "total = five_dollars + ten_dollars\n",
    "print(total)"
   ]
  },
  {
   "cell_type": "code",
   "execution_count": null,
   "id": "606b4c7c",
   "metadata": {},
   "outputs": [],
   "source": [
    "Q3. In a class, how do you intercept slice operations?\n",
    "\n",
    "The __getitem__ method is used for accessing list items, array elements, dictionary and etc. Slice is a constructor in Python that creates slice object to represent set of indices that the range(start, stop, step) specifies. __getitem__ method can be implement in a class, and the behavior of slicing can be defined inside it."
   ]
  },
  {
   "cell_type": "code",
   "execution_count": null,
   "id": "048e69d6",
   "metadata": {},
   "outputs": [],
   "source": [
    "Q4. In a class, how do you capture in-place addition?\n",
    "\n",
    "Python provides the operator x += y to add two objects in-place by calculating the sum x + y and assigning the result to the first operands variable name x. WE can set up the in-place addition behavior for our own class by overriding the magic 'dunder' method __iadd__(self, other) in or class definition."
   ]
  },
  {
   "cell_type": "code",
   "execution_count": null,
   "id": "768c3664",
   "metadata": {},
   "outputs": [],
   "source": [
    "Q5. When is it appropriate to use operator overloading?\n",
    "\n",
    "Operator overloading is mostly useful when we are making a new class that falls into an existing  Abstract Base Class. Many of the Abstract Base Class in standard library module collections rely on the presence of certain special methods (and special methods, one with names starting and ending with double underscores "
   ]
  }
 ],
 "metadata": {
  "kernelspec": {
   "display_name": "Python 3 (ipykernel)",
   "language": "python",
   "name": "python3"
  },
  "language_info": {
   "codemirror_mode": {
    "name": "ipython",
    "version": 3
   },
   "file_extension": ".py",
   "mimetype": "text/x-python",
   "name": "python",
   "nbconvert_exporter": "python",
   "pygments_lexer": "ipython3",
   "version": "3.9.7"
  }
 },
 "nbformat": 4,
 "nbformat_minor": 5
}
