{
 "cells": [
  {
   "cell_type": "code",
   "execution_count": null,
   "id": "77f2173d",
   "metadata": {},
   "outputs": [],
   "source": [
    "1. Define the Bayesian interpretation of probability.\n",
    "\n",
    "Bayesian probability is an interpretation of the concept of probability, in which, instead of frequency or propensity of some phenomenon, probability is interpreted as reasonable expectation representing a state of knowledge or as quantification of a personal belief."
   ]
  },
  {
   "cell_type": "code",
   "execution_count": null,
   "id": "ef5dfe93",
   "metadata": {},
   "outputs": [],
   "source": [
    "2. Define probability of a union of two events with equation.\n",
    "\n",
    "The probability that Events A and B both occur is the probability of the intersection of A and B. The probability of the intersection of Events A and B is ..."
   ]
  },
  {
   "cell_type": "code",
   "execution_count": null,
   "id": "17462286",
   "metadata": {},
   "outputs": [],
   "source": [
    "3. What is joint probability? What is its formula?\n",
    "\n",
    "Probabilities are combined using multiplication, therefore the joint probability of independent events is calculated as the probability of event A multiplied by the probability of event B. This can be stated formally as follows: Joint Probability: P(A and B) = P(A) * P(B)"
   ]
  },
  {
   "cell_type": "code",
   "execution_count": null,
   "id": "c3a92017",
   "metadata": {},
   "outputs": [],
   "source": [
    "4. What is chain rule of probability?\n",
    "\n",
    "The chain rule, or general product rule, calculates any component of the joint distribution of a set of random variables using only conditional probabilities. This probability theory is used as a foundation for backpropagation and in creating Bayesian networks."
   ]
  },
  {
   "cell_type": "code",
   "execution_count": null,
   "id": "e386f5c8",
   "metadata": {},
   "outputs": [],
   "source": [
    "5. What is conditional probability means? What is the formula of it?\n",
    "\n",
    "A conditional distribution is a distribution of values for one variable that exists when you specify the values of other variables\n",
    "P(A | B)=P(A∩B)P(B)"
   ]
  },
  {
   "cell_type": "code",
   "execution_count": null,
   "id": "85a8271b",
   "metadata": {},
   "outputs": [],
   "source": [
    "6. What are continuous random variables?\n",
    "\n",
    "A continuous random variable is a random variable that has a real numerical value. Each numerical outcome of a continuous random variable can be assigned a probability."
   ]
  },
  {
   "cell_type": "code",
   "execution_count": null,
   "id": "d1fa6382",
   "metadata": {},
   "outputs": [],
   "source": [
    "7. What are Bernoulli distributions? What is the formula of it?\n",
    "\n",
    "Bernoulli distribution is a discrete probability distribution where the Bernoulli random variable can have only 0 or 1 as the outcome. p is the probability of success and 1 - p is the probability of failure. The mean of a Bernoulli distribution is E[X] = p and the variance, Var[X] = p(1-p)."
   ]
  },
  {
   "cell_type": "code",
   "execution_count": null,
   "id": "c7b3a443",
   "metadata": {},
   "outputs": [],
   "source": [
    "8. What is binomial distribution? What is the formula?\n",
    "The binomial distribution is calculated by multiplying the probability of success raised to the power of the number of successes and the probability of failure raised to the power of the difference between the number of successes and the number of trials.\n",
    "\n",
    "The formula of the probability of an event is: Probability Formula.P(x:n,p) = nCx px (1-p)n-x"
   ]
  },
  {
   "cell_type": "code",
   "execution_count": null,
   "id": "422d489e",
   "metadata": {},
   "outputs": [],
   "source": [
    "9. What is Poisson distribution? What is the formula?\n",
    "The formula for Poisson distribution is f(x) = P(X=x) = (e-λ λx )/x!. For the Poisson distribution, λ is always greater than 0. For Poisson distribution, the mean and the variance of the distribution are equal."
   ]
  },
  {
   "cell_type": "code",
   "execution_count": null,
   "id": "bafa5fe5",
   "metadata": {},
   "outputs": [],
   "source": [
    "10. Define covariance.\n",
    "\n",
    "The covariance is a measure for how two variables are related to each other"
   ]
  },
  {
   "cell_type": "code",
   "execution_count": null,
   "id": "b36037e6",
   "metadata": {},
   "outputs": [],
   "source": [
    "11. Define correlation\n",
    "\n",
    "Correlation explains how one or more variables are related to each other. These variables can be input data features which have been used to forecast our target variable. Correlation, statistical technique which determines how one variables moves/changes in relation with the other variable."
   ]
  },
  {
   "cell_type": "code",
   "execution_count": null,
   "id": "a6dad61a",
   "metadata": {},
   "outputs": [],
   "source": [
    "12. Define sampling with replacement. Give example.\n",
    "\n",
    "Simple random sampling is a process in which each article or object in population has an equal chance to get selected and by using this model there are fewer chances of being bias towards some particular objects. "
   ]
  },
  {
   "cell_type": "code",
   "execution_count": null,
   "id": "ade6bd89",
   "metadata": {},
   "outputs": [],
   "source": [
    "13. What is sampling without replacement? In sampling without replacement, the two sample values aren't independent"
   ]
  },
  {
   "cell_type": "code",
   "execution_count": null,
   "id": "7fbbd673",
   "metadata": {},
   "outputs": [],
   "source": [
    "14. What is hypothesis? Give example.\n",
    "\n",
    "There are some common methods given to find out the possible hypothesis from the Hypothesis space, where hypothesis space is represented by uppercase-h (H) and hypothesis by lowercase-h (h)."
   ]
  },
  {
   "cell_type": "code",
   "execution_count": null,
   "id": "83b49cbf",
   "metadata": {},
   "outputs": [],
   "source": []
  },
  {
   "cell_type": "code",
   "execution_count": null,
   "id": "a90af9b3",
   "metadata": {},
   "outputs": [],
   "source": []
  }
 ],
 "metadata": {
  "kernelspec": {
   "display_name": "Python 3 (ipykernel)",
   "language": "python",
   "name": "python3"
  },
  "language_info": {
   "codemirror_mode": {
    "name": "ipython",
    "version": 3
   },
   "file_extension": ".py",
   "mimetype": "text/x-python",
   "name": "python",
   "nbconvert_exporter": "python",
   "pygments_lexer": "ipython3",
   "version": "3.9.7"
  }
 },
 "nbformat": 4,
 "nbformat_minor": 5
}
