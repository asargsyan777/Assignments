{
 "cells": [
  {
   "cell_type": "code",
   "execution_count": null,
   "id": "9021ece2",
   "metadata": {},
   "outputs": [],
   "source": [
    "Q-1. Write an SQL query to print the first three characters of  FIRST_NAME from Worker\n",
    "table.\n",
    "\n",
    "SELECT SUBSTRING(FIRST_NAME,1,3) \n",
    "     FROM Worker;"
   ]
  },
  {
   "cell_type": "code",
   "execution_count": null,
   "id": "d457ba0a",
   "metadata": {},
   "outputs": [],
   "source": [
    "Q-2. Write an SQL query to find the position of the alphabet ('a') in the first name\n",
    "column 'Amitabh' from Worker table.\n",
    "\n",
    "Select INSTR(FIRST_NAME, BINARY'a') from Worker where FIRST_NAME = 'Amitabh';"
   ]
  },
  {
   "cell_type": "code",
   "execution_count": null,
   "id": "71aed3bd",
   "metadata": {},
   "outputs": [],
   "source": [
    "Q-3. Write an SQL query to print the name of employees having the highest salary in each\n",
    "department.\n",
    "\n",
    "Select First_name,Dept_Id,Max(Salary) from department grup by Dept_Id."
   ]
  }
 ],
 "metadata": {
  "kernelspec": {
   "display_name": "Python 3 (ipykernel)",
   "language": "python",
   "name": "python3"
  },
  "language_info": {
   "codemirror_mode": {
    "name": "ipython",
    "version": 3
   },
   "file_extension": ".py",
   "mimetype": "text/x-python",
   "name": "python",
   "nbconvert_exporter": "python",
   "pygments_lexer": "ipython3",
   "version": "3.9.7"
  }
 },
 "nbformat": 4,
 "nbformat_minor": 5
}
