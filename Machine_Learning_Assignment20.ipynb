{
 "cells": [
  {
   "cell_type": "code",
   "execution_count": null,
   "id": "3f3e6c58",
   "metadata": {},
   "outputs": [],
   "source": [
    "1. What is Support Vector Machines?\n",
    "\n",
    "SVM or Support Vector Machine is a linear model for classification and regression problems. It can solve linear and non-linear problems and work well for many practical problems. The idea of SVM is simple: The algorithm creates a line or a hyperplane which separates the data into classes"
   ]
  },
  {
   "cell_type": "code",
   "execution_count": null,
   "id": "b58a4926",
   "metadata": {},
   "outputs": [],
   "source": [
    "2. What is the concept of a support vector?\n",
    "\n",
    "Support vectors are data points that are closer to the hyperplane and influence the position and orientation of the hyperplane. Using these support vectors, we maximize the margin of the classifier. Deleting the support vectors will change the position of the hyperplane"
   ]
  },
  {
   "cell_type": "code",
   "execution_count": null,
   "id": "f77d3ac0",
   "metadata": {},
   "outputs": [],
   "source": [
    "3. When using SVMs, why is it necessary to scale the inputs?\n",
    "\n",
    "An SVM takes this function and uses it to compare the similarity of a point (x1) to every other point in the training set by summing the differences as:\n",
    "\n",
    "(x1−l1)2+(x2−l2)2...+(xn−ln)2"
   ]
  },
  {
   "cell_type": "code",
   "execution_count": null,
   "id": "c3b22542",
   "metadata": {},
   "outputs": [],
   "source": [
    "4. When an SVM classifier classifies a case, can it output a confidence score? What about a\n",
    "percentage chance?\n",
    "\n",
    "An SVM classifier can output the distance between the test instance and the decision boundary, and you can use this as a confidence score. However, this score cannot be directly converted into an estimation of the class probability."
   ]
  },
  {
   "cell_type": "code",
   "execution_count": null,
   "id": "4ea009d0",
   "metadata": {},
   "outputs": [],
   "source": [
    "5. Should you train a model on a training set with millions of instances and hundreds of features\n",
    "using the primal or dual form of the SVM problem?\n",
    "\n",
    "So if there are millions of instances, you should definitely use the primal form, because the dual dorm will be much too slow."
   ]
  },
  {
   "cell_type": "code",
   "execution_count": null,
   "id": "20fba565",
   "metadata": {},
   "outputs": [],
   "source": [
    "7. To solve the soft margin linear SVM classifier problem with an off-the-shelf QP solver, how should\n",
    "the QP parameters (H, f, A, and b) be set?"
   ]
  },
  {
   "cell_type": "code",
   "execution_count": null,
   "id": "6ce37624",
   "metadata": {},
   "outputs": [],
   "source": [
    "8. On a linearly separable dataset, train a LinearSVC. Then, using the same dataset, train an SVC and\n",
    "an SGDClassifier. See if you can get them to make a model that is similar to yours.\n",
    "\n",
    "from sklearn.svm import SVC\n",
    "from sklearn import datasets\n",
    "\n",
    "iris = datasets.load_iris()\n",
    "X = iris[\"data\"][:, (2, 3)]  # petal length, petal width\n",
    "y = iris[\"target\"]\n",
    "\n",
    "setosa_or_versicolor = (y == 0) | (y == 1)\n",
    "X = X[setosa_or_versicolor]\n",
    "y = y[setosa_or_versicolor]\n",
    "\n",
    "# SVM Classifier model\n",
    "svm_clf = SVC(kernel=\"linear\", C=float(\"inf\"))\n",
    "svm_clf.fit(X, y)"
   ]
  },
  {
   "cell_type": "code",
   "execution_count": null,
   "id": "963bcee0",
   "metadata": {},
   "outputs": [],
   "source": [
    "9. On the MNIST dataset, train an SVM classifier. Youll need to use one-versus-the-rest to assign all\n",
    "10 digits because SVM classifiers are binary classifiers. To accelerate up the process, you might want\n",
    "to tune the hyperparameters using small validation sets. What level of precision can you achieve?"
   ]
  },
  {
   "cell_type": "code",
   "execution_count": null,
   "id": "b029e665",
   "metadata": {},
   "outputs": [],
   "source": [
    "10. On the California housing dataset, train an SVM regressor.\n",
    "\n",
    "Confidence =0.95"
   ]
  }
 ],
 "metadata": {
  "kernelspec": {
   "display_name": "Python 3 (ipykernel)",
   "language": "python",
   "name": "python3"
  },
  "language_info": {
   "codemirror_mode": {
    "name": "ipython",
    "version": 3
   },
   "file_extension": ".py",
   "mimetype": "text/x-python",
   "name": "python",
   "nbconvert_exporter": "python",
   "pygments_lexer": "ipython3",
   "version": "3.9.7"
  }
 },
 "nbformat": 4,
 "nbformat_minor": 5
}
