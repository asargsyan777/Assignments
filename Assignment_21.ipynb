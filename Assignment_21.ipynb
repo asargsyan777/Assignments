{
 "cells": [
  {
   "cell_type": "code",
   "execution_count": null,
   "id": "c04870dc",
   "metadata": {},
   "outputs": [],
   "source": [
    "1. Add the current date to the text file today.txt as a string.\n",
    "\n",
    "import datetime\n",
    "\n",
    "todays_date = datetime.date.today()\n",
    "filename = todays_date.strftime('%Y-%m-%d') + '.txt'\n",
    "print(filename)"
   ]
  },
  {
   "cell_type": "code",
   "execution_count": null,
   "id": "8ee3a96b",
   "metadata": {},
   "outputs": [],
   "source": [
    "2. Read the text file today.txt into the string today_string\n",
    "\n",
    "with open (\"today.txt\", \"r\") as today_string:\n",
    "    data = today_string.read().splitlines()\n",
    "\n"
   ]
  },
  {
   "cell_type": "code",
   "execution_count": null,
   "id": "e1b670e4",
   "metadata": {},
   "outputs": [],
   "source": [
    "3. Parse the date from today_string.\n",
    "\n",
    "import datetime\n",
    "\n",
    "date_time_str = '2020-04-27 08:15:27.243860'\n",
    "date_time_obj = datetime.datetime.strptime(date_time_str, '%Y-%m-%d %H:%M:%S.%f')\n",
    "\n",
    "print('Date:', date_time_obj.date())\n",
    "print('Time:', date_time_obj.time())\n",
    "print('Date-time:', date_time_obj)"
   ]
  },
  {
   "cell_type": "code",
   "execution_count": null,
   "id": "a5493f41",
   "metadata": {},
   "outputs": [],
   "source": [
    "4. List the files in your current directory.\n",
    "\n",
    "import os\n",
    " \n",
    "path = '.'\n",
    " \n",
    "files = os.listdir(path)\n",
    "\n",
    "for filename in files:\n",
    "    print(filename)"
   ]
  },
  {
   "cell_type": "code",
   "execution_count": null,
   "id": "01fdc451",
   "metadata": {},
   "outputs": [],
   "source": [
    "5. Create a list of all of the files in your parent directory (minimum five files should be available).\n",
    "\n",
    "import os\n",
    "\n",
    "def parent_filedir(n):\n",
    "    return parent_filedir_iter(n, os.path.dirname(__file__))\n",
    "\n",
    "def parent_filedir_iter(n, path):\n",
    "    n = int(n)\n",
    "    if n <= 5:\n",
    "        return path\n",
    "    return parent_filedir_iter(n - 1, os.path.dirname(path))\n",
    "\n",
    "test_dir = os.path.abspath(parent_filedir(2))"
   ]
  },
  {
   "cell_type": "code",
   "execution_count": null,
   "id": "db89e805",
   "metadata": {},
   "outputs": [],
   "source": [
    "6. Use multiprocessing to create three separate processes. Make each one wait a random number of\n",
    "seconds between one and five, print the current time, and then exit.\n",
    "\n",
    "import multiprocessing\n",
    "import random\n",
    "import time\n",
    "\n",
    "def worker(name: str) -> None:\n",
    "\n",
    "    print(f'Started worker {name}')\n",
    "    worker_time = random.choice(range(1, 5))\n",
    "    time.sleep(worker_time)\n",
    "    print(f'{name} worker finished in {worker_time} seconds')\n",
    "if __name__ == '__main__':\n",
    "\n",
    "    processes = []\n",
    "    for i in range(5):\n",
    "\n",
    "        process = multiprocessing.Process(target=worker, \n",
    "                                          args=(f'computer_{i}',))\n",
    "        processes.append(process)\n",
    "        process.start()   \n",
    "\n",
    "    for proc in processes:\n",
    "        proc.join()"
   ]
  },
  {
   "cell_type": "code",
   "execution_count": null,
   "id": "4d35c62f",
   "metadata": {},
   "outputs": [],
   "source": [
    "7. Create a date object of your day of birth.\n",
    "\n",
    "import datetime\n",
    "x = datetime.datetime(1982, 4, 22)\n",
    "\n",
    "print(x.strftime(\"%b %d %Y %H:%M:%S\"))"
   ]
  },
  {
   "cell_type": "code",
   "execution_count": null,
   "id": "068fc963",
   "metadata": {},
   "outputs": [],
   "source": [
    "8. What day of the week was your day of birth?\n",
    "\n",
    "import datetime\n",
    "import calendar\n",
    " \n",
    "def findDay(date):\n",
    "    born = datetime.datetime.strptime(date, '%d %m %Y').weekday()\n",
    "    return (calendar.day_name[born])\n",
    " \n",
    "print(findDay(date))"
   ]
  },
  {
   "cell_type": "code",
   "execution_count": null,
   "id": "b9a3a1d1",
   "metadata": {},
   "outputs": [],
   "source": [
    "9. When will you be (or when were you) 10,000 days old?\n",
    "\n",
    "import datetime\n",
    "\n",
    "start_date = datetime.datetime(year=1982, month=4, day=2)\n",
    "\n",
    "end_date = start_date + datetime.timedelta(days=10000)\n",
    "\n",
    "print(end_date.date())\n"
   ]
  }
 ],
 "metadata": {
  "kernelspec": {
   "display_name": "Python 3 (ipykernel)",
   "language": "python",
   "name": "python3"
  },
  "language_info": {
   "codemirror_mode": {
    "name": "ipython",
    "version": 3
   },
   "file_extension": ".py",
   "mimetype": "text/x-python",
   "name": "python",
   "nbconvert_exporter": "python",
   "pygments_lexer": "ipython3",
   "version": "3.9.7"
  }
 },
 "nbformat": 4,
 "nbformat_minor": 5
}
