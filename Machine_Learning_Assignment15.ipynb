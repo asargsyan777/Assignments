{
 "cells": [
  {
   "cell_type": "code",
   "execution_count": null,
   "id": "6079dcc5",
   "metadata": {},
   "outputs": [],
   "source": [
    "1. Recognize the differences between supervised, semi-supervised, and unsupervised learning.\n",
    "\n",
    "An unsupervised model, in contrast, provides unlabeled data that the algorithm tries to make sense of by extracting features and patterns on its own. Semi-supervised learning takes a middle ground. It uses a small amount of labeled data bolstering a larger set of unlabeled data"
   ]
  },
  {
   "cell_type": "code",
   "execution_count": null,
   "id": "a702e270",
   "metadata": {},
   "outputs": [],
   "source": [
    "2. Describe in detail classification problems.\n",
    "Machine learning classification problems are those which require the given data set to be classified in two or more categories. For example, whether a person is suffering from a disease X (answer in Yes or No) can be termed as a classification problem."
   ]
  },
  {
   "cell_type": "code",
   "execution_count": null,
   "id": "adccfc48",
   "metadata": {},
   "outputs": [],
   "source": [
    "3. Describe each phase of the classification process in detail.\n",
    "\n",
    "Generally the biomedical data classification process can be divided into four phases, namely (1) data acquisition and segmentation, (2) data preprocessing, (3) feature extraction/dimension reduction, and (4) recognition and classification."
   ]
  },
  {
   "cell_type": "code",
   "execution_count": null,
   "id": "94b85149",
   "metadata": {},
   "outputs": [],
   "source": [
    "4. Go through the SVM model in depth using various scenarios.\n",
    "SVM works by mapping data to a high-dimensional feature space so that data points can be categorized, even when the data are not otherwise linearly separable. A separator between the categories is found, then the data are transformed in such a way that the separator could be drawn as a hyperplane.\n"
   ]
  },
  {
   "cell_type": "code",
   "execution_count": null,
   "id": "077d51bb",
   "metadata": {},
   "outputs": [],
   "source": [
    "5. What are some of the benefits and drawbacks of SVM?\n",
    "\n",
    "Pros: It works really well with a clear margin of separation. It is effective in high dimensional spaces. ...\n",
    "Cons: It doesn't perform well when we have large data set because the required training time is higher."
   ]
  },
  {
   "cell_type": "code",
   "execution_count": null,
   "id": "36b86e9e",
   "metadata": {},
   "outputs": [],
   "source": [
    "6. Go over the kNN model in depth.\n",
    "\n",
    "The k-nearest neighbors (KNN) algorithm is a data classification method for estimating the likelihood that a data point will become a member of one group or another based on what group the data points nearest to it belong to"
   ]
  },
  {
   "cell_type": "code",
   "execution_count": null,
   "id": "d295e60e",
   "metadata": {},
   "outputs": [],
   "source": [
    "7. Discuss the kNN algorithms error rate and validation error.\n",
    "The error rate at K=1 is always zero for the training sample. This is because the closest point to any training data point is itself. Hence it'll always overfit. You should try out different K values on a validation set and plot the validation error."
   ]
  },
  {
   "cell_type": "code",
   "execution_count": null,
   "id": "6291e670",
   "metadata": {},
   "outputs": [],
   "source": [
    "8. For kNN, talk about how to measure the difference between the test and training results.\n",
    "\n",
    "Evaluation procedure 1 - Train and test on the entire dataset. Train the model on the entire dataset. Test the model on the same dataset, and evaluate how well we did by comparing the predicted response values with the true response values"
   ]
  },
  {
   "cell_type": "code",
   "execution_count": null,
   "id": "1e73b91a",
   "metadata": {},
   "outputs": [],
   "source": [
    "9. Create the kNN algorithm.\n",
    "The k-nearest neighbor algorithm is imported from the scikit-learn package.\n",
    "Create feature and target variables.\n",
    "Split data into training and test data.\n",
    "Generate a k-NN model using neighbors value.\n",
    "Train or fit the data into the model.\n",
    "Predict the future.\n"
   ]
  },
  {
   "cell_type": "code",
   "execution_count": null,
   "id": "29093cbd",
   "metadata": {},
   "outputs": [],
   "source": [
    "11. Describe the different ways to scan a decision tree.\n",
    "\n",
    "Decision trees are extremely useful for data analytics and machine learning because they break down complex data into more manageable parts. They're often used in these fields for prediction analysis, data classification, and regression"
   ]
  },
  {
   "cell_type": "code",
   "execution_count": null,
   "id": "e0384b76",
   "metadata": {},
   "outputs": [],
   "source": [
    "12. Describe in depth the decision tree algorithm.\n",
    "The decision tree splits the nodes on all available variables and then selects the split which results in most homogeneous sub-nodes. The ID3 algorithm builds decision trees using a top-down greedy search approach through the space of possible branches with no backtracking."
   ]
  },
  {
   "cell_type": "code",
   "execution_count": null,
   "id": "891def42",
   "metadata": {},
   "outputs": [],
   "source": []
  },
  {
   "cell_type": "code",
   "execution_count": null,
   "id": "041100b9",
   "metadata": {},
   "outputs": [],
   "source": []
  }
 ],
 "metadata": {
  "kernelspec": {
   "display_name": "Python 3 (ipykernel)",
   "language": "python",
   "name": "python3"
  },
  "language_info": {
   "codemirror_mode": {
    "name": "ipython",
    "version": 3
   },
   "file_extension": ".py",
   "mimetype": "text/x-python",
   "name": "python",
   "nbconvert_exporter": "python",
   "pygments_lexer": "ipython3",
   "version": "3.9.7"
  }
 },
 "nbformat": 4,
 "nbformat_minor": 5
}
