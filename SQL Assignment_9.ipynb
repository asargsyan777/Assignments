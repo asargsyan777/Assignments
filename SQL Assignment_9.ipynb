{
 "cells": [
  {
   "cell_type": "code",
   "execution_count": null,
   "id": "aa4d1974",
   "metadata": {},
   "outputs": [],
   "source": [
    "Q-17. Write an SQL query to show the top n (say 10) records of a table.\n",
    "\n",
    "Select * from Worker Order By Salary DESC Limit 10;"
   ]
  },
  {
   "cell_type": "code",
   "execution_count": null,
   "id": "1ad004d3",
   "metadata": {},
   "outputs": [],
   "source": [
    "Q-18. Write an SQL query to determine the nth (say n=5) highest salary from a table.\n",
    "\n",
    "SELECT TOP 5 Salary\n",
    "FROM (\n",
    " SELECT DISTINCT TOP n Salary\n",
    " FROM Worker \n",
    " ORDER BY Salary DESC\n",
    " )\n",
    "ORDER BY Salary ASC;"
   ]
  }
 ],
 "metadata": {
  "kernelspec": {
   "display_name": "Python 3 (ipykernel)",
   "language": "python",
   "name": "python3"
  },
  "language_info": {
   "codemirror_mode": {
    "name": "ipython",
    "version": 3
   },
   "file_extension": ".py",
   "mimetype": "text/x-python",
   "name": "python",
   "nbconvert_exporter": "python",
   "pygments_lexer": "ipython3",
   "version": "3.9.7"
  }
 },
 "nbformat": 4,
 "nbformat_minor": 5
}
