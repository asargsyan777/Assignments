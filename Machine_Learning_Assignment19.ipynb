{
 "cells": [
  {
   "cell_type": "code",
   "execution_count": null,
   "id": "46a67427",
   "metadata": {},
   "outputs": [],
   "source": [
    "1. Describe how the Market Basket Research makes use of association analysis concepts.\n",
    "\n",
    "Market Basket Analysis is one of the key techniques used by large retailers to uncover associations between items. It works by looking for combinations of items that occur together frequently in transactions. To put it another way, it allows retailers to identify relationships between the items that people buy"
   ]
  },
  {
   "cell_type": "code",
   "execution_count": null,
   "id": "0fce6526",
   "metadata": {},
   "outputs": [],
   "source": [
    "2. Give an example of the Apriori algorithm for learning association rules.\n",
    "\n",
    "As the given threshold or minimum confidence is 50%, so the first three rules A ^B → C, B^C → A, and A^C → B can be considered as the strong association rules for the given problem.\n",
    "Sup{(A ^B) ^C}/sup(A ^B)= 2/4=0.5=50%"
   ]
  },
  {
   "cell_type": "code",
   "execution_count": null,
   "id": "870b7a5b",
   "metadata": {},
   "outputs": [],
   "source": [
    "3. In hierarchical clustering, how is the distance between clusters measured? Explain how this metric\n",
    "is used to decide when to end the iteration.\n",
    "\n",
    "For most common hierarchical clustering software, the default distance measure is the Euclidean distance. This is the square root of the sum of the square differences. However, for gene expression, correlation distance is often used."
   ]
  },
  {
   "cell_type": "code",
   "execution_count": null,
   "id": "626085f3",
   "metadata": {},
   "outputs": [],
   "source": [
    "4. In the k-means algorithm, how do you recompute the cluster centroids?\n",
    "\n",
    "Select k centroids. These will be the center point for each segment.\n",
    "Assign data points to nearest centroid.\n",
    "Reassign centroid value to be the calculated mean value for each cluster.\n",
    "Reassign data points to nearest centroid.\n",
    "Repeat until data points stay in the same cluster."
   ]
  },
  {
   "cell_type": "code",
   "execution_count": null,
   "id": "c6371309",
   "metadata": {},
   "outputs": [],
   "source": [
    "6. At the start of the clustering exercise, discuss one method for determining the required number of\n",
    "clusters.\n",
    "\n",
    "1 Elbow method.\n",
    "2 X-means clustering.\n",
    "3 Information criterion approach.\n",
    "4 Information–theoretic approach.\n",
    "5 Silhouette method.\n",
    "6 Cross-validation.\n",
    "7 Finding number of clusters in text databases.\n",
    "8 Analyzing the kernel matrix."
   ]
  },
  {
   "cell_type": "code",
   "execution_count": null,
   "id": "2959df8e",
   "metadata": {},
   "outputs": [],
   "source": [
    "7. Discuss the k-means algorithms advantages and disadvantages.\n",
    "Guarantees convergence. Can warm-start the positions of centroids. Easily adapts to new examples. Generalizes to clusters of different shapes and sizes, such as elliptical clusters.\n",
    "\n",
    "k-Means doesn't perform well if the clusters have varying sizes, different densities, or non-spherical shapes. Has to be run for a certain amount of iteration or it would produce a suboptimal result. Computationally expensive as distance is to be calculated from each centroid to all data points."
   ]
  },
  {
   "cell_type": "code",
   "execution_count": null,
   "id": "d8d58f1c",
   "metadata": {},
   "outputs": [],
   "source": []
  },
  {
   "cell_type": "code",
   "execution_count": null,
   "id": "de9b91c2",
   "metadata": {},
   "outputs": [],
   "source": []
  },
  {
   "cell_type": "code",
   "execution_count": null,
   "id": "69f1b40a",
   "metadata": {},
   "outputs": [],
   "source": []
  }
 ],
 "metadata": {
  "kernelspec": {
   "display_name": "Python 3 (ipykernel)",
   "language": "python",
   "name": "python3"
  },
  "language_info": {
   "codemirror_mode": {
    "name": "ipython",
    "version": 3
   },
   "file_extension": ".py",
   "mimetype": "text/x-python",
   "name": "python",
   "nbconvert_exporter": "python",
   "pygments_lexer": "ipython3",
   "version": "3.9.7"
  }
 },
 "nbformat": 4,
 "nbformat_minor": 5
}
