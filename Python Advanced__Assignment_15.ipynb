{
 "cells": [
  {
   "cell_type": "code",
   "execution_count": null,
   "id": "87bdb62e",
   "metadata": {},
   "outputs": [],
   "source": [
    "1.What are the new features added in Python 3.8 version?\n",
    "\n",
    "Assignment expressions — readability\n",
    "Arguments types — robustness(The new version of Python offers a way to specify parameters that can only accept either positional or keyword argument using syntax / and * for separation.)\n",
    "f-string 2.0 — debugging(The new update enables the using equal sign = as a format specifier in expressions inside f-strings with syntax f'{expr=}')\n",
    "Reversible dictionary — order (Dictionaries are now iterable in reversed insertion order using reversed)\n",
    "Continue — finally (It used to be illegal to use continue statement in a finally clause due to a problem with the implementation. Not anymore.)\n",
    "New modules — metadata (There is a new importlib.metadata module that allows you to read metadata from third-party packages. You can extract version numbers of packages in your scripts.)"
   ]
  },
  {
   "cell_type": "code",
   "execution_count": null,
   "id": "66eaf0a6",
   "metadata": {},
   "outputs": [],
   "source": [
    "2. What is monkey patching in Python?\n",
    "\n",
    "In Python, the term monkey patch refers to dynamic (or run-time) modifications of a class or module.\n",
    "# monk.py \n",
    "class A: \n",
    "     def func(self): \n",
    "          print (\"func() is being called\") \n",
    "\n",
    "We use above module (monk) in below code and change behavior of func() at run-time by assigning different value.\n",
    "filter_none\n",
    "\n",
    "import monk \n",
    "def monkey_f(self): \n",
    "     print (\"monkey_f() is being called\") \n",
    "# replacing address of \"func\" with \"monkey_f\" \n",
    "monk.A.func = monkey_f \n",
    "obj = monk.A() \n",
    "# calling function \"func\" whose address got replaced \n",
    "# with function \"monkey_f()\" \n",
    "obj.func() "
   ]
  },
  {
   "cell_type": "code",
   "execution_count": null,
   "id": "ed9cac37",
   "metadata": {},
   "outputs": [],
   "source": [
    "3. What is the difference between a shallow copy and deep copy?\n",
    "\n",
    "In Shallow copy, a copy of the original object is stored and only the reference address is finally copied. In Deep copy, the copy of the original object and the repetitive copies both are stored."
   ]
  },
  {
   "cell_type": "code",
   "execution_count": null,
   "id": "bb16784d",
   "metadata": {},
   "outputs": [],
   "source": [
    "4. What is the maximum possible length of an identifier?\n",
    "\n",
    "The highest possible length of an identifier is 79 characters."
   ]
  },
  {
   "cell_type": "code",
   "execution_count": null,
   "id": "e08eac2f",
   "metadata": {},
   "outputs": [],
   "source": [
    "5. What is generator comprehension?\n",
    "\n",
    "A generator comprehension is a single-line specification for defining a generator in Python.\n",
    "gen = (i for i in range(10))"
   ]
  }
 ],
 "metadata": {
  "kernelspec": {
   "display_name": "Python 3 (ipykernel)",
   "language": "python",
   "name": "python3"
  },
  "language_info": {
   "codemirror_mode": {
    "name": "ipython",
    "version": 3
   },
   "file_extension": ".py",
   "mimetype": "text/x-python",
   "name": "python",
   "nbconvert_exporter": "python",
   "pygments_lexer": "ipython3",
   "version": "3.9.7"
  }
 },
 "nbformat": 4,
 "nbformat_minor": 5
}
