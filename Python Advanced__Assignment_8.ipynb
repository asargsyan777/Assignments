{
 "cells": [
  {
   "cell_type": "code",
   "execution_count": null,
   "id": "9ff8b41d",
   "metadata": {},
   "outputs": [],
   "source": [
    "Q1. What are the two latest user-defined exception constraints in Python 3.X?\n",
    "Raising exceptions\n",
    "Catching exceptions."
   ]
  },
  {
   "cell_type": "code",
   "execution_count": null,
   "id": "4ef697fe",
   "metadata": {},
   "outputs": [],
   "source": [
    "Q2. How are class-based exceptions that have been raised matched to handlers?\n",
    "\n",
    "The BaseException is the base class of all other exceptions. User defined classes cannot be directly derived from this class, to derive user defied class, we need to use Exception class"
   ]
  },
  {
   "cell_type": "code",
   "execution_count": null,
   "id": "e0929ef5",
   "metadata": {},
   "outputs": [],
   "source": [
    "Q3. Describe two methods for attaching context information to exception artefacts.\n",
    "\n",
    "Implicit Exception Chaining\n",
    "Explicit Exception Chaining"
   ]
  },
  {
   "cell_type": "code",
   "execution_count": null,
   "id": "7fd46193",
   "metadata": {},
   "outputs": [],
   "source": [
    "Q4. Describe two methods for specifying the text of an exception objects error message.\n",
    "\n",
    "When an error occurs within a method, the method creates an object and hands it off to the runtime system. The object, called an exception object, contains information about the error, including its type and the state of the program when the error occurred."
   ]
  },
  {
   "cell_type": "code",
   "execution_count": null,
   "id": "01655a8d",
   "metadata": {},
   "outputs": [],
   "source": [
    "Q5. How to get the value of an exception as a string in Python.\n",
    "\n",
    "Errors detected during execution are exceptions. Try-and-except blocks are used to handle such errors and capture information about them, such as getting the value of an exception as a string.\n",
    "Example.\n",
    "try :\n",
    "    num_list = [10]\n",
    "    num_list += 5\n",
    "except Exception as error:\n",
    "   error_string = str(error)\n",
    "   print(error_string)"
   ]
  },
  {
   "cell_type": "code",
   "execution_count": null,
   "id": "8dabd572",
   "metadata": {},
   "outputs": [],
   "source": []
  }
 ],
 "metadata": {
  "kernelspec": {
   "display_name": "Python 3 (ipykernel)",
   "language": "python",
   "name": "python3"
  },
  "language_info": {
   "codemirror_mode": {
    "name": "ipython",
    "version": 3
   },
   "file_extension": ".py",
   "mimetype": "text/x-python",
   "name": "python",
   "nbconvert_exporter": "python",
   "pygments_lexer": "ipython3",
   "version": "3.9.7"
  }
 },
 "nbformat": 4,
 "nbformat_minor": 5
}
