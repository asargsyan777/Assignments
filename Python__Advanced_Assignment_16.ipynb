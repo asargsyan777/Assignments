{
 "cells": [
  {
   "cell_type": "code",
   "execution_count": null,
   "id": "fd9cf0a3",
   "metadata": {},
   "outputs": [],
   "source": [
    "Q1. What is the benefit of regular expressions?\n",
    "\n",
    "Regular expressions are useful in search and replace operations. The typical use case is to look for a sub-string that matches a pattern and replace it with something else. "
   ]
  },
  {
   "cell_type": "code",
   "execution_count": null,
   "id": "d011c77a",
   "metadata": {},
   "outputs": [],
   "source": [
    "Q2. Describe the difference between the effects of \"(ab)c+\" and \"a(bc)+\" Which of these, if any, is the\n",
    "unqualified pattern \"abc+\"?"
   ]
  },
  {
   "cell_type": "code",
   "execution_count": null,
   "id": "b2529b1c",
   "metadata": {},
   "outputs": [],
   "source": [
    "Q3. How much do you need to use the following sentence while using regular expressions?\n",
    "\n",
    "In order to use regular expressions we simply do import re\n",
    "Example \n",
    "\n",
    "import re\n",
    "text = \"test1, test2, test3\"\n",
    "regex = re.compile(r\"test1\")\n",
    "print(regex.match(text).span())\n",
    "print(regex.sub(\"replace\", text))\n"
   ]
  },
  {
   "cell_type": "code",
   "execution_count": null,
   "id": "1d7b692b",
   "metadata": {},
   "outputs": [],
   "source": [
    "Q4. Which characters have special significance in square brackets when expressing a range, and\n",
    "under what circumstances?\n",
    "\n",
    "The [] construct in a regex is essentially shorthand for an | on all of the contents. For example [abc] matches a, b or c. Additionally the - character has special meaning inside of a [] . It provides a range construct. The regex [a-z] will match any letter a through z."
   ]
  },
  {
   "cell_type": "code",
   "execution_count": null,
   "id": "66949c3a",
   "metadata": {},
   "outputs": [],
   "source": [
    "Q5. How does compiling a regular-expression object benefit you?\n",
    "\n",
    "We can combine a regular expression pattern into pattern objects, which can be used for pattern matching. It also helps to search a pattern again without rewriting it."
   ]
  },
  {
   "cell_type": "code",
   "execution_count": null,
   "id": "3226a88a",
   "metadata": {},
   "outputs": [],
   "source": [
    "Q6. What are some examples of how to use the match object returned by re.match and re.search?\n",
    "\n",
    "he re.search() and re.match() both are functions of re module in python. These functions are very efficient and fast for searching in strings.\n",
    "\n",
    "Example.\n",
    "imgtag  = re.match(r'<img.*?>',line)\n",
    "if imtag:\n",
    "    print(\"yo it's a {}\".format(imgtag.group(0)))"
   ]
  },
  {
   "cell_type": "code",
   "execution_count": null,
   "id": "c39de5c9",
   "metadata": {},
   "outputs": [],
   "source": [
    "Q7. What is the difference between using a vertical bar (|) as an alteration and using square brackets\n",
    "as a character set?\n",
    "\n",
    "(|) is used to provide 'or' functionality when used within ()'s, while the [] denote character classes, as in match any of the characters/symbols inside the [] for the specified number of characters denoted by the following ?*+{#} specifiers, or if a ^ is used, it means don't match that symbol."
   ]
  },
  {
   "cell_type": "code",
   "execution_count": null,
   "id": "2fa68266",
   "metadata": {},
   "outputs": [],
   "source": [
    "Q8. In regular-expression search patterns, why is it necessary to use the raw-string indicator (r)? In  \n",
    "replacement strings?\n",
    "\n",
    "Raw strings help you get the \"source code\" of a RegEx safely to the RegEx parser, which will then assign meaning to character sequences like \\d , \\w , \\n , etc"
   ]
  }
 ],
 "metadata": {
  "kernelspec": {
   "display_name": "Python 3 (ipykernel)",
   "language": "python",
   "name": "python3"
  },
  "language_info": {
   "codemirror_mode": {
    "name": "ipython",
    "version": 3
   },
   "file_extension": ".py",
   "mimetype": "text/x-python",
   "name": "python",
   "nbconvert_exporter": "python",
   "pygments_lexer": "ipython3",
   "version": "3.9.7"
  }
 },
 "nbformat": 4,
 "nbformat_minor": 5
}
