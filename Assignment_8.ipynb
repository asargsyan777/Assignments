{
 "cells": [
  {
   "cell_type": "code",
   "execution_count": null,
   "id": "ce8e70c5",
   "metadata": {},
   "outputs": [],
   "source": [
    "1. Is the Python Standard Library included with PyInputPlus?\n",
    "The answer is yes,simply because PyInputPlus is a Pyton module which is helping us taking inputs with additional\n",
    "validation feutures,and  will keep asking for text until we enter valid input.\n",
    "\n"
   ]
  },
  {
   "cell_type": "code",
   "execution_count": null,
   "id": "56ab3f19",
   "metadata": {},
   "outputs": [],
   "source": [
    "2. Why is PyInputPlus commonly imported with import pyinputplus as pypi?\n",
    "We do import pyinputplus as pyip so that we can enter a shorter name when we try to call the function,instant of writing PyInputPlus.  "
   ]
  },
  {
   "cell_type": "code",
   "execution_count": null,
   "id": "a563b39d",
   "metadata": {},
   "outputs": [],
   "source": [
    "3. How do you distinguish between inputInt() and inputFloat()?\n",
    " inputInt() --accepts integer value and return an int and inputFloat()--- Accepts a floating numeric value and return a float."
   ]
  },
  {
   "cell_type": "code",
   "execution_count": null,
   "id": "e06c80c5",
   "metadata": {},
   "outputs": [],
   "source": [
    "4. Using PyInputPlus, how do you ensure that the user enters a whole number between 0 and 99?\n",
    " pyip.inputint(min=0, max=99)"
   ]
  },
  {
   "cell_type": "code",
   "execution_count": null,
   "id": "020ee440",
   "metadata": {},
   "outputs": [],
   "source": [
    "5. What is transferred to the keyword arguments allowRegexes and blockRegexes?\n",
    "allowRegexes and blockRegexes keyword arguments take a list of regular expression strings to determine what the PyInputPlus function will accept or reject as valid input."
   ]
  },
  {
   "cell_type": "code",
   "execution_count": null,
   "id": "d1b6aa60",
   "metadata": {},
   "outputs": [],
   "source": [
    "6. If a blank input is entered three times, what does inputStr(limit=3) do?\n",
    "Its means if user answers incorrectly more than 3 times, it raises a RetryLimitException exception."
   ]
  },
  {
   "cell_type": "code",
   "execution_count": null,
   "id": "51564a30",
   "metadata": {},
   "outputs": [],
   "source": [
    "7. If blank input is entered three times, what does inputStr(limit=3, default='hello') do?\n",
    "It returns the value N/A to the variable username"
   ]
  },
  {
   "cell_type": "code",
   "execution_count": null,
   "id": "413f5d48",
   "metadata": {},
   "outputs": [],
   "source": []
  },
  {
   "cell_type": "code",
   "execution_count": null,
   "id": "2dbe9846",
   "metadata": {},
   "outputs": [],
   "source": []
  },
  {
   "cell_type": "code",
   "execution_count": null,
   "id": "1af1498f",
   "metadata": {},
   "outputs": [],
   "source": []
  }
 ],
 "metadata": {
  "kernelspec": {
   "display_name": "Python 3 (ipykernel)",
   "language": "python",
   "name": "python3"
  },
  "language_info": {
   "codemirror_mode": {
    "name": "ipython",
    "version": 3
   },
   "file_extension": ".py",
   "mimetype": "text/x-python",
   "name": "python",
   "nbconvert_exporter": "python",
   "pygments_lexer": "ipython3",
   "version": "3.9.7"
  }
 },
 "nbformat": 4,
 "nbformat_minor": 5
}
