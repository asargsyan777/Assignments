{
 "cells": [
  {
   "cell_type": "code",
   "execution_count": null,
   "id": "2990ff6a",
   "metadata": {},
   "outputs": [],
   "source": [
    "Q-1. Write an SQL query to print details of workers excluding first names, \"Vipul\" and\n",
    "\"Satish\" from Worker table.\n",
    "\n",
    "Select * from Worker where FIRST_NAME  Not in ('Vipul','Satish');"
   ]
  },
  {
   "cell_type": "code",
   "execution_count": null,
   "id": "f52fe383",
   "metadata": {},
   "outputs": [],
   "source": [
    "Q-2. Write an SQL query to print details of the Workers whose FIRST_NAME ends with\n",
    "'h' and contains six alphabets.\n",
    "\n",
    "Select * from Worker where FIRST_NAME like '_____h';"
   ]
  },
  {
   "cell_type": "code",
   "execution_count": null,
   "id": "f9035960",
   "metadata": {},
   "outputs": [],
   "source": [
    "Q-3. Write a query to validate Email of Employee.\n",
    "\n",
    "\n",
    "Select email from Employee where email LIKE %_@__%.__%' and PATINDEX('%[^a-z,0-9,@,.,_]%', REPLACE(email, '-', 'a')) = 0;\n"
   ]
  }
 ],
 "metadata": {
  "kernelspec": {
   "display_name": "Python 3 (ipykernel)",
   "language": "python",
   "name": "python3"
  },
  "language_info": {
   "codemirror_mode": {
    "name": "ipython",
    "version": 3
   },
   "file_extension": ".py",
   "mimetype": "text/x-python",
   "name": "python",
   "nbconvert_exporter": "python",
   "pygments_lexer": "ipython3",
   "version": "3.9.7"
  }
 },
 "nbformat": 4,
 "nbformat_minor": 5
}
