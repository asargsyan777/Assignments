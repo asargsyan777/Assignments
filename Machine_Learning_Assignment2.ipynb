{
 "cells": [
  {
   "cell_type": "code",
   "execution_count": null,
   "id": "b4d7481e",
   "metadata": {},
   "outputs": [],
   "source": [
    "1. What is the concept of human learning? Please give two examples.\n",
    "\n",
    "Human-guided machine learning is a type of supervised learning, which uses a set of human-labeled training data to develop a model. In supervised learning, the algorithm learns a set of inputs along with corresponding correct outputs"
   ]
  },
  {
   "cell_type": "code",
   "execution_count": null,
   "id": "26ba9353",
   "metadata": {},
   "outputs": [],
   "source": [
    "2. What different forms of human learning are there? Are there any machine learning equivalents?\n",
    "\n",
    "There are many ways to frame this idea, but largely there are three major recognized categories: supervised learning, unsupervised learning, and reinforcement learning."
   ]
  },
  {
   "cell_type": "code",
   "execution_count": null,
   "id": "18b7dc38",
   "metadata": {},
   "outputs": [],
   "source": [
    "3. What is machine learning, and how does it work? What are the key responsibilities of machine\n",
    "learning?\n",
    "\n",
    "Machine Learning is a subset of AI,which\n",
    "consists of letting algorithms discover \"patterns\", namely\n",
    "recurring patterns, in data sets. This data can be numbers, words,\n",
    "images, statistics...\n",
    "\n",
    "Designing ML systems.\n",
    "Researching and implementing ML algorithms and tools.\n",
    "Selecting appropriate data sets.\n",
    "Picking appropriate data representation methods.\n",
    "Identifying differences in data distribution that affects model performance.\n",
    "Verifying data quality.\n",
    "\n"
   ]
  },
  {
   "cell_type": "code",
   "execution_count": null,
   "id": "a20272c3",
   "metadata": {},
   "outputs": [],
   "source": [
    "4. Define the terms \"penalty\" and \"reward\" in the context of reinforcement learning.\n",
    "\n",
    "The agent receives rewards by performing correctly and penalties for performing incorrectly. "
   ]
  },
  {
   "cell_type": "code",
   "execution_count": null,
   "id": "74469395",
   "metadata": {},
   "outputs": [],
   "source": [
    "5. Explain the term \"learning as a search\"?\n",
    "\n",
    "Searching through a large space of hypotheses implicitly defined by the hypothesis representation"
   ]
  },
  {
   "cell_type": "code",
   "execution_count": null,
   "id": "b0176d84",
   "metadata": {},
   "outputs": [],
   "source": [
    "6. What are the various goals of machine learning? What is the relationship between these and\n",
    "human learning?\n",
    "\n",
    "What are the various goals of machine learning?\n",
    "The primary purpose of machine learning is to discover patterns in the user data and then make predictions based on these and intricate patterns for answering business questions and solving business problems. Machine learning helps in analysing the data as well as identifying trends"
   ]
  },
  {
   "cell_type": "code",
   "execution_count": null,
   "id": "c08fcb08",
   "metadata": {},
   "outputs": [],
   "source": [
    "7. Illustrate the various elements of machine learning using a real-life illustration.\n",
    "Image Recognation.\n",
    "Speech Recognation\n",
    "Medical Diagnostics\n",
    "Extraction\n",
    "Facebook recognation Netflex recomendation"
   ]
  },
  {
   "cell_type": "code",
   "execution_count": null,
   "id": "fd6507ee",
   "metadata": {},
   "outputs": [],
   "source": [
    "8. Provide an example of the abstraction method.\n",
    "\n",
    " Abstraction separates ideas from specific instances of those ideas. An abstract method is declared, but contains no implementation."
   ]
  },
  {
   "cell_type": "code",
   "execution_count": null,
   "id": "7743cd79",
   "metadata": {},
   "outputs": [],
   "source": [
    "9. What is the concept of generalization? What function does it play in the machine learning\n",
    "process?\n",
    "\n",
    "A model's ability to generalize is central to the success of a model. If a model has been trained too well on training data, it will be unable to generalize. It will make inaccurate predictions when given new data, making the model useless even though it is able to make accurate predictions for the training data\n",
    "\n",
    "What is Classification?\n",
    "Classification is the task of predicting a discrete class label"
   ]
  },
  {
   "cell_type": "code",
   "execution_count": null,
   "id": "ea6abd1c",
   "metadata": {},
   "outputs": [],
   "source": [
    "11. What is regression, and how does it work? Give an example of a real-world problem that was\n",
    "solved using regression.\n",
    "\n",
    "Regression is part of Superviesed ML and outcome is continues variable.\n",
    "\n",
    "Forecasting sales: Organizations often use linear regression models to forecast future sales. ...\n",
    "Cash forecasting: Many businesses use linear regression to forecast how much cash they'll have on hand in the future."
   ]
  },
  {
   "cell_type": "code",
   "execution_count": null,
   "id": "11ddfdf9",
   "metadata": {},
   "outputs": [],
   "source": [
    "12. Describe the clustering mechanism in detail.\n",
    "\n",
    "Unsuperviced ML is devided into 2 group-clustering and dimentionality reduction.\n",
    "Clustering is the task of dividing the population or data points into a number of groups such that data points in the same groups are more similar to other data points in the same group than those in other groups"
   ]
  },
  {
   "cell_type": "code",
   "execution_count": null,
   "id": "babf9d12",
   "metadata": {},
   "outputs": [],
   "source": [
    "13. Make brief observations on two of the following topics:\n",
    "\n",
    "i. Machine learning algorithms are used\n",
    "ii. Studying under supervision\n",
    "iii. Studying without supervision\n",
    "\n",
    "iv. Reinforcement learning is a form of learning based on positive reinforcement.\n",
    "\n",
    "Reinforcement learning is an area of Machine Learning. It is about taking suitable action to maximize reward in a particular situation"
   ]
  },
  {
   "cell_type": "code",
   "execution_count": null,
   "id": "3d3e1db3",
   "metadata": {},
   "outputs": [],
   "source": []
  },
  {
   "cell_type": "code",
   "execution_count": null,
   "id": "b62d3b89",
   "metadata": {},
   "outputs": [],
   "source": []
  },
  {
   "cell_type": "code",
   "execution_count": null,
   "id": "63ccdd63",
   "metadata": {},
   "outputs": [],
   "source": []
  }
 ],
 "metadata": {
  "kernelspec": {
   "display_name": "Python 3 (ipykernel)",
   "language": "python",
   "name": "python3"
  },
  "language_info": {
   "codemirror_mode": {
    "name": "ipython",
    "version": 3
   },
   "file_extension": ".py",
   "mimetype": "text/x-python",
   "name": "python",
   "nbconvert_exporter": "python",
   "pygments_lexer": "ipython3",
   "version": "3.9.7"
  }
 },
 "nbformat": 4,
 "nbformat_minor": 5
}
