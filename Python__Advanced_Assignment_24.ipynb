{
 "cells": [
  {
   "cell_type": "code",
   "execution_count": null,
   "id": "b3d55b45",
   "metadata": {},
   "outputs": [],
   "source": [
    "Q1. Is it permissible to use several import statements to import the same module? What would the\n",
    "goal be? Can you think of a situation where it would be beneficial?\n",
    "\n",
    "As far as I understand, a python module is never imported twice, i.e. the code in the module only gets executed the first time it is imported."
   ]
  },
  {
   "cell_type": "code",
   "execution_count": null,
   "id": "bdd19ab7",
   "metadata": {},
   "outputs": [],
   "source": [
    "Q2. What are some of a modules characteristics? (Name at least one.)\n",
    "\n",
    "Modules contain instructions, processing logic, and data.\n",
    "Modules can be separately compiled and stored in a library.\n",
    "Modules can be included in a program.\n",
    "Module segments can be used by invoking a name and some parameters.\n",
    "Module segments can be used by other modules."
   ]
  },
  {
   "cell_type": "code",
   "execution_count": null,
   "id": "8b8fd96c",
   "metadata": {},
   "outputs": [],
   "source": [
    "Q3. Circular importing, such as when two modules import each other, can lead to dependencies and\n",
    "bugs that arent visible. How can you go about creating a program that avoids mutual importing?\n",
    "\n",
    "Generally, the Python Circular Import problem occurs when you accidentally name your working file the same as the module name and those modules depend on each other. This way the python opens the same file which causes a circular loop and eventually throws an error.\n",
    "There is a good workaround Python circular import error that you can import the module itself rather than importing object/function from the module. This way you can import and use all the objects and variables from the module.\n",
    "he easiest way to make this work is by importing the module_name itself.\n",
    "\n",
    "Example.\n",
    "import rea\n",
    " \n",
    "x=1\n",
    " \n",
    "if __name__ == '__main__':\n",
    "    print(rea.x)"
   ]
  },
  {
   "cell_type": "code",
   "execution_count": null,
   "id": "55dea13e",
   "metadata": {},
   "outputs": [],
   "source": [
    "\n",
    "Q4. Why is _ _all_ _ in Python?\n",
    "\n",
    "It overrides the default of hiding everything that begins with an underscore. Objects that begin with an underscore, or are not mentioned in __all__ if __all__ is present, are not exactly hidden; they can be seen and accessed perfectly normally if you know their names."
   ]
  },
  {
   "cell_type": "code",
   "execution_count": null,
   "id": "db01cfb7",
   "metadata": {},
   "outputs": [],
   "source": [
    "Q5. In what situation is it useful to refer to the _ _name_ _ attribute or the string'_ _main_ _'?\n",
    "\n",
    "If the python interpreter is running that module (the source file) as the main program, it sets the special __name__ variable to have a value “__main__”. If this file is being imported from another module, __name__ will be set to the module’s name. Module’s name is available as value to __name__ global variable. \n",
    "\n",
    "A module is a file containing Python definitions and statements. The file name is the module name with the suffix .py appended. \n",
    "\n",
    "When we execute file as command to the python interpreter.\n",
    "\n",
    "Example.\n",
    "\n",
    "print (\"Always executed\")\n",
    " \n",
    "if __name__ == \"__main__\":\n",
    "    print (\"Executed when invoked directly\")\n",
    "else:\n",
    "    print (\"Executed when imported\")"
   ]
  },
  {
   "cell_type": "code",
   "execution_count": null,
   "id": "08a29e75",
   "metadata": {},
   "outputs": [],
   "source": [
    "Q6. What are some of the benefits of attaching a program counter to the RPN interpreter\n",
    "application, which interprets an RPN script line by line?\n",
    "\n",
    "For complex calculations, RPN eliminates the need for parentheses and reduces keystrokes so users can complete calculations more quickly and efficiently. Five students took an exam, and here are their scores: 75, 90, 95, 89, and 84."
   ]
  },
  {
   "cell_type": "code",
   "execution_count": null,
   "id": "6ea76960",
   "metadata": {},
   "outputs": [],
   "source": [
    "Q7. What are the minimum expressions or statements (or both) that you&#39;d need to render a basic\n",
    "programming language like RPN primitive but complete— that is, capable of carrying out any\n",
    "computerised task theoretically possible?\n",
    "\n",
    "Assignment statements initialize or change the value stored in a variable using the assignment operator =. An assignment statement always has a single variable ..."
   ]
  }
 ],
 "metadata": {
  "kernelspec": {
   "display_name": "Python 3 (ipykernel)",
   "language": "python",
   "name": "python3"
  },
  "language_info": {
   "codemirror_mode": {
    "name": "ipython",
    "version": 3
   },
   "file_extension": ".py",
   "mimetype": "text/x-python",
   "name": "python",
   "nbconvert_exporter": "python",
   "pygments_lexer": "ipython3",
   "version": "3.9.7"
  }
 },
 "nbformat": 4,
 "nbformat_minor": 5
}
