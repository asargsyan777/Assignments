{
 "cells": [
  {
   "cell_type": "code",
   "execution_count": null,
   "id": "5bc9827c",
   "metadata": {},
   "outputs": [],
   "source": [
    "1. What are the key tasks that machine learning entails? What does data pre-processing imply?\n",
    "\n",
    "Data preprocessing is a process of preparing the raw data and making it suitable for a machine learning model. It is the first and crucial step while creating a machine learning model. When creating a machine learning project, it is not always a case that we come across the clean and formatted data."
   ]
  },
  {
   "cell_type": "code",
   "execution_count": null,
   "id": "b43e9599",
   "metadata": {},
   "outputs": [],
   "source": [
    "2. Describe quantitative and qualitative data in depth. Make a distinction between the two.\n",
    "\n",
    "Quantitative data is numbers-based, countable, or measurable. Qualitative data is interpretation-based, descriptive, and relating to language. Quantitative data tells us how many, how much, or how often in calculations. Qualitative data can help us to understand why, how, or what happened behind certain behaviors."
   ]
  },
  {
   "cell_type": "code",
   "execution_count": null,
   "id": "4bf67911",
   "metadata": {},
   "outputs": [],
   "source": [
    "3. Create a basic data collection that includes some sample records. Have at least one attribute from\n",
    "each of the machine learning data types.\n",
    "\n",
    "Articulate the problem early.\n",
    "Establish data collection mechanisms. ...\n",
    "Check your data quality.\n",
    "Format data to make it consistent.\n",
    "Reduce data.\n",
    "Complete data cleaning.\n",
    "Create new features out of existing ones."
   ]
  },
  {
   "cell_type": "code",
   "execution_count": null,
   "id": "54e636d7",
   "metadata": {},
   "outputs": [],
   "source": [
    "4. What are the various causes of machine learning data issues? What are the ramifications?\n",
    "\n",
    "1) Understanding Which Processes Need Automation. ...\n",
    "2) Lack of Quality Data. ...\n",
    "3) Inadequate Infrastructure. ...\n",
    "4) Implementation. ...\n",
    "5) Lack of Skilled Resources."
   ]
  },
  {
   "cell_type": "code",
   "execution_count": null,
   "id": "ee25eb45",
   "metadata": {},
   "outputs": [],
   "source": [
    "5. Demonstrate various approaches to categorical data exploration with appropriate examples.\n",
    "Unique value count.\n",
    "Frequency Count.\n",
    "Variance. \n",
    "Pareto Analysis. \n",
    "Histogram. \n",
    "Correlation Heat-map between all numeric columns. \n",
    "Pearson Correlation and Trend between two numeric columns.\n"
   ]
  },
  {
   "cell_type": "code",
   "execution_count": null,
   "id": "4b26a289",
   "metadata": {},
   "outputs": [],
   "source": [
    "6. How would the learning activity be affected if certain variables have missing values? Having said\n",
    "that, what can be done about it?\n",
    "\n",
    "When dealing with missing data, data scientists can use two primary methods to solve the error: imputation or the removal of data. The imputation method develops reasonable guesses for missing data. It's most useful when the percentage of missing data is low.\n",
    "Missing data can reduce the statistical power of a study and can produce biased estimates, leading to invalid conclusions."
   ]
  },
  {
   "cell_type": "code",
   "execution_count": null,
   "id": "fbf4dcd4",
   "metadata": {},
   "outputs": [],
   "source": [
    "7. Describe the various methods for dealing with missing data values in depth.\n",
    "\n",
    "Missing values can be handled by deleting the rows or columns having null values. If columns have more than half of the rows as null then the entire column can be dropped. The rows which are having one or more columns values as null can also be dropped"
   ]
  },
  {
   "cell_type": "code",
   "execution_count": null,
   "id": "45393f3a",
   "metadata": {},
   "outputs": [],
   "source": [
    "8. What are the various data pre-processing techniques? Explain dimensionality reduction and\n",
    "function selection in a few words.\n",
    "\n",
    "Data Cleaning/Cleansing. Cleaning “dirty” data. Real-world data tend to be incomplete, noisy, and inconsistent. ...\n",
    "Data Integration. Combining data from multiple sources. ...\n",
    "Data Transformation. Constructing data cube. ...\n",
    "Data Reduction. Reducing representation of data set."
   ]
  },
  {
   "cell_type": "code",
   "execution_count": null,
   "id": "852d6689",
   "metadata": {},
   "outputs": [],
   "source": [
    "\n",
    "9.What is the IQR used for?\n",
    "Image result for What is the IQR? What criteria are used to assess it?\n",
    "The interquartile range (IQR) measures the spread of the middle half of your data. It is the range for the middle 50% of your sample. Use the IQR to assess the variability where most of your values lie. Larger values indicate that the central portion of your data spread out further."
   ]
  },
  {
   "cell_type": "code",
   "execution_count": null,
   "id": "5a1913f5",
   "metadata": {},
   "outputs": [],
   "source": [
    "10. Make brief notes on any two of the following:\n",
    "\n",
    "1. Data collected at regular intervals\n",
    "Interval data is a type of data which is measured along a scale, in which each point is placed at an equal distance (interval) from one another. Interval data is one of the two types of discrete data. An example of interval data is the data collected on a thermometer—its gradation or markings are equidistant.\n",
    "\n",
    "2. The gap between the quartiles\n",
    "\n",
    "The interquartile range or IQR is the range of the middle half of a set of data. It is the difference between the upper quartile and the lower quartile. In the above example, the lower quartile is 52 and the upper quartile is 58 . The interquartile range is 58−52 or 6 ."
   ]
  },
  {
   "cell_type": "code",
   "execution_count": null,
   "id": "09de0132",
   "metadata": {},
   "outputs": [],
   "source": []
  }
 ],
 "metadata": {
  "kernelspec": {
   "display_name": "Python 3 (ipykernel)",
   "language": "python",
   "name": "python3"
  },
  "language_info": {
   "codemirror_mode": {
    "name": "ipython",
    "version": 3
   },
   "file_extension": ".py",
   "mimetype": "text/x-python",
   "name": "python",
   "nbconvert_exporter": "python",
   "pygments_lexer": "ipython3",
   "version": "3.9.7"
  }
 },
 "nbformat": 4,
 "nbformat_minor": 5
}
