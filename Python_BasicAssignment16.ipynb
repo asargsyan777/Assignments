{
 "cells": [
  {
   "cell_type": "code",
   "execution_count": null,
   "id": "3aecf92a",
   "metadata": {},
   "outputs": [],
   "source": [
    "Question1\n",
    "Write a function that stutters a word as if someone is struggling to read it. The\n",
    "first two letters are repeated twice with an ellipsis ... and space after each, and then the\n",
    "word is pronounced with a question mark ?.\n",
    "\n",
    "def stutter(word):\n",
    "    s = word[:2]\n",
    "    return (2 * (s + '... ')) + word + '?'\n",
    "\n",
    "\n",
    "print(stutter(\"incredible\"))"
   ]
  },
  {
   "cell_type": "code",
   "execution_count": null,
   "id": "1328941e",
   "metadata": {},
   "outputs": [],
   "source": [
    "Question 2.\n",
    "Create a function that takes an angle in radians and returns the corresponding\n",
    "angle in degrees rounded to one decimal place.\n",
    "\n",
    "import math\n",
    "def degree(x):\n",
    "    pi=math.pi\n",
    "    degree=(x*180)/pi\n",
    "    return degree\n",
    "\n",
    "print(\"Value in Degree:\",degree(1.5))"
   ]
  },
  {
   "cell_type": "code",
   "execution_count": null,
   "id": "a9a37d9e",
   "metadata": {},
   "outputs": [],
   "source": [
    "Question 3.\n",
    "In this challenge, establish if a given integer num is a Curzon number. If 1 plus\n",
    "2 elevated to num is exactly divisible by 1 plus 2 multiplied by num, then num is a Curzon\n",
    "number.\n",
    "\n",
    "number = int(input(\"Write a number \")\n",
    "\n",
    "num1 = 2** number +1 \n",
    "\n",
    "num2 = 2* number +1 \n",
    " \n",
    "if num1%num2==0:\n",
    "\n",
    "    print() \n",
    "else: \n",
    "\n",
    "    print() "
   ]
  },
  {
   "cell_type": "code",
   "execution_count": null,
   "id": "96c7eda7",
   "metadata": {},
   "outputs": [],
   "source": [
    "Question 4\n",
    "Given the side length x find the area of a hexagon.\n",
    "\n",
    "\n",
    "import math\n",
    "print(\"Enter the length of the side:\")\n",
    "a=int(input())\n",
    "area=(3*math.sqrt(3)*math.pow(a,2))/2.0\n",
    "perimeter=(6*a)\n",
    "print(\"Area of the Hexagon = \",area)\n",
    "print(\"Perimeter of the Hexagon = \",perimeter)"
   ]
  },
  {
   "cell_type": "code",
   "execution_count": null,
   "id": "df3eb7b5",
   "metadata": {},
   "outputs": [],
   "source": [
    "Question 5.\n",
    "Create a function that concerts base-2 binary number string to int.\n",
    "\n",
    "class Binary():\n",
    "    def __init__(self, binNumber):\n",
    "        self._binNumber = binNumber\n",
    "        self._binNumber = self._binNumber[::-1]\n",
    "        self._binNumber = list(self._binNumber)\n",
    "        self._x = [1]\n",
    "        self._count = 1\n",
    "        self._change = 2\n",
    "        self._amount = 0\n",
    "        print(self._ToNumber(self._binNumber))\n",
    "    def _ToNumber(self, number):\n",
    "        self._number = number\n",
    "        for i in range (1, len (self._number)):\n",
    "            self._total = self._count * self._change\n",
    "            self._count = self._total\n",
    "            self._x.append(self._count)\n",
    "        self._deep = zip(self._number, self._x)\n",
    "        for self._k, self._v in self._deep:\n",
    "            if self._k == '1':\n",
    "                self._amount += self._v\n",
    "        return self._amount\n",
    "\n",
    "mo = Binary('101111110')"
   ]
  },
  {
   "cell_type": "code",
   "execution_count": null,
   "id": "f37b9100",
   "metadata": {},
   "outputs": [],
   "source": []
  }
 ],
 "metadata": {
  "kernelspec": {
   "display_name": "Python 3 (ipykernel)",
   "language": "python",
   "name": "python3"
  },
  "language_info": {
   "codemirror_mode": {
    "name": "ipython",
    "version": 3
   },
   "file_extension": ".py",
   "mimetype": "text/x-python",
   "name": "python",
   "nbconvert_exporter": "python",
   "pygments_lexer": "ipython3",
   "version": "3.9.7"
  }
 },
 "nbformat": 4,
 "nbformat_minor": 5
}
