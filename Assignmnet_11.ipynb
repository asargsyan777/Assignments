{
 "cells": [
  {
   "cell_type": "code",
   "execution_count": null,
   "id": "22951ed5",
   "metadata": {},
   "outputs": [],
   "source": [
    "1. Create an assert statement that throws an AssertionError if the variable spam is a negative\n",
    "integer.\n",
    "\n",
    "assert spam >= -9, 'The spam variable is less than -9.'"
   ]
  },
  {
   "cell_type": "code",
   "execution_count": null,
   "id": "4006ed74",
   "metadata": {},
   "outputs": [],
   "source": [
    "2. Write an assert statement that triggers an AssertionError if the variables eggs and bacon contain strings \n",
    "that are the same as each other, even if their cases are different (that is, 'hello' and 'hello' are considered\n",
    "the same, and 'goodbye' and 'GOODbye' are also considered the same).\n",
    "\n",
    "assert eggs.lower() != bacon.lower(), 'The eggs and bacon variables contain the same string (case insensitive).'"
   ]
  },
  {
   "cell_type": "code",
   "execution_count": null,
   "id": "a8a1939b",
   "metadata": {},
   "outputs": [],
   "source": [
    "3. Create an assert statement that throws an AssertionError every time.\n",
    "assert 5 != 5"
   ]
  },
  {
   "cell_type": "code",
   "execution_count": null,
   "id": "a9425973",
   "metadata": {},
   "outputs": [],
   "source": [
    "4. What are the two lines that must be present in your software in order to call logging.debug()?\n",
    "\n",
    "import logging logging.basicConfig(level=logging.DEBUG, format=' %(asctime)s - %(levelname)s - %(message)s')"
   ]
  },
  {
   "cell_type": "code",
   "execution_count": null,
   "id": "b54a79fe",
   "metadata": {},
   "outputs": [],
   "source": [
    "5. What are the two lines that your program must have in order to have logging.debug() send a\n",
    "logging message to a file named programLog.txt?\n",
    "\n",
    "import logging logging.basicConfig(filename='programLog.txt', level=logging.DEBUG, format=' %(asctime)s - %(levelname)s - %(message)s')"
   ]
  },
  {
   "cell_type": "code",
   "execution_count": null,
   "id": "26866780",
   "metadata": {},
   "outputs": [],
   "source": [
    "6. What are the five levels of logging?\n",
    "\n",
    "Five levels of logging are ---DEBUG INFO WARNING ERROR CRITICAL"
   ]
  },
  {
   "cell_type": "code",
   "execution_count": null,
   "id": "bbddfa93",
   "metadata": {},
   "outputs": [],
   "source": [
    "7. What line of code would you add to your software to disable all logging messages?\n",
    "\n",
    "In order to disable all logging messages we need to add logging.disable(logging.CRITICAL) code."
   ]
  },
  {
   "cell_type": "code",
   "execution_count": null,
   "id": "ec081280",
   "metadata": {},
   "outputs": [],
   "source": [
    "8.Why is using logging messages better than using print() to display the same message?\n",
    "\n",
    "The thing I really like about log messages is that we can fill our program with as many as we like, and we can always disable them later by adding a single logging.disable(logging.CRITICAL) call. Unlike print(), the logging module makes it easy to switch between showing and hiding log messages."
   ]
  },
  {
   "cell_type": "code",
   "execution_count": null,
   "id": "232d42c3",
   "metadata": {},
   "outputs": [],
   "source": [
    "9. What are the differences between the Step Over, Step In, and Step Out buttons in the debugger?\n",
    "\n",
    "STEP IN will cause the debugger to execute the next line of code and then pause again. If the next line of code is a function call, the debugger will \"step into\" that function and jump to the first line of code of that function.\n",
    "\n",
    "STEP OVER will execute the next line of code, similar to the STEP button. However, if the next line of code is a function call, the OVER button will \"step over\" the code in the function.\n",
    "\n",
    "STEP OUT will cause the debugger to execute lines of code at full speed until it returns from the current function.\n",
    "\n"
   ]
  },
  {
   "cell_type": "code",
   "execution_count": null,
   "id": "e3bc0aea",
   "metadata": {},
   "outputs": [],
   "source": [
    "10.After you click Continue, when will the debugger stop ?\n",
    "Continue execution, only stop when a breakpoint is encountered."
   ]
  },
  {
   "cell_type": "code",
   "execution_count": null,
   "id": "e792413f",
   "metadata": {},
   "outputs": [],
   "source": [
    "11. What is the concept of a breakpoint?\n",
    "A breakpoint can be set on a specific line of code and forces the debugger to pause whenever the program execution reaches that line."
   ]
  }
 ],
 "metadata": {
  "kernelspec": {
   "display_name": "Python 3 (ipykernel)",
   "language": "python",
   "name": "python3"
  },
  "language_info": {
   "codemirror_mode": {
    "name": "ipython",
    "version": 3
   },
   "file_extension": ".py",
   "mimetype": "text/x-python",
   "name": "python",
   "nbconvert_exporter": "python",
   "pygments_lexer": "ipython3",
   "version": "3.9.7"
  }
 },
 "nbformat": 4,
 "nbformat_minor": 5
}
