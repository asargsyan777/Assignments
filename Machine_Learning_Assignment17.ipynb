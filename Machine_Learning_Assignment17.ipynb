{
 "cells": [
  {
   "cell_type": "code",
   "execution_count": null,
   "id": "1d00d320",
   "metadata": {},
   "outputs": [],
   "source": [
    "1. Using a graph to illustrate slope and intercept, define basic linear regression.\n",
    "\n",
    "The slope indicates the steepness of a line and the intercept indicates the location where it intersects an axis. The slope and the intercept define the linear relationship between two variables, and can be used to estimate an average rate of change. The greater the magnitude of the slope, the steeper the line and the greater the rate of change."
   ]
  },
  {
   "cell_type": "code",
   "execution_count": null,
   "id": "23154ae7",
   "metadata": {},
   "outputs": [],
   "source": [
    "2. In a graph, explain the terms rise, run, and slope.\n",
    "\n",
    "The slope of a line measures the steepness of the line. Most of you are probably familiar with associating slope with \"rise over run\". Rise means how many units you move up or down from point to point. On the graph that would be a change in the y values. Run means how far left or right you move from point to point."
   ]
  },
  {
   "cell_type": "code",
   "execution_count": null,
   "id": "6833e585",
   "metadata": {},
   "outputs": [],
   "source": [
    "3. Use a graph to demonstrate slope, linear positive slope, and linear negative slope, as well as the\n",
    "different conditions that contribute to the slope.\n",
    "\n",
    "A higher positive slope means a steeper upward tilt to the curve, which you can see at higher output levels. A negative slope that is larger in absolute value (that is, more negative) means a steeper downward tilt to the line. A slope of zero is a horizontal line."
   ]
  },
  {
   "cell_type": "code",
   "execution_count": null,
   "id": "42a6c5d7",
   "metadata": {},
   "outputs": [],
   "source": [
    "4. Use a graph to demonstrate curve linear negative slope and curve linear positive slope.\n",
    "\n",
    "for negative one example\n",
    "To find the x-intercept, we set y equal to zero and solve:\n",
    "\n",
    "y = 3.5x + 4  [line equation]\n",
    "0 = 3.5x + 4  [set y to 0 to find x-intercept]\n",
    "-3.5x = 4\n",
    "x = -8/7\n",
    "\n",
    "The line y = 8x – 16 has a positive slope (m = 8 is positive) and a negative y-intercept (b = -16).\n",
    "\n",
    "This means that the line passes through the point (0, -16), which is the y-intercept.\n",
    "\n",
    "To find the x-intercept, we set y equal to zero and solve:\n",
    "\n",
    "y = 8x – 16  [line equation]\n",
    "0 = 8x – 16  [set y to 0 to find x-intercept]\n",
    "-8x = -16\n",
    "x = 2\n",
    "So, the x-intercept is the point (2, 0).\n",
    "\n",
    "The slope of 8 can be rewritten as rise/run = 8/1.  This tells us that y increases by 8 every time x increases by 1."
   ]
  },
  {
   "cell_type": "code",
   "execution_count": null,
   "id": "a14c1d51",
   "metadata": {},
   "outputs": [],
   "source": [
    "5. Use a graph to show the maximum and low points of curves.\n",
    "\n",
    "To find the maximum/minimum of a curve you must first differentiate the function and then equate it to zero. This gives you one coordinate. To find the other you must resubstitute the one already found into the original function."
   ]
  },
  {
   "cell_type": "code",
   "execution_count": null,
   "id": "fa642f83",
   "metadata": {},
   "outputs": [],
   "source": [
    "6. Use the formulas for a and b to explain ordinary least squares.\n",
    "\n",
    "The ordinary least squares formula: what is the equation of the model?\n",
    "In the case of a model with p explanatory variables, the OLS regression model writes:\n",
    "\n",
    "Y = β0 + Σj=1..p βjXj + ε"
   ]
  },
  {
   "cell_type": "code",
   "execution_count": null,
   "id": "6579a6ac",
   "metadata": {},
   "outputs": [],
   "source": [
    "7. Provide a step-by-step explanation of the OLS algorithm.\n",
    "\n",
    "Calculate the error of each variable from the mean.\n",
    "Multiply the error for each x with the error for each y and calculate the sum of these multiplications.\n",
    "Square the residual of each x value from the mean and sum of these squared values. ...\n",
    "Root Mean Squared Error."
   ]
  },
  {
   "cell_type": "code",
   "execution_count": null,
   "id": "a98631dc",
   "metadata": {},
   "outputs": [],
   "source": [
    "8. What is the regressions standard error? To represent the same, make a graph.\n",
    "\n",
    "The standard error of the regression (S), also known as the standard error of the estimate, represents the average distance that the observed values fall from the regression line. Conveniently, it tells you how wrong the regression model is on average using the units of the response variable."
   ]
  },
  {
   "cell_type": "code",
   "execution_count": null,
   "id": "061e5e26",
   "metadata": {},
   "outputs": [],
   "source": [
    "9. Provide an example of multiple linear regression.\n",
    "\n",
    "What does this type of analysis look like in the workplace? Imagine that a financial analyst wants to understand more about how the wider market is impacting the price of an oil stock. In this multiple linear regression example, the independent variables could include things like the price of oil, interest rates, and oil future movements. The dependent variable would be the price of the oil stock.\n",
    "\n",
    "By plugging all these variables into the equation, the analyst would then be able to see how fluctuations in the independent variables impact price movements of the dependent variable. The analyst would then know which variables to watch in order to more successfully predict future price movements, helping them decide when it’s time to buy or sell."
   ]
  },
  {
   "cell_type": "code",
   "execution_count": null,
   "id": "c3f03ee4",
   "metadata": {},
   "outputs": [],
   "source": [
    "10. Describe the regression analysis assumptions and the BLUE principle.\n",
    "\n",
    "BLUE is an acronym for the following: Best Linear Unbiased Estimator. In this context, the definition of “best” refers to the minimum variance or the narrowest sampling distribution."
   ]
  },
  {
   "cell_type": "code",
   "execution_count": null,
   "id": "946380c7",
   "metadata": {},
   "outputs": [],
   "source": [
    "11. Describe two major issues with regression analysis.\n",
    "\n",
    " Regression models cannot work properly if the input data has errors (that is poor quality data). If the data preprocessing is not performed well to remove missing values or redundant data or outliers or imbalanced data distribution, the validity of the regression model suffers."
   ]
  },
  {
   "cell_type": "code",
   "execution_count": null,
   "id": "adfed157",
   "metadata": {},
   "outputs": [],
   "source": [
    "12. How can the linear regression models accuracy be improved?\n",
    "\n",
    "Handling Null/Missing Values.\n",
    "Data Visualization.\n",
    "Feature Selection and Scaling.\n",
    "3A. Feature Engineering.\n",
    "3B. Feature Transformation.\n",
    "Use of Ensemble and Boosting Algorithms.\n",
    "Hyperparameter Tuning."
   ]
  },
  {
   "cell_type": "code",
   "execution_count": null,
   "id": "4f91344a",
   "metadata": {},
   "outputs": [],
   "source": [
    "13. Using an example, describe the polynomial regression model in detail.\n",
    "n statistics, polynomial regression is a form of regression analysis in which the relationship between the independent variable x and the dependent variable y is modelled as an nth degree polynomial in x."
   ]
  },
  {
   "cell_type": "code",
   "execution_count": null,
   "id": "b143b996",
   "metadata": {},
   "outputs": [],
   "source": [
    "14. Provide a detailed explanation of logistic regression.\n",
    "\n",
    "Logistic regression is a statistical analysis method to predict a binary outcome, such as yes or no, based on prior observations of a data set. A logistic regression model predicts a dependent data variable by analyzing the relationship between one or more existing independent variables."
   ]
  },
  {
   "cell_type": "code",
   "execution_count": null,
   "id": "207cb7e2",
   "metadata": {},
   "outputs": [],
   "source": [
    "15. What are the logistic regression assumptions?\n",
    "\n",
    "Basic assumptions that must be met for logistic regression include independence of errors, linearity in the logit for continuous variables, absence of multicollinearity, and lack of strongly influential outliers."
   ]
  },
  {
   "cell_type": "code",
   "execution_count": null,
   "id": "15d791b0",
   "metadata": {},
   "outputs": [],
   "source": [
    "16. Go through the details of maximum likelihood estimation.\n",
    "\n",
    "Maximum likelihood estimation is a method that determines values for the parameters of a model. The parameter values are found such that they maximise the likelihood that the process described by the model produced the data that were actually observed"
   ]
  }
 ],
 "metadata": {
  "kernelspec": {
   "display_name": "Python 3 (ipykernel)",
   "language": "python",
   "name": "python3"
  },
  "language_info": {
   "codemirror_mode": {
    "name": "ipython",
    "version": 3
   },
   "file_extension": ".py",
   "mimetype": "text/x-python",
   "name": "python",
   "nbconvert_exporter": "python",
   "pygments_lexer": "ipython3",
   "version": "3.9.7"
  }
 },
 "nbformat": 4,
 "nbformat_minor": 5
}
