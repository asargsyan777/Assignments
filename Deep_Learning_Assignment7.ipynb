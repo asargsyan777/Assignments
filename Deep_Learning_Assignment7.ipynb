{
 "cells": [
  {
   "cell_type": "code",
   "execution_count": null,
   "id": "a97eb1a1",
   "metadata": {},
   "outputs": [],
   "source": [
    "1. Can you think of a few applications for a sequence-to-sequence RNN? What about a\n",
    "sequence-to-vector RNN, and a vector-to-sequence RNN?\n",
    "\n",
    "In Sequence to Sequence Learning, RNN is trained to map an input sequence to an output sequence which is not necessarily of the same length. Applications are speech recognition, machine translation, image captioning and question answering."
   ]
  },
  {
   "cell_type": "code",
   "execution_count": null,
   "id": "10782c5f",
   "metadata": {},
   "outputs": [],
   "source": [
    "2. How many dimensions must the inputs of an RNN layer have? What does each dimension\n",
    "represent? What about its outputs?\n",
    "\n",
    "Before we get down to business, an important thing to note is that the RNN input needs to have 3 dimensions. Typically it would be batch size, the number of steps and number of features"
   ]
  },
  {
   "cell_type": "code",
   "execution_count": null,
   "id": "79fcdcc2",
   "metadata": {},
   "outputs": [],
   "source": [
    "3. If you want to build a deep sequence-to-sequence RNN, which RNN layers should\n",
    "have return_sequences=True? What about a sequence-to-vector RNN?\n",
    "\n",
    "layers. SimpleRNN"
   ]
  },
  {
   "cell_type": "code",
   "execution_count": null,
   "id": "4c34bcae",
   "metadata": {},
   "outputs": [],
   "source": [
    "4. Suppose you have a daily univariate time series, and you want to forecast the next seven\n",
    "days. Which RNN architecture should you use?"
   ]
  },
  {
   "cell_type": "code",
   "execution_count": null,
   "id": "c3329209",
   "metadata": {},
   "outputs": [],
   "source": [
    "5. What are the main difficulties when training RNNs? How can you handle them?\n",
    "\n",
    "The exploding gradients problem refers to the large increase in the norm of the gradient during training. Such events are caused by the explosion of the long term components, which can grow exponentially more than short term ones"
   ]
  },
  {
   "cell_type": "code",
   "execution_count": null,
   "id": "2e0357ee",
   "metadata": {},
   "outputs": [],
   "source": [
    "6. Can you sketch the LSTM cell’s architecture?\n",
    "Long Short-Term Memory (LSTM) networks are a type of recurrent neural network capable of learning order dependence in sequence prediction problems. This is a behavior required in complex problem domains like machine translation, speech recognition, and more. LSTMs are a complex area of deep learning"
   ]
  },
  {
   "cell_type": "code",
   "execution_count": null,
   "id": "7065a712",
   "metadata": {},
   "outputs": [],
   "source": [
    "7. Why would you want to use 1D convolutional layers in an RNN?\n",
    "\n",
    "An LSTM is designed to work differently than a CNN because an LSTM is usually used to process and make predictions given sequences of data (in contrast, a CNN is designed to exploit “spatial correlation” in data and works well on images and speech)."
   ]
  },
  {
   "cell_type": "code",
   "execution_count": null,
   "id": "9ed82c1a",
   "metadata": {},
   "outputs": [],
   "source": [
    "8. Which neural network architecture could you use to classify videos?\n",
    "\n",
    "Specifically, we'll use a Convolutional Neural Network (CNN) and a Recurrent Neural Network (RNN) consisting of GRU layers. This kind of hybrid architecture is popularly known as a CNN-RNN"
   ]
  },
  {
   "cell_type": "code",
   "execution_count": null,
   "id": "fc837862",
   "metadata": {},
   "outputs": [],
   "source": []
  }
 ],
 "metadata": {
  "kernelspec": {
   "display_name": "Python 3 (ipykernel)",
   "language": "python",
   "name": "python3"
  },
  "language_info": {
   "codemirror_mode": {
    "name": "ipython",
    "version": 3
   },
   "file_extension": ".py",
   "mimetype": "text/x-python",
   "name": "python",
   "nbconvert_exporter": "python",
   "pygments_lexer": "ipython3",
   "version": "3.9.7"
  }
 },
 "nbformat": 4,
 "nbformat_minor": 5
}
