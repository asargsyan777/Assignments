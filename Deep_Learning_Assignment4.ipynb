{
 "cells": [
  {
   "cell_type": "code",
   "execution_count": null,
   "id": "e5e5d0ac",
   "metadata": {},
   "outputs": [],
   "source": [
    "1. How would you describe TensorFlow in a short sentence? What are its main features? Can\n",
    "you name other popular Deep Learning libraries?\n",
    "\n",
    "How TensorFlow works. TensorFlow allows developers to create dataflow graphs—structures that describe how data moves through a graph, or a series of processing nodes. Each node in the graph represents a mathematical operation, and each connection or edge between nodes is a multidimensional data array, or tensor."
   ]
  },
  {
   "cell_type": "code",
   "execution_count": null,
   "id": "f7d86b6a",
   "metadata": {},
   "outputs": [],
   "source": [
    "2. Is TensorFlow a drop-in replacement for NumPy? What are the main differences between\n",
    "the two?\n",
    "\n",
    "Tensorflow is a library for artificial intelligence, especially machine learning. Numpy is a library for doing numerical calculations."
   ]
  },
  {
   "cell_type": "code",
   "execution_count": null,
   "id": "fc6f5277",
   "metadata": {},
   "outputs": [],
   "source": [
    "3. Do you get the same result with tf.range(10) and tf.constant(np.arange(10))?\n",
    "yes"
   ]
  },
  {
   "cell_type": "code",
   "execution_count": null,
   "id": "2b23f2ba",
   "metadata": {},
   "outputs": [],
   "source": [
    "4. Can you name six other data structures available in TensorFlow, beyond regular tensors?\n",
    "\n",
    "There are many types of tensors, including scalars and vectors (which are the simplest tensors), dual vectors, multilinear maps between vector spaces, and even some operations such as the dot product."
   ]
  },
  {
   "cell_type": "code",
   "execution_count": null,
   "id": "daf6ae9e",
   "metadata": {},
   "outputs": [],
   "source": [
    "5. A custom loss function can be defined by writing a function or by subclassing\n",
    "the keras.losses.Loss class. When would you use each option?\n",
    "\n",
    "A custom loss function can be created by defining a function that takes the true values and predicted values as required parameters. The function should return an array of losses. The function can then be passed at the compile stage"
   ]
  },
  {
   "cell_type": "code",
   "execution_count": null,
   "id": "14a8accc",
   "metadata": {},
   "outputs": [],
   "source": [
    "6. Similarly, a custom metric can be defined in a function or a subclass of keras.metrics.Metric.\n",
    "When would you use each option?\n",
    "\n",
    "Metric functions are similar to loss functions, except that the results from evaluating a metric are not used when training the model."
   ]
  },
  {
   "cell_type": "code",
   "execution_count": null,
   "id": "f7f882ce",
   "metadata": {},
   "outputs": [],
   "source": [
    "7. When should you create a custom layer versus a custom model?\n",
    "\n",
    "Most of the time when writing code for machine learning models you want to operate at a higher level of abstraction than individual operations and manipulation of individual variables.\n",
    "\n",
    "Many machine learning models are expressible as the composition and stacking of relatively simple layers, and TensorFlow provides both a set of many common layers as well as easy ways for you to write your own application-specific layers either from scratch or as the composition of existing layers.\n",
    "\n",
    "TensorFlow includes the full Keras API in the tf.keras package, and the Keras layers are very useful when building your own models."
   ]
  },
  {
   "cell_type": "code",
   "execution_count": null,
   "id": "2350bfd6",
   "metadata": {},
   "outputs": [],
   "source": [
    "8. What are some use cases that require writing your own custom training loop?\n",
    "\n",
    "Before the model can be trained, Keras requires us to specify some details about the training process like the optimizer, and a loss function."
   ]
  },
  {
   "cell_type": "code",
   "execution_count": null,
   "id": "13a14a2f",
   "metadata": {},
   "outputs": [],
   "source": [
    "9. Can custom Keras components contain arbitrary Python code, or must they be convertible to\n",
    "TF Functions?\n",
    "tf. function is useful in creating and using computational graphs, they should be used in training and in deployment, however it isnt needed for most of your functions."
   ]
  },
  {
   "cell_type": "code",
   "execution_count": null,
   "id": "30da42e5",
   "metadata": {},
   "outputs": [],
   "source": [
    "10. What are the main rules to respect if you want a function to be convertible to a TF Function?\n",
    "\n",
    "You can use tf.function to make graphs out of your programs. It is a transformation tool that creates Python-independent dataflow graphs out of your Python code. This will help you create performant and portable models, and it is required to use SavedModel."
   ]
  },
  {
   "cell_type": "code",
   "execution_count": null,
   "id": "b4bc5f9c",
   "metadata": {},
   "outputs": [],
   "source": []
  }
 ],
 "metadata": {
  "kernelspec": {
   "display_name": "Python 3 (ipykernel)",
   "language": "python",
   "name": "python3"
  },
  "language_info": {
   "codemirror_mode": {
    "name": "ipython",
    "version": 3
   },
   "file_extension": ".py",
   "mimetype": "text/x-python",
   "name": "python",
   "nbconvert_exporter": "python",
   "pygments_lexer": "ipython3",
   "version": "3.9.7"
  }
 },
 "nbformat": 4,
 "nbformat_minor": 5
}
