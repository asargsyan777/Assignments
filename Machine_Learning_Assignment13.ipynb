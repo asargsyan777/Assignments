{
 "cells": [
  {
   "cell_type": "code",
   "execution_count": null,
   "id": "7a19caa5",
   "metadata": {},
   "outputs": [],
   "source": [
    "1. Provide an example of the concepts of Prior, Posterior, and Likelihood.\n",
    "\n",
    "You can think of posterior probability as an adjustment on prior probability: Posterior probability = prior probability + new evidence (called likelihood). For example, historical data suggests that around 60% of students who start college will graduate within 6 years. This is the prior probability."
   ]
  },
  {
   "cell_type": "code",
   "execution_count": null,
   "id": "e1462fa7",
   "metadata": {},
   "outputs": [],
   "source": [
    "2. What role does Bayes theorem play in the concept learning principle?\n",
    "\n",
    "Bayes Theorem is a useful tool in applied machine learning. It provides a way of thinking about the relationship between data and a model. A machine learning algorithm or model is a specific way of thinking about the structured relationships in the data"
   ]
  },
  {
   "cell_type": "code",
   "execution_count": null,
   "id": "8724e0a5",
   "metadata": {},
   "outputs": [],
   "source": [
    "3. Offer an example of how the Nave Bayes classifier is used in real life.\n",
    "Naive Bayes uses a similar method to predict the probability of different class based on various attributes. This algorithm is mostly used in text classification and with problems having multiple classes\n",
    "here are two ways to estimate the class-conditional probabilities for continuous attributes in naive Bayes classifiers: We can discretize each continuous attribute and then replace the continuous attribute value with its corresponding discrete interval\n",
    "    \n"
   ]
  },
  {
   "cell_type": "code",
   "execution_count": null,
   "id": "69478b82",
   "metadata": {},
   "outputs": [],
   "source": [
    "4. Can the Nave Bayes classifier be used on continuous numeric data? If so, how can you go about\n",
    "doing it?\n",
    "    \n",
    "    Bayesian Belief Network is a graphical representation of different probabilistic relationships among random variables in a particular set. It is a classifier with no dependency on attributes i.e it is condition independent."
   ]
  },
  {
   "cell_type": "code",
   "execution_count": null,
   "id": "75073bd2",
   "metadata": {},
   "outputs": [],
   "source": [
    "6. Passengers are checked in an airport screening system to see if there is an intruder. Let I be the\n",
    "random variable that indicates whether someone is an intruder I = 1) or not I = 0), and A be the\n",
    "variable that indicates alarm I = 0). If an intruder is detected with probability P(A = 1|I = 1) = 0.98\n",
    "and a non-intruder is detected with probability P(A = 1|I = 0) = 0.001, an alarm will be triggered,\n",
    "implying the error factor. The likelihood of an intruder in the passenger population is P(I = 1) =\n",
    "0.00001. What are the chances that an alarm would be triggered when an individual is actually an\n",
    "intruder?"
   ]
  },
  {
   "cell_type": "code",
   "execution_count": null,
   "id": "9605cb3c",
   "metadata": {},
   "outputs": [],
   "source": [
    "7. An antibiotic resistance test (random variable T) has 1% false positives (i.e., 1% of those who are\n",
    "not immune to an antibiotic display a positive result in the test) and 5% false negatives (i.e., 1% of\n",
    "those who are not resistant to an antibiotic show a positive result in the test) (i.e. 5 percent of those\n",
    "actually resistant to an antibiotic test negative). Assume that 2% of those who were screened were\n",
    "antibiotic-resistant. Calculate the likelihood that a person who tests positive is actually immune\n",
    "(random variable D)."
   ]
  },
  {
   "cell_type": "code",
   "execution_count": null,
   "id": "c58e473c",
   "metadata": {},
   "outputs": [],
   "source": [
    "8. In order to prepare for the test, a student knows that there will be one question in the exam that\n",
    "is either form A, B, or C. The chances of getting an A, B, or C on the exam are 30 percent, 20%, and\n",
    "50 percent, respectively. During the planning, the student solved 9 of 10 type A problems, 2 of 10\n",
    "type B problems, and 6 of 10 type C problems."
   ]
  },
  {
   "cell_type": "code",
   "execution_count": null,
   "id": "3076370a",
   "metadata": {},
   "outputs": [],
   "source": []
  },
  {
   "cell_type": "code",
   "execution_count": null,
   "id": "9a2fd729",
   "metadata": {},
   "outputs": [],
   "source": []
  },
  {
   "cell_type": "code",
   "execution_count": null,
   "id": "f2dfe103",
   "metadata": {},
   "outputs": [],
   "source": []
  }
 ],
 "metadata": {
  "kernelspec": {
   "display_name": "Python 3 (ipykernel)",
   "language": "python",
   "name": "python3"
  },
  "language_info": {
   "codemirror_mode": {
    "name": "ipython",
    "version": 3
   },
   "file_extension": ".py",
   "mimetype": "text/x-python",
   "name": "python",
   "nbconvert_exporter": "python",
   "pygments_lexer": "ipython3",
   "version": "3.9.7"
  }
 },
 "nbformat": 4,
 "nbformat_minor": 5
}
