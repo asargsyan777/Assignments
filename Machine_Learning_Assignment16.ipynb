{
 "cells": [
  {
   "cell_type": "code",
   "execution_count": null,
   "id": "e2486dd8",
   "metadata": {},
   "outputs": [],
   "source": [
    "1. In a linear equation, what is the difference between a dependent variable and an independent\n",
    "variable?\n",
    "\n",
    "A linear equation in two variables can be described as a linear relationship between x and y, that is, two variables in which the value of one of them (usually y) depends on the value of the other one (usually x). In this case, x is the independent variable, and y depends on it, so y is called the dependent variable."
   ]
  },
  {
   "cell_type": "code",
   "execution_count": null,
   "id": "b6da0a78",
   "metadata": {},
   "outputs": [],
   "source": [
    "2. What is the concept of simple linear regression? Give a specific example.\n",
    "\n",
    "We could use the equation to predict weight if we knew an individual's height. In this example, if an individual was 70 inches tall, we would predict his weight to be: Weight = 80 + 2 x (70) = 220 lbs. In this simple linear regression, we are examining the impact of one independent variable on the outcome"
   ]
  },
  {
   "cell_type": "code",
   "execution_count": null,
   "id": "067a0947",
   "metadata": {},
   "outputs": [],
   "source": [
    "3. In a linear regression, define the slope.\n",
    "\n",
    "A linear regression line has an equation of the form Y = a + bX, where X is the explanatory variable and Y is the dependent variable. The slope of the line is b, and a is the intercept (the value of y when x = 0)."
   ]
  },
  {
   "cell_type": "code",
   "execution_count": null,
   "id": "5cfd91b9",
   "metadata": {},
   "outputs": [],
   "source": [
    "4. Determine the graphs slope, where the lower point on the line is represented as (3, 2) and the\n",
    "higher point is represented as (2, 2). (-1,0)"
   ]
  },
  {
   "cell_type": "code",
   "execution_count": null,
   "id": "1d36305b",
   "metadata": {},
   "outputs": [],
   "source": [
    "5. In linear regression, what are the conditions for a positive slope?\n",
    "\n",
    "In simpler words, a positive slope is one in which the variable x increases with the increase in variable y and/or variable y increases with the increase in variable x."
   ]
  },
  {
   "cell_type": "code",
   "execution_count": null,
   "id": "7f48299c",
   "metadata": {},
   "outputs": [],
   "source": [
    "6. In linear regression, what are the conditions for a negative slope?\n",
    "\n",
    "If the slope is negative, y decreases as x increases and the function runs downhill. If the slope is zero, y does not change, thus is constant—a horizontal line."
   ]
  },
  {
   "cell_type": "code",
   "execution_count": null,
   "id": "6b3918c1",
   "metadata": {},
   "outputs": [],
   "source": [
    "7. What is multiple linear regression and how does it work?\n",
    "\n",
    "Multiple linear regression refers to a statistical technique that uses two or more independent variables to predict the outcome of a dependent variable. The technique enables analysts to determine the variation of the model and the relative contribution of each independent variable in the total variance"
   ]
  },
  {
   "cell_type": "code",
   "execution_count": null,
   "id": "94e78818",
   "metadata": {},
   "outputs": [],
   "source": [
    "8. In multiple linear regression, define the number of squares due to error.\n",
    "\n",
    "The mean squared error (MSE) tells you how close a regression line is to a set of points. It does this by taking the distances from the points to the regression line (these distances are the “errors”) and squaring them. The squaring is necessary to remove any negative signs."
   ]
  },
  {
   "cell_type": "code",
   "execution_count": null,
   "id": "186c6d57",
   "metadata": {},
   "outputs": [],
   "source": [
    "9. Describe the concept of ridge regression.\n",
    "\n",
    "Ridge regression is a model tuning method that is used to analyse any data that suffers from multicollinearity. This method performs L2 regularization. When the issue of multicollinearity occurs, least-squares are unbiased, and variances are large, this results in predicted values being far away from the actual values."
   ]
  },
  {
   "cell_type": "code",
   "execution_count": null,
   "id": "d4499798",
   "metadata": {},
   "outputs": [],
   "source": [
    "10. Describe the concept of lasso regression.\n",
    "\n",
    "Lasso regression analysis is a shrinkage and variable selection method for linear regression models. The goal of lasso regression is to obtain the subset of predictors that minimizes prediction error for a quantitative response variable."
   ]
  },
  {
   "cell_type": "code",
   "execution_count": null,
   "id": "c7be8e7e",
   "metadata": {},
   "outputs": [],
   "source": []
  }
 ],
 "metadata": {
  "kernelspec": {
   "display_name": "Python 3 (ipykernel)",
   "language": "python",
   "name": "python3"
  },
  "language_info": {
   "codemirror_mode": {
    "name": "ipython",
    "version": 3
   },
   "file_extension": ".py",
   "mimetype": "text/x-python",
   "name": "python",
   "nbconvert_exporter": "python",
   "pygments_lexer": "ipython3",
   "version": "3.9.7"
  }
 },
 "nbformat": 4,
 "nbformat_minor": 5
}
