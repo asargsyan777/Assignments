{
 "cells": [
  {
   "cell_type": "code",
   "execution_count": null,
   "id": "31ec2845",
   "metadata": {},
   "outputs": [],
   "source": [
    "1. What is the relationship between def statements and lambda expressions ?\n",
    "Both are an expression,where lambda its a function without name,which returns a value that can optionally be assigned a name. And in def statement it  always assigns the new function to the name in the header,\n",
    "instead of returning is as a result.Also lambda's body is a single expression, not a block of statements.\n"
   ]
  },
  {
   "cell_type": "code",
   "execution_count": null,
   "id": "44a0cad8",
   "metadata": {},
   "outputs": [],
   "source": [
    "2. What is the benefit of lambda?\n",
    "One of the benefits of Lambda function is to reduce amount of code.And also we are using Lambda for places where small functions are needed"
   ]
  },
  {
   "cell_type": "code",
   "execution_count": null,
   "id": "4334b252",
   "metadata": {},
   "outputs": [],
   "source": [
    "3. Compare and contrast map, filter, and reduce.\n",
    "Reduce is returning a single value.Map creates a new array by transforming every element in an array individually.And filter creates a new array by removing elements that doenst belong"
   ]
  },
  {
   "cell_type": "code",
   "execution_count": null,
   "id": "317085f1",
   "metadata": {},
   "outputs": [],
   "source": [
    "4. What are function annotations, and how are they used?\n",
    "Function annotation is the standard way to access the metadata with the arguments and the return value of the function.\n",
    "We use annotations where available to declare typecasting. "
   ]
  },
  {
   "cell_type": "code",
   "execution_count": null,
   "id": "95c52c69",
   "metadata": {},
   "outputs": [],
   "source": [
    "5. What are recursive functions, and how are they used?\n",
    "Recursive functions will continue to call itself and repeat its behavior until some condition is met to return a result.We use  in the listing or compiling of sets of numbers, \n",
    "strings or other variables through a single reiterated process."
   ]
  },
  {
   "cell_type": "code",
   "execution_count": null,
   "id": "94864967",
   "metadata": {},
   "outputs": [],
   "source": [
    "6. What are some general design guidelines for coding functions?\n",
    "It has to be safe,Secure,Reliable,Readable,Maintanable,Reusable and ETC."
   ]
  },
  {
   "cell_type": "code",
   "execution_count": null,
   "id": "db642f64",
   "metadata": {},
   "outputs": [],
   "source": [
    "7. Name three or more ways that functions can communicate results to a caller.\n",
    "We can call the function (Call by value and Call by refrence).Also calling function using built-in function.We can assign the function to call the function.\n",
    "We also can print the statement.\n"
   ]
  }
 ],
 "metadata": {
  "kernelspec": {
   "display_name": "Python 3 (ipykernel)",
   "language": "python",
   "name": "python3"
  },
  "language_info": {
   "codemirror_mode": {
    "name": "ipython",
    "version": 3
   },
   "file_extension": ".py",
   "mimetype": "text/x-python",
   "name": "python",
   "nbconvert_exporter": "python",
   "pygments_lexer": "ipython3",
   "version": "3.9.7"
  }
 },
 "nbformat": 4,
 "nbformat_minor": 5
}
