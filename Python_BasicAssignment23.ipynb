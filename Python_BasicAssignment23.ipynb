{
 "cells": [
  {
   "cell_type": "code",
   "execution_count": null,
   "id": "b7c5ffdb",
   "metadata": {},
   "outputs": [],
   "source": [
    "Question 1\n",
    "Create a function that takes a number as an argument and returns True or False depending\n",
    "on whether the number is symmetrical or not. A number is symmetrical when it is the same as\n",
    "its reverse.\n",
    "\n",
    "num=int(input(\"Enter a number:\"))\n",
    "temp=num\n",
    "rev=0\n",
    "while(num>0):\n",
    "    dig=num%10\n",
    "    rev=rev*10+dig\n",
    "    num=num//10\n",
    "if(temp==rev):\n",
    "    print(\"The number is palindrome!\")\n",
    "else:\n",
    "    print(\"Not a palindrome!\")"
   ]
  },
  {
   "cell_type": "code",
   "execution_count": null,
   "id": "bdd6f781",
   "metadata": {},
   "outputs": [],
   "source": [
    "Question 2\n",
    "Given a string of numbers separated by a comma and space, return the product of the\n",
    "numbers.\n",
    "\n",
    "\n",
    "# Taking 2 inputs\n",
    "a, b = [int(x) for x in input(\"Enter two values\\n\").split(', ')]\n",
    "print(\"\\nThe value of a is {} and b is {}\".format(a, b))\n",
    "  \n",
    "# Taking 3 inputs\n",
    "a, b, c = [int(x) for x in input(\"Enter three values\\n\").split(', ')]\n",
    "print(\"\\nThe value of a is {}, b is {} and c is {}\".format(a, b, c))\n",
    "  \n",
    "# Taking multiple inputs\n",
    "L = [int(x) for x in input(\"Enter multiple values\\n\").split(', ')]\n",
    "print(\"\\nThe values of input are\", L) "
   ]
  },
  {
   "cell_type": "code",
   "execution_count": null,
   "id": "0cfffe2a",
   "metadata": {},
   "outputs": [],
   "source": [
    "Question 3\n",
    "Create a function that squares every digit of a number.\n",
    "\n",
    "ef sq(num):\n",
    "words = num.split()  # split the text\n",
    "for word in words:  # for each word in the line:\n",
    "    print(word**2) # print the word\n",
    "\n",
    "num = 9119\n",
    "sq(num)"
   ]
  },
  {
   "cell_type": "code",
   "execution_count": null,
   "id": "a3d56178",
   "metadata": {},
   "outputs": [],
   "source": [
    "Question 4\n",
    "Create a function that sorts a list and removes all duplicate items from it.\n",
    "\n",
    "res = []\n",
    "for i in test_list:\n",
    "    if i not in res:\n",
    "        res.append(i)"
   ]
  },
  {
   "cell_type": "code",
   "execution_count": null,
   "id": "20b9b86d",
   "metadata": {},
   "outputs": [],
   "source": [
    "Question 5\n",
    "Create a function that returns the mean of all digits.\n",
    "\n",
    "def media(x):\n",
    "  if x<1:\n",
    "    return 0\n",
    "  else:\n",
    "    return x%10+media(x//10)\n",
    "\n",
    "print(media(91234))"
   ]
  }
 ],
 "metadata": {
  "kernelspec": {
   "display_name": "Python 3 (ipykernel)",
   "language": "python",
   "name": "python3"
  },
  "language_info": {
   "codemirror_mode": {
    "name": "ipython",
    "version": 3
   },
   "file_extension": ".py",
   "mimetype": "text/x-python",
   "name": "python",
   "nbconvert_exporter": "python",
   "pygments_lexer": "ipython3",
   "version": "3.9.7"
  }
 },
 "nbformat": 4,
 "nbformat_minor": 5
}
