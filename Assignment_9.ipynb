{
 "cells": [
  {
   "cell_type": "code",
   "execution_count": null,
   "id": "68e899f6",
   "metadata": {},
   "outputs": [],
   "source": [
    "1. To what does a relative path refer?\n",
    "os.path.relpath() method in Python is refer to a relative filepath to the given path from the current working directory or from the given directory."
   ]
  },
  {
   "cell_type": "code",
   "execution_count": null,
   "id": "177fe5a8",
   "metadata": {},
   "outputs": [],
   "source": [
    "2. What does an absolute path start with your operating system?\n",
    " Start at the root directory ( / ) and work down."
   ]
  },
  {
   "cell_type": "code",
   "execution_count": null,
   "id": "040abcc3",
   "metadata": {},
   "outputs": [],
   "source": [
    "3. What do the functions os.getcwd() and os.chdir() do?\n",
    "os.getcwd() : CWD stands for Current Working Directory. This function allows you to see what your current working directory is and os.chdir() its give you option to change the directory, this function allows you to set the current working directory to a path of your choice."
   ]
  },
  {
   "cell_type": "code",
   "execution_count": null,
   "id": "a95d0ad9",
   "metadata": {},
   "outputs": [],
   "source": [
    "4. What are the . and .. folders?\n",
    ". shortcut allow us to refer to the current directory\n",
    "..shortcut allow us to refer to the parent of a directory.Example directory/.. or can be directory/../.. grandparent of directory."
   ]
  },
  {
   "cell_type": "code",
   "execution_count": null,
   "id": "5d2fc5ad",
   "metadata": {},
   "outputs": [],
   "source": [
    "5. In C:\\bacon\\eggs\\spam.txt, which part is the dir name, and which part is the base name?\n",
    "    C:\\bacon\\eggs is dir name and spam.txt is base name.\n",
    "        \n",
    "    "
   ]
  },
  {
   "cell_type": "code",
   "execution_count": null,
   "id": "4dc91d98",
   "metadata": {},
   "outputs": [],
   "source": [
    "6. What are the three \"mode\" arguments that can be passed to the open() function?\n",
    "r Opens a file for reading only.\n",
    "w Opens a file for writing only.\n",
    "rb Opens a file for reading only in binary format.\n"
   ]
  },
  {
   "cell_type": "code",
   "execution_count": null,
   "id": "5a9fd1d5",
   "metadata": {},
   "outputs": [],
   "source": [
    "7. What happens if an existing file is opened in write mode?\n",
    "When you open a file in write mode, if the file does not exist, a new file is created.But in case the file exists, the existing file is overwritten with the new file."
   ]
  },
  {
   "cell_type": "code",
   "execution_count": null,
   "id": "a468667d",
   "metadata": {},
   "outputs": [],
   "source": [
    "8. How do you tell the difference between read() and readlines()?\n",
    "read() function reads everything in the file from start to finish, and returns a string.\n",
    "readlines() function reads everything in the file, but returns a list instead of a string. "
   ]
  },
  {
   "cell_type": "code",
   "execution_count": null,
   "id": "d1798666",
   "metadata": {},
   "outputs": [],
   "source": [
    "9. What data structure does a shelf value resemble? \n",
    "A shelf value resembles a dictionary value,which has keys and values."
   ]
  }
 ],
 "metadata": {
  "kernelspec": {
   "display_name": "Python 3 (ipykernel)",
   "language": "python",
   "name": "python3"
  },
  "language_info": {
   "codemirror_mode": {
    "name": "ipython",
    "version": 3
   },
   "file_extension": ".py",
   "mimetype": "text/x-python",
   "name": "python",
   "nbconvert_exporter": "python",
   "pygments_lexer": "ipython3",
   "version": "3.9.7"
  }
 },
 "nbformat": 4,
 "nbformat_minor": 5
}
