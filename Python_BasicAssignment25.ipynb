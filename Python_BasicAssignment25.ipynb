{
 "cells": [
  {
   "cell_type": "code",
   "execution_count": null,
   "id": "e4aff24a",
   "metadata": {},
   "outputs": [],
   "source": [
    "Question1\n",
    "Create a function that takes three integer arguments (a, b, c) and returns the amount of\n",
    "integers which are of equal value.\n",
    "\n",
    "def test_number5(x, y):\n",
    "   if x == y or abs(x-y) == 5 or (x+y) == 5:\n",
    "       return True\n",
    "   else:\n",
    "       return False\n",
    "print(test_number5(7, 2))\n",
    "print(test_number5(3, 2))\n",
    "print(test_number5(2, 2))\n",
    "print(test_number5(7, 3))\n",
    "print(test_number5(27, 53))"
   ]
  },
  {
   "cell_type": "code",
   "execution_count": null,
   "id": "a141b1c5",
   "metadata": {},
   "outputs": [],
   "source": [
    "Question2\n",
    "Write a function that converts a dictionary into a list of keys-values tuples.\n",
    "\n",
    "d1 = {'x':1,'y':2,'z':3}\n",
    "l2 =[]\n",
    "\n",
    "for i in d1:\n",
    "    tpl = (i, d1[i])\n",
    "    l2.append(tpl)\n",
    "\n",
    "print(l2)"
   ]
  },
  {
   "cell_type": "code",
   "execution_count": null,
   "id": "b616c8a9",
   "metadata": {},
   "outputs": [],
   "source": [
    "Question3\n",
    "Write a function that creates a dictionary with each (key, value) pair being the (lower case,\n",
    "upper case) versions of a letter, respectively.\n",
    "\n",
    "Dict = {}\n",
    "print(\"Empty Dictionary: \")\n",
    "print(Dict)\n",
    " \n",
    "# Creating a Dictionary\n",
    "# with dict() method\n",
    "Dict = dict({1: 'Ineuron', 2: 'For', 3:'Ineuron'})\n",
    "print(\"\\nDictionary with the use of dict(): \")\n",
    "print(Dict)\n",
    " \n",
    "# Creating a Dictionary\n",
    "# with each item as a Pair\n",
    "Dict = dict([(1, 'Ineuron'), (2, 'For')])\n",
    "print(\"\\nDictionary with each item as a pair: \")\n",
    "print(Dict)\n"
   ]
  },
  {
   "cell_type": "code",
   "execution_count": null,
   "id": "d5cf1bad",
   "metadata": {},
   "outputs": [],
   "source": [
    "Question4\n",
    "Write a function, that replaces all vowels in a string with a specified vowel.\n",
    "\n",
    "def replaceVowelsWithK(test_str, K):\n",
    " \n",
    "\n",
    "    vowels = 'AEIOUaeiou'\n",
    " \n",
    "    for ele in vowels:\n",
    " \n",
    "        test_str = test_str.replace(ele, K)\n",
    " \n",
    "    return test_str\n",
    " \n",
    " \n",
    "\n",
    "input_str = \"Ineuron for Ineuron\"\n",
    " \n",
    "# specified character\n",
    "K = \"#\"\n",
    " \n",
    "# printing input\n",
    "print(\"Given String:\", input_str)\n",
    "print(\"Given Specified Character:\", K)\n",
    " \n",
    "# printing output\n",
    "print(\"After replacing vowels with the specified character:\",\n",
    "      replaceVowelsWithK(input_str, K))\n",
    "\n",
    "\n"
   ]
  },
  {
   "cell_type": "code",
   "execution_count": null,
   "id": "6a422efb",
   "metadata": {},
   "outputs": [],
   "source": [
    "Question5\n",
    "Create a function that takes a string as input and capitalizes a letter if its ASCII code is even\n",
    "and returns its lower case version if its ASCII code is odd.\n",
    "\n",
    "c = 'p'\n",
    "print(\"The ASCII value of '\" + c + \"' is\", ord(c))\n",
    "\n",
    "\n",
    "\n",
    "Also we can use this function \n",
    "\n",
    "def my_func(st):\n",
    "    for index in range(len(st)):\n",
    "        if index % 2 == 0:\n",
    "            return st.upper()\n",
    "        else:\n",
    "            return st.lower()"
   ]
  }
 ],
 "metadata": {
  "kernelspec": {
   "display_name": "Python 3 (ipykernel)",
   "language": "python",
   "name": "python3"
  },
  "language_info": {
   "codemirror_mode": {
    "name": "ipython",
    "version": 3
   },
   "file_extension": ".py",
   "mimetype": "text/x-python",
   "name": "python",
   "nbconvert_exporter": "python",
   "pygments_lexer": "ipython3",
   "version": "3.9.7"
  }
 },
 "nbformat": 4,
 "nbformat_minor": 5
}
