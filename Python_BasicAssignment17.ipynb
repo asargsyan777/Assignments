{
 "cells": [
  {
   "cell_type": "code",
   "execution_count": null,
   "id": "5e07eaa6",
   "metadata": {},
   "outputs": [],
   "source": [
    "Question1.\n",
    "Create a function that takes three arguments a, b, c and returns the sum of the\n",
    "numbers that are evenly divided by c from the range a, b inclusive.\n",
    "\n",
    "x = ceil  (x, z);\n",
    " y = floor (y, z);\n",
    " return max((y - x) / z + 1, 0);"
   ]
  },
  {
   "cell_type": "code",
   "execution_count": null,
   "id": "f501383a",
   "metadata": {},
   "outputs": [],
   "source": [
    "Question2. \n",
    "Create a function that returns True if a given inequality expression is correct and\n",
    "False otherwise.\n",
    "\n",
    "def check(s):\n",
    "    regex=eval(s)\n",
    "    if regex:\n",
    "        return True\n",
    "    else:\n",
    "return False \n",
    "\n",
    "print(check(\"2 < 7 < 15\"))\n",
    "print(check(\"30 > 45 > 21 > 9\"))\n",
    "print(check(\"4 < 7 < 8< 12 > 2\"))"
   ]
  },
  {
   "cell_type": "code",
   "execution_count": null,
   "id": "72e3b94a",
   "metadata": {},
   "outputs": [],
   "source": [
    "Question3. \n",
    "Create a function that replaces all the vowels in a string with a specified character.\n",
    "\n",
    "def replaceVowelsWithK(test_str, K):\n",
    " \n",
    "    vowels = 'AEIOUaeiou'\n",
    "\n",
    "    for ele in vowels:\n",
    " \n",
    "        test_str = test_str.replace(ele, K)\n",
    " \n",
    "    return test_str\n",
    " \n",
    " \n",
    "input_str = \"Ineuron for Ineuron\"\n",
    " \n",
    "# specified character\n",
    "K = \"#\"\n",
    " \n",
    "# printing input\n",
    "print(\"Given String:\", input_str)\n",
    "print(\"Given Specified Character:\", K)\n",
    " \n",
    "# printing output\n",
    "print(\"After replacing vowels with the specified character:\",\n",
    "      replaceVowelsWithK(input_str, K))"
   ]
  },
  {
   "cell_type": "code",
   "execution_count": null,
   "id": "cd1d83b8",
   "metadata": {},
   "outputs": [],
   "source": [
    "Question4. \n",
    "Write a function that calculates the factorial of a number recursively.\n",
    "\n",
    "int factorial(int number){\n",
    "    if(number==1){\n",
    "        return number;\n",
    "    }\n",
    "    return number*factorial(number - 1);\n",
    "}\n",
    "int main(){\n",
    "    int a=factorial(5);\n",
    "    printf(\"%d\",a);\n",
    "}"
   ]
  },
  {
   "cell_type": "code",
   "execution_count": null,
   "id": "41998d21",
   "metadata": {},
   "outputs": [],
   "source": [
    "Question 5\n",
    "Hamming distance is the number of characters that differ between two strings.\n",
    "Create a function that computes the hamming distance between two strings.\n",
    "\n",
    "def hamming_distance(string1, string2): \n",
    "    # Start with a distance of zero, and count up\n",
    "    distance = 0\n",
    "    # Loop over the indices of the string\n",
    "    L = len(string1)\n",
    "    for i in range(L):\n",
    "        # Add 1 to the distance if these two characters are not equal\n",
    "        if string1[i] != string2[i]:\n",
    "            distance += 1\n",
    "    # Return the final count of differences\n",
    "    return distance"
   ]
  }
 ],
 "metadata": {
  "kernelspec": {
   "display_name": "Python 3 (ipykernel)",
   "language": "python",
   "name": "python3"
  },
  "language_info": {
   "codemirror_mode": {
    "name": "ipython",
    "version": 3
   },
   "file_extension": ".py",
   "mimetype": "text/x-python",
   "name": "python",
   "nbconvert_exporter": "python",
   "pygments_lexer": "ipython3",
   "version": "3.9.7"
  }
 },
 "nbformat": 4,
 "nbformat_minor": 5
}
