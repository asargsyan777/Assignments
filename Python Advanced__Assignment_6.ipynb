{
 "cells": [
  {
   "cell_type": "code",
   "execution_count": null,
   "id": "a8495a43",
   "metadata": {},
   "outputs": [],
   "source": [
    "Q1. Describe three applications for exception processing.\n",
    "\n",
    "In python there are three types of errors- syntax errors, logic errors and exceptions."
   ]
  },
  {
   "cell_type": "code",
   "execution_count": null,
   "id": "1c3fb61b",
   "metadata": {},
   "outputs": [],
   "source": [
    "Q2. What happens if you dont do something extra to treat an exception?\n",
    "\n",
    "When an exception occurred, if we do not handle it, the program terminates abruptly and the code past the line that caused the exception will not get executed."
   ]
  },
  {
   "cell_type": "code",
   "execution_count": null,
   "id": "ed0169cf",
   "metadata": {},
   "outputs": [],
   "source": [
    "Q3. What are your options for recovering from an exception in your script?\n",
    "\n",
    "A single try statement can have multiple except statements.\n",
    "We can provide a generic except clause, which handles any exception.\n",
    "After the except clause(s), we can include an else-clause.\n",
    "The else-block is a good place for code that does not need the try: block's protection.\n"
   ]
  },
  {
   "cell_type": "code",
   "execution_count": null,
   "id": "634ab3f1",
   "metadata": {},
   "outputs": [],
   "source": [
    "Q4. Describe two methods for triggering exceptions in your script.\n",
    "\n",
    "Try – This method catches the exceptions raised by the program.\n",
    "Raise – Triggers an exception manually using custom exceptions."
   ]
  },
  {
   "cell_type": "code",
   "execution_count": null,
   "id": "d682884c",
   "metadata": {},
   "outputs": [],
   "source": [
    "Q5. Identify two methods for specifying actions to be executed at termination time, regardless of\n",
    "whether or not an exception exists.\n",
    "\n",
    "try :\n",
    "    #statements in try block\n",
    "except :\n",
    "    #executed when error in try block"
   ]
  },
  {
   "cell_type": "code",
   "execution_count": null,
   "id": "9b8e061a",
   "metadata": {},
   "outputs": [],
   "source": []
  }
 ],
 "metadata": {
  "kernelspec": {
   "display_name": "Python 3 (ipykernel)",
   "language": "python",
   "name": "python3"
  },
  "language_info": {
   "codemirror_mode": {
    "name": "ipython",
    "version": 3
   },
   "file_extension": ".py",
   "mimetype": "text/x-python",
   "name": "python",
   "nbconvert_exporter": "python",
   "pygments_lexer": "ipython3",
   "version": "3.9.7"
  }
 },
 "nbformat": 4,
 "nbformat_minor": 5
}
