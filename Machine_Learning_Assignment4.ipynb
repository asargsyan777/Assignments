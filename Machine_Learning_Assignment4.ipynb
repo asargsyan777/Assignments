{
 "cells": [
  {
   "cell_type": "code",
   "execution_count": null,
   "id": "353cb851",
   "metadata": {},
   "outputs": [],
   "source": [
    "1. What are the key tasks involved in getting ready to work with machine learning modeling?\n",
    "Step 1: Collect Data. ...\n",
    "Step 2: Prepare the data. ...\n",
    "Step 3: Choose the model. ...\n",
    "Step 4 Train your machine model. ...\n",
    "Step 5: Evaluation. ...\n",
    "Step 6: Parameter Tuning. ...\n",
    "Step 7: Prediction or Inference."
   ]
  },
  {
   "cell_type": "code",
   "execution_count": null,
   "id": "2d78494a",
   "metadata": {},
   "outputs": [],
   "source": [
    "2. What are the different forms of data used in machine learning? Give a specific example for each of\n",
    "them.\n",
    "\n",
    "What are the different forms of data used in machine learning?\n",
    "Image result for What are the different forms of data used in machine learning? Give a specific example for each of them.\n",
    "Most data can be categorized into 4 basic types from a Machine Learning perspective: numerical data, categorical data, time-series data, and text"
   ]
  },
  {
   "cell_type": "code",
   "execution_count": null,
   "id": "8debaff0",
   "metadata": {},
   "outputs": [],
   "source": [
    "3. Distinguish:\n",
    "\n",
    "1. Numeric vs. categorical attributes\n",
    "Categorical data refers to a data type that can be stored and identified based on the names or labels given to them. Numerical data refers to the data that is in the form of numbers, and not in any language or descriptive form.\n",
    "\n",
    "2. Feature selection vs. dimensionality reduction\n",
    "Feature extraction is a family of dimensionality reduction techniques where a new set of features is built from the original feature set. In order to reduce dimensionality, the number of the new features is lower than the number of the original ones"
   ]
  },
  {
   "cell_type": "code",
   "execution_count": null,
   "id": "c7e8c213",
   "metadata": {},
   "outputs": [],
   "source": [
    "4. Make quick notes on any two of the following:\n",
    "\n",
    "1. The histogram\n",
    "\n",
    "A histogram is a display of statistical information that uses rectangles to show the frequency of data items in successive numerical intervals of equal size. In the most common form of histogram, the independent variable is plotted along the horizontal axis and the dependent variable is plotted along the vertical axis.\n",
    "\n",
    "2. Use a scatter plot\n",
    "\n",
    "Scatter plots are used to plot data points on a horizontal and a vertical axis in the attempt to show how much one variable is affected by another. Each row in the data table is represented by a marker whose position depends on its values in the columns set on the X and Y axes."
   ]
  },
  {
   "cell_type": "code",
   "execution_count": null,
   "id": "4df85eec",
   "metadata": {},
   "outputs": [],
   "source": [
    "5. Why is it necessary to investigate data? Is there a discrepancy in how qualitative and quantitative\n",
    "data are explored?\n",
    "\n",
    "Simply put, quantitative data gets you the numbers to prove the broad general points of your research. Qualitative data brings you the details and the depth to understand their full implications. To get the best results from these methods in your surveys, it's important that you understand the differences between them."
   ]
  },
  {
   "cell_type": "code",
   "execution_count": null,
   "id": "1fe781b4",
   "metadata": {},
   "outputs": [],
   "source": [
    "6. What are the various histogram shapes? What exactly are ‘bins'\n",
    "\n",
    "A histogram is a chart that plots the distribution of a numeric variable's values as a series of bars. Each bar typically covers a range of numeric values called a bin or class; a bar's height indicates the frequency of data points with a value within the corresponding bin."
   ]
  },
  {
   "cell_type": "code",
   "execution_count": null,
   "id": "269b8f9b",
   "metadata": {},
   "outputs": [],
   "source": [
    "7. How do we deal with data outliers?\n",
    "Set up a filter in your testing tool. Even though this has a little cost, filtering out outliers is worth it. ...\n",
    "Remove or change outliers during post-test analysis. ...\n",
    "Change the value of outliers. ...\n",
    "Consider the underlying distribution. ...\n",
    "Consider the value of mild outliers"
   ]
  },
  {
   "cell_type": "code",
   "execution_count": null,
   "id": "7e0aefbf",
   "metadata": {},
   "outputs": [],
   "source": [
    "8. What are the various central inclination measures? Why does mean vary too much from median in\n",
    "certain data sets?\n",
    "\n",
    "The median is usually preferred in these situations because the value of the mean can be distorted by the outliers. However, it will depend on how influential the outliers are. If they do not significantly distort the mean, using the mean as the measure of central tendency will usually be preferred."
   ]
  },
  {
   "cell_type": "code",
   "execution_count": null,
   "id": "634abb21",
   "metadata": {},
   "outputs": [],
   "source": [
    "9. Describe how a scatter plot can be used to investigate bivariate relationships. Is it possible to find\n",
    "outliers using a scatter plot?\n",
    "\n",
    "If there is a regression line on a scatter plot, you can identify outliers. An outlier for a scatter plot is the point or points that are farthest from the regression line. There is at least one outlier on a scatter plot in most cases, and there is usually only one outlier."
   ]
  },
  {
   "cell_type": "code",
   "execution_count": null,
   "id": "82136513",
   "metadata": {},
   "outputs": [],
   "source": [
    "10. Describe how cross-tabs can be used to figure out how two variables are related.\n",
    "\n",
    "Cross tabulation is a method to quantitatively analyze the relationship between multiple variables. Also known as contingency tables or cross tabs, cross tabulation groups variables to understand the correlation between different variables. It also shows how correlations change from one variable grouping to another."
   ]
  }
 ],
 "metadata": {
  "kernelspec": {
   "display_name": "Python 3 (ipykernel)",
   "language": "python",
   "name": "python3"
  },
  "language_info": {
   "codemirror_mode": {
    "name": "ipython",
    "version": 3
   },
   "file_extension": ".py",
   "mimetype": "text/x-python",
   "name": "python",
   "nbconvert_exporter": "python",
   "pygments_lexer": "ipython3",
   "version": "3.9.7"
  }
 },
 "nbformat": 4,
 "nbformat_minor": 5
}
