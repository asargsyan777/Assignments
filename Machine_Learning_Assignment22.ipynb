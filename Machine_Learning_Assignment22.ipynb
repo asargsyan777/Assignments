{
 "cells": [
  {
   "cell_type": "code",
   "execution_count": null,
   "id": "9586df32",
   "metadata": {},
   "outputs": [],
   "source": [
    "1. Is there any way to combine five different models that have all been trained on the same training\n",
    "data and have all achieved 95 percent precision? If so, how can you go about doing it? If not, what is\n",
    "the reason?\n",
    "Yes"
   ]
  },
  {
   "cell_type": "code",
   "execution_count": null,
   "id": "be3b8420",
   "metadata": {},
   "outputs": [],
   "source": [
    "2. Whats the difference between hard voting classifiers and soft voting classifiers?\n",
    "\n",
    "In classification problems, there are two types of voting: hard voting and soft voting. Hard voting entails picking the prediction with the highest number of votes, whereas soft voting entails combining the probabilities of each prediction in each model and picking the prediction with the highest total probability"
   ]
  },
  {
   "cell_type": "code",
   "execution_count": null,
   "id": "54ae66c2",
   "metadata": {},
   "outputs": [],
   "source": [
    "3. Is it possible to distribute a bagging ensembles training through several servers to speed up the\n",
    "process? Pasting ensembles, boosting ensembles, Random Forests, and stacking ensembles are all\n",
    "options.\n",
    "\n",
    "It is quite possible to speed up training of a bagging ensemble, pasting ensembles and Random Forests by distributing it across multiple servers, since each predictor in the ensemble is independent of the others."
   ]
  },
  {
   "cell_type": "code",
   "execution_count": null,
   "id": "63756333",
   "metadata": {},
   "outputs": [],
   "source": [
    "4. What is the advantage of evaluating out of the bag?\n",
    "\n",
    "Better Predictive Model: OOB_Score helps in the least variance and hence it makes a much better predictive model than a model using other validation techniques. Less Computation: It requires less computation as it allows one to test the data as it is being trained"
   ]
  },
  {
   "cell_type": "code",
   "execution_count": null,
   "id": "cbb5d376",
   "metadata": {},
   "outputs": [],
   "source": [
    "5. What distinguishes Extra-Trees from ordinary Random Forests? What good would this extra\n",
    "randomness do? Is it true that Extra-Tree Random Forests are slower or faster than normal Random\n",
    "Forests?\n",
    "\n",
    "So, the main two differences are the following: Random forest uses bootstrap replicas, that is to say, it subsamples the input data with replacement, whereas Extra Trees use the whole original sample."
   ]
  },
  {
   "cell_type": "code",
   "execution_count": null,
   "id": "fb63d198",
   "metadata": {},
   "outputs": [],
   "source": [
    "6. Which hyperparameters and how do you tweak if your AdaBoost ensemble underfits the training\n",
    "data?\n",
    "\n",
    "If your AdaBoost ensemble underfits the training data, what hyperparameters should you tweak and how? try increasing the number of estimators or reducing the regularization hyperparameters of the base estimator, also try slightly increasing the learning rate."
   ]
  },
  {
   "cell_type": "code",
   "execution_count": null,
   "id": "07c949a1",
   "metadata": {},
   "outputs": [],
   "source": [
    "7. Should you raise or decrease the learning rate if your Gradient Boosting ensemble overfits the\n",
    "training set?\n",
    "\n",
    "If your Gradient Boosting ensemble overfits the training set, you should try decreasing the learning rate. You could also use early stopping to find the right number of predictors (you probably have too many)."
   ]
  }
 ],
 "metadata": {
  "kernelspec": {
   "display_name": "Python 3 (ipykernel)",
   "language": "python",
   "name": "python3"
  },
  "language_info": {
   "codemirror_mode": {
    "name": "ipython",
    "version": 3
   },
   "file_extension": ".py",
   "mimetype": "text/x-python",
   "name": "python",
   "nbconvert_exporter": "python",
   "pygments_lexer": "ipython3",
   "version": "3.9.7"
  }
 },
 "nbformat": 4,
 "nbformat_minor": 5
}
