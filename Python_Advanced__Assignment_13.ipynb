{
 "cells": [
  {
   "cell_type": "code",
   "execution_count": null,
   "id": "540daabe",
   "metadata": {},
   "outputs": [],
   "source": [
    "Q1. Can you create a programme or function that employs both positive and negative indexing? Is\n",
    "there any repercussion if you do so?\n",
    "\n",
    "In Python, list slicing is a common practice and it is the most used technique for programmers to solve efficient problems. Consider a python list, In-order to access a range of elements in a list, you need to slice a list. One way to do this is to use the simple slicing operator i.e. colon(:)\n",
    "\n",
    "With this operator, one can specify where to start the slicing, where to end, and specify the step. List slicing returns a new list from the existing list.\n",
    "\n",
    "//Positive indexing\n",
    "Lst = [50, 70, 30, 20, 90, 10, 50]\n",
    " \n",
    "# Display list\n",
    "print(Lst[::])\n",
    "\n",
    "//Negative Indexing\n",
    "Lst = [50, 70, 30, 20, 90, 10, 50]\n",
    " \n",
    "# Display list\n",
    "print(Lst[-7::1])"
   ]
  },
  {
   "cell_type": "code",
   "execution_count": null,
   "id": "6a739824",
   "metadata": {},
   "outputs": [],
   "source": [
    "Q2. What is the most effective way of starting with 1,000 elements in a Python list? Assume that all\n",
    "elements should be set to the same value.\n",
    "\n",
    "Using a for loop and append() We create an empty an list and run a for loop for n times using the append() method to add elements to the list."
   ]
  },
  {
   "cell_type": "code",
   "execution_count": null,
   "id": "430df47f",
   "metadata": {},
   "outputs": [],
   "source": [
    "Q3. How do you slice a list to get any other part while missing the rest? (For example, suppose you\n",
    "want to make a new list with the elements first, third, fifth, seventh, and so on.)\n",
    "\n",
    "Transfer all the elements of list x into another list at some position.\n",
    "Transfer only the element pointed by i from list x into the list at some position.\n",
    "Transfers the range [first, last) from list x into another list at some position."
   ]
  },
  {
   "cell_type": "code",
   "execution_count": null,
   "id": "3acfd444",
   "metadata": {},
   "outputs": [],
   "source": [
    "Q4. Explain the distinctions between indexing and slicing.\n",
    "\n",
    "\"Indexing\" means referring to an element of an iterable by its position within the iterable. \"Slicing\" means getting a subset of elements from an iterable based on their indices."
   ]
  },
  {
   "cell_type": "code",
   "execution_count": null,
   "id": "2bb06ddd",
   "metadata": {},
   "outputs": [],
   "source": [
    "Q5. What happens if one of the slicing expressions indexes is out of range?\n",
    "\n",
    "It might be surprising at first, but it makes sense when you think about it. Indexing returns a single item, but slicing returns a subsequence of items. So when you try to index a nonexistent value, there's nothing to return. But when you slice a sequence outside of bounds, you can still return an empty sequence."
   ]
  },
  {
   "cell_type": "code",
   "execution_count": null,
   "id": "136ac52e",
   "metadata": {},
   "outputs": [],
   "source": [
    "Q6. If you pass a list to a function, and if you want the function to be able to change the values of the\n",
    "list—so that the list is different after the function returns—what action should you avoid?\n",
    "\n",
    "Any argument passed on to the function is considered to be of the same data type inside the walls of the function. After being called inside the function, a list remains a list and does not change into any other data type."
   ]
  },
  {
   "cell_type": "code",
   "execution_count": null,
   "id": "c41d8a61",
   "metadata": {},
   "outputs": [],
   "source": [
    "Q7. What is the concept of an unbalanced matrix?\n",
    "\n",
    "Whenever the cost matrix of an assignment problem is not a square matrix, that is, whenever the number of sources is not equal to the number of destinations, the assignment problem is called an unbalanced assignment problem."
   ]
  },
  {
   "cell_type": "code",
   "execution_count": null,
   "id": "9a26a3d7",
   "metadata": {},
   "outputs": [],
   "source": [
    "Q8. Why is it necessary to use either list comprehension or a loop to create arbitrarily large matrices?\n",
    "\n",
    "Why do we use list comprehension in python?\n",
    "List comprehensions are used for creating new lists from other iterables like tuples, strings, arrays, lists, etc. A list comprehension consists of brackets containing the expression, which is executed for each element along with the for loop to iterate over each element"
   ]
  }
 ],
 "metadata": {
  "kernelspec": {
   "display_name": "Python 3 (ipykernel)",
   "language": "python",
   "name": "python3"
  },
  "language_info": {
   "codemirror_mode": {
    "name": "ipython",
    "version": 3
   },
   "file_extension": ".py",
   "mimetype": "text/x-python",
   "name": "python",
   "nbconvert_exporter": "python",
   "pygments_lexer": "ipython3",
   "version": "3.9.7"
  }
 },
 "nbformat": 4,
 "nbformat_minor": 5
}
