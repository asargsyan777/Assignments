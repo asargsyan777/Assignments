{
 "cells": [
  {
   "cell_type": "code",
   "execution_count": null,
   "id": "66e7a958",
   "metadata": {},
   "outputs": [],
   "source": [
    "1. What is the definition of a target function? In the sense of a real-life example, express the target\n",
    "function. How is a target functions fitness assessed?\n",
    "\n",
    "What is the definition of a target function?\n",
    "A target function, in machine learning, is a method for solving a problem that an AI algorithm parses its training data to find. Once an algorithm finds its target function, that function can be used to predict results (predictive analysis)."
   ]
  },
  {
   "cell_type": "code",
   "execution_count": null,
   "id": "75db1f68",
   "metadata": {},
   "outputs": [],
   "source": [
    "2. What are predictive models, and how do they work? \n",
    "\n",
    "In short, predictive modeling is a statistical technique using machine learning and data mining to predict and forecast likely future outcomes with the aid of historical and existing data. It works by analyzing current and historical data and projecting what it learns on a model generated to forecast likely outcomes."
   ]
  },
  {
   "cell_type": "code",
   "execution_count": null,
   "id": "97b5459c",
   "metadata": {},
   "outputs": [],
   "source": [
    "3. Describe the method of assessing a classification models efficiency in detail. Describe the various\n",
    "measurement parameters.\n",
    "\n",
    "Confusion Matrix\n",
    "Precision\n",
    "Recall/ Sensitivity\n",
    "Specificity\n",
    "F1-Score"
   ]
  },
  {
   "cell_type": "code",
   "execution_count": null,
   "id": "3682fcfd",
   "metadata": {},
   "outputs": [],
   "source": [
    "4.\n",
    " In the sense of machine learning models, what is underfitting? What is the most common\n",
    "reason for underfitting?\n",
    " Underfitting refers to a model that can neither performs well on the training data nor generalize to new data. Reasons for Underfitting: High bias and low variance. The size of the training dataset used is not enough"
   ]
  },
  {
   "cell_type": "code",
   "execution_count": null,
   "id": "aeffa5bc",
   "metadata": {},
   "outputs": [],
   "source": [
    "5. Is it possible to boost the efficiency of a learning model? If so, please clarify how.\n",
    "\n",
    "Reframe the problem. Sometimes, improving a model may have nothing to do with the data or techniques used to train the model. ...\n",
    "Provide more data samples. ...\n",
    "Add context to the data. ...\n",
    "Use meaningful data and features. ...\n",
    "Cross-validation. ...\n",
    "Hyperparameter tuning. ...\n",
    "Choose a different algorithm."
   ]
  },
  {
   "cell_type": "code",
   "execution_count": null,
   "id": "54b3da2a",
   "metadata": {},
   "outputs": [],
   "source": [
    "6. How would you rate an unsupervised learning models success? What are the most common\n",
    "success indicators for an unsupervised learning model?\n",
    "\n",
    "Twin sample validation can be used to validate results of unsupervised learning. It should be used in combination with internal validation. It can prove to be highly useful in case of time-series data where we want to ensure that our results remain same across time."
   ]
  },
  {
   "cell_type": "code",
   "execution_count": null,
   "id": "094895b0",
   "metadata": {},
   "outputs": [],
   "source": [
    "7. Is it possible to use a classification model for numerical data or a regression model for categorical\n",
    "data with a classification model? Explain your answer.\n",
    "Yes."
   ]
  },
  {
   "cell_type": "code",
   "execution_count": null,
   "id": "356871c7",
   "metadata": {},
   "outputs": [],
   "source": [
    "8. Describe the predictive modeling method for numerical values.\n",
    "\n",
    "In short, predictive modeling is a statistical technique using machine learning and data mining to predict and forecast likely future outcomes with the aid of historical and existing data. It works by analyzing current and historical data and projecting what it learns on a model generated to forecast likely outcomes."
   ]
  },
  {
   "cell_type": "code",
   "execution_count": null,
   "id": "7483f823",
   "metadata": {},
   "outputs": [],
   "source": [
    "10. Make quick notes on:\n",
    "1. The process of holding out  Holdout Method is the simplest sort of method to evaluate a classifier. In this method, the data set (a collection of data items or examples) is separated into two sets, called the Training set and Test set. A classifier performs function of assigning data items in a given collection to a target category or class."
   ]
  },
  {
   "cell_type": "code",
   "execution_count": null,
   "id": "fd3b6648",
   "metadata": {},
   "outputs": [],
   "source": [
    "11. Define the following terms:\n",
    "1. Purity vs. Silhouette width  What is considered a good silhouette score?\n",
    "The value of the silhouette coefﬁcient is between [-1, 1]. A score of 1 denotes the best meaning that the data point i is very compact within the cluster to which it belongs and far away from the other clusters.\n",
    "2. Boosting vs. Bagging   Bagging is a way to decrease the variance in the prediction by generating additional data for training from dataset using combinations with repetitions to produce multi-sets of the original data. Boosting is an iterative technique which adjusts the weight of an observation based on the last classification\n",
    "3. The eager learner vs. the lazy learner  lazy learners have less training time but more time in predicting. Eager learners construct a classification model based on the given training data before receiving data for classification. It must be able to commit to a single hypothesis that covers the entire instance space"
   ]
  }
 ],
 "metadata": {
  "kernelspec": {
   "display_name": "Python 3 (ipykernel)",
   "language": "python",
   "name": "python3"
  },
  "language_info": {
   "codemirror_mode": {
    "name": "ipython",
    "version": 3
   },
   "file_extension": ".py",
   "mimetype": "text/x-python",
   "name": "python",
   "nbconvert_exporter": "python",
   "pygments_lexer": "ipython3",
   "version": "3.9.7"
  }
 },
 "nbformat": 4,
 "nbformat_minor": 5
}
