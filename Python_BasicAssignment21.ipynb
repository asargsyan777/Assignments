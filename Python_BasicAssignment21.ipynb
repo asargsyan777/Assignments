{
 "cells": [
  {
   "cell_type": "code",
   "execution_count": null,
   "id": "ff1c5cf0",
   "metadata": {},
   "outputs": [],
   "source": [
    "Question1\n",
    "Write a function that takes a list and a number as arguments. Add the number to the end of\n",
    "the list, then remove the first element of the list. The function should then return the updated\n",
    "list.\n",
    "\n",
    "sample_list = [1, 2, 3, 4, 5]\n",
    "a = sample_list.pop(0)      \n",
    "print(sample_list)   "
   ]
  },
  {
   "cell_type": "code",
   "execution_count": null,
   "id": "89091851",
   "metadata": {},
   "outputs": [],
   "source": [
    "Question2\n",
    "Create the function that takes a list of dictionaries and returns the sum of peoples budgets.\n",
    "\n",
    "lst = [\n",
    "{'Name': 'A', 'amt':100},\n",
    "{'Name': 'B', 'amt':200},\n",
    "{'Name': 'A', 'amt':300},\n",
    "{'Name': 'C', 'amt':400},\n",
    "{'Name': 'C', 'amt':500},\n",
    "{'Name': 'A', 'amt':600}]\n",
    "\n",
    "import itertools as it\n",
    "keyfunc = lambda x: x['Name']\n",
    "\n",
    "groups = it.groupby(sorted(lst, key=keyfunc), keyfunc)\n",
    "[{'Name':k, 'amt':sum(x['amt'] for x in g)} for k, g in groups]"
   ]
  },
  {
   "cell_type": "code",
   "execution_count": null,
   "id": "8bc3abc4",
   "metadata": {},
   "outputs": [],
   "source": [
    "Question3\n",
    "Create a function that takes a string and returns a string with its letters in alphabetical order.\n",
    "\n",
    "def sortString(str):\n",
    "    return ''.join(sorted(str))\n",
    "      \n",
    "str = 'PYTHON'\n",
    "print(sortString(str))"
   ]
  },
  {
   "cell_type": "code",
   "execution_count": null,
   "id": "83807bcd",
   "metadata": {},
   "outputs": [],
   "source": [
    "Question\n",
    "Write a function that takes a list of elements and returns only the integers.\n",
    "\n",
    "def runningSum(aList):\n",
    "    theSum = 0\n",
    "    for i in aList:\n",
    "        theSum = theSum + i\n",
    "    return theSum"
   ]
  },
  {
   "cell_type": "code",
   "execution_count": null,
   "id": "9ff89190",
   "metadata": {},
   "outputs": [],
   "source": []
  }
 ],
 "metadata": {
  "kernelspec": {
   "display_name": "Python 3 (ipykernel)",
   "language": "python",
   "name": "python3"
  },
  "language_info": {
   "codemirror_mode": {
    "name": "ipython",
    "version": 3
   },
   "file_extension": ".py",
   "mimetype": "text/x-python",
   "name": "python",
   "nbconvert_exporter": "python",
   "pygments_lexer": "ipython3",
   "version": "3.9.7"
  }
 },
 "nbformat": 4,
 "nbformat_minor": 5
}
