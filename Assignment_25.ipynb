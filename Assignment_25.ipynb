{
 "cells": [
  {
   "cell_type": "code",
   "execution_count": null,
   "id": "0ddbf2e6",
   "metadata": {},
   "outputs": [],
   "source": [
    "1)What is the difference between enclosing a list comprehension in square brackets and\n",
    "parentheses?\n",
    "In Square brackets[] are lists and in parentheses () are tuples.\n"
   ]
  },
  {
   "cell_type": "code",
   "execution_count": null,
   "id": "bddb037a",
   "metadata": {},
   "outputs": [],
   "source": [
    "2) What is the relationship between generators and iterators?\n",
    "First of all generator objects can be used in for loop or with the built-in function next() which returns the next value from generator.\n",
    "So a generator function is the easiest way to create an Iterator object.And we can say that every generator object is an iterator but not oposite.\n",
    "\n"
   ]
  },
  {
   "cell_type": "code",
   "execution_count": null,
   "id": "d30edfee",
   "metadata": {},
   "outputs": [],
   "source": [
    "3) What are the signs that a function is a generator function?\n",
    "If a function contains at least one yield statement it becomes a generator function."
   ]
  },
  {
   "cell_type": "code",
   "execution_count": null,
   "id": "20b583f7",
   "metadata": {},
   "outputs": [],
   "source": [
    "4) What is the purpose of a yield statement?\n",
    "Yield is the keyword that works similar way as the return statement and it returning the function's values without destroying the states of its local variable\n",
    "and when the function is called, the execution starts from the last yield stat.\n"
   ]
  },
  {
   "cell_type": "code",
   "execution_count": null,
   "id": "3cf2c0ae",
   "metadata": {},
   "outputs": [],
   "source": [
    "5) What is the relationship between map calls and list comprehensions? Make a comparison and\n",
    "contrast between the two.\n",
    "list comprehensions are easier to read comaring to map.However Map is more faster.\n",
    "Also List comprehension are used when a list of results is required and map only returns a map object and does not return any list\n",
    "\n"
   ]
  }
 ],
 "metadata": {
  "kernelspec": {
   "display_name": "Python 3 (ipykernel)",
   "language": "python",
   "name": "python3"
  },
  "language_info": {
   "codemirror_mode": {
    "name": "ipython",
    "version": 3
   },
   "file_extension": ".py",
   "mimetype": "text/x-python",
   "name": "python",
   "nbconvert_exporter": "python",
   "pygments_lexer": "ipython3",
   "version": "3.9.7"
  }
 },
 "nbformat": 4,
 "nbformat_minor": 5
}
