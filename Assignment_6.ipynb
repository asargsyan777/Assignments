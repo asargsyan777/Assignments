{
 "cells": [
  {
   "cell_type": "code",
   "execution_count": null,
   "id": "2028868d",
   "metadata": {},
   "outputs": [],
   "source": [
    "1. What are escape characters, and how do you use them\"\n",
    "Escape Characters used in representing certain whitespace characters-for example  \"\\t\" is a tab, \"\\n\" is a new line, and \"\\r\" is for return. "
   ]
  },
  {
   "cell_type": "code",
   "execution_count": null,
   "id": "ae8bf387",
   "metadata": {},
   "outputs": [],
   "source": [
    "2. What do the escape characters n and t stand for?\n",
    "n stand for new line and t stand for tab."
   ]
  },
  {
   "cell_type": "code",
   "execution_count": null,
   "id": "20264d25",
   "metadata": {},
   "outputs": [],
   "source": [
    "3. What is the way to include backslash characters in a string?\n",
    "If we want an actual backslash in the string or regex, we have to write two: \\\\ . \n",
    "If we are using a string to create a regular expression (rather than using a regular expression)then in this case we are dealing with two levels: The string level, and the regular expression level\n"
   ]
  },
  {
   "cell_type": "code",
   "execution_count": null,
   "id": "e7b3eea2",
   "metadata": {},
   "outputs": [],
   "source": [
    "4. The string \"Howl Moving Castle\" is a correct value. Why isnt the single quote character in the\n",
    "word Howls not escaped a problem?\n",
    "The single quote in Howl's is fine because we used double quotes to mark the beginning and end of the string."
   ]
  },
  {
   "cell_type": "code",
   "execution_count": null,
   "id": "583b65d5",
   "metadata": {},
   "outputs": [],
   "source": [
    "5. How do you write a string of newlines if you dont want to use the n character?\n",
    "We can change this default behavior by customizing the value of the end parameter of the print function.\n",
    "For Example\n",
    "print(\"Hello\")\n",
    "print(\"World\")"
   ]
  },
  {
   "cell_type": "code",
   "execution_count": null,
   "id": "c948acba",
   "metadata": {},
   "outputs": [],
   "source": [
    "6. What are the values of the given expressions?\n",
    "'Hello, world!'[1] the output will be 'e'\n",
    "'Hello, world!'[0:5] the output will be 'Hello'\n",
    "'Hello, world!'[:5]  the output will be 'Hello'\n",
    "'Hello, world!'[3:]  the output will be 'lo, world!'"
   ]
  },
  {
   "cell_type": "code",
   "execution_count": 6,
   "id": "040d9234",
   "metadata": {},
   "outputs": [
    {
     "data": {
      "text/plain": [
       "'lo, world!'"
      ]
     },
     "execution_count": 6,
     "metadata": {},
     "output_type": "execute_result"
    }
   ],
   "source": [
    "'Hello, world!'[3:]"
   ]
  },
  {
   "cell_type": "code",
   "execution_count": null,
   "id": "5c8a1907",
   "metadata": {},
   "outputs": [],
   "source": [
    "7. What are the values of the following expressions?\n",
    "'Hello'.upper()  the output will be 'HELLO'\n",
    "'Hello'.upper().isupper() the output will be True\n",
    "'Hello'.upper().lower()  the output will be 'hello'\n",
    "\n"
   ]
  },
  {
   "cell_type": "code",
   "execution_count": 9,
   "id": "24782e05",
   "metadata": {},
   "outputs": [
    {
     "data": {
      "text/plain": [
       "'hello'"
      ]
     },
     "execution_count": 9,
     "metadata": {},
     "output_type": "execute_result"
    }
   ],
   "source": [
    "'Hello'.upper().lower()"
   ]
  },
  {
   "cell_type": "code",
   "execution_count": null,
   "id": "114c156f",
   "metadata": {},
   "outputs": [],
   "source": [
    "8. What are the values of the following expressions?\n",
    "'Remember, remember, the fifth of July.'.split()\n",
    "The output will be ['Remember,', 'remember,', 'the', 'fifth', 'of', 'July.']\n"
   ]
  },
  {
   "cell_type": "code",
   "execution_count": 16,
   "id": "2e886b35",
   "metadata": {},
   "outputs": [
    {
     "data": {
      "text/plain": [
       "['Remember,', 'remember,', 'the', 'fifth', 'of', 'July.']"
      ]
     },
     "execution_count": 16,
     "metadata": {},
     "output_type": "execute_result"
    }
   ],
   "source": [
    "'Remember, remember, the fifth of July.'.split()\n"
   ]
  },
  {
   "cell_type": "code",
   "execution_count": null,
   "id": "1177ec67",
   "metadata": {},
   "outputs": [],
   "source": [
    "9. What are the methods for right-justifying, left-justifying, and centering a string?\n",
    "The methods are ljust(), rjust(), center()\n"
   ]
  },
  {
   "cell_type": "code",
   "execution_count": null,
   "id": "8ac606e1",
   "metadata": {},
   "outputs": [],
   "source": [
    "10. What is the best way to remove whitespace characters from the start or end?\n",
    "In order to remove whitespace characters from the start or end we need to use  trimStart() or trimEnd() method."
   ]
  },
  {
   "cell_type": "code",
   "execution_count": null,
   "id": "6e63796c",
   "metadata": {},
   "outputs": [],
   "source": []
  },
  {
   "cell_type": "code",
   "execution_count": null,
   "id": "ca32b905",
   "metadata": {},
   "outputs": [],
   "source": []
  }
 ],
 "metadata": {
  "kernelspec": {
   "display_name": "Python 3 (ipykernel)",
   "language": "python",
   "name": "python3"
  },
  "language_info": {
   "codemirror_mode": {
    "name": "ipython",
    "version": 3
   },
   "file_extension": ".py",
   "mimetype": "text/x-python",
   "name": "python",
   "nbconvert_exporter": "python",
   "pygments_lexer": "ipython3",
   "version": "3.9.7"
  }
 },
 "nbformat": 4,
 "nbformat_minor": 5
}
