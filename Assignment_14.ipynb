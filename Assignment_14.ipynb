{
 "cells": [
  {
   "cell_type": "code",
   "execution_count": null,
   "id": "24d39a6d",
   "metadata": {},
   "outputs": [],
   "source": [
    "1. What does RGBA stand for?\n",
    "RGBA is stand for Red-Green-Blue-Alpha."
   ]
  },
  {
   "cell_type": "code",
   "execution_count": null,
   "id": "930fb2eb",
   "metadata": {},
   "outputs": [],
   "source": [
    "2. From the Pillow module, how do you get the RGBA value of any images?\n",
    "In order to get an value we can use this example.\n",
    "\n",
    "For example.\n",
    "filename = \"sample.jpg\"\n",
    "img = Image. open(filename)\n",
    "img. show() \n",
    "colors = img. getpixel((320,240)) \n",
    "print(colors)"
   ]
  },
  {
   "cell_type": "code",
   "execution_count": null,
   "id": "7e1c38c1",
   "metadata": {},
   "outputs": [],
   "source": [
    "3. What is a box tuple, and how does it work?\n",
    "Basically Pillow’s functions take a box tuple argument,Which means Pillow is expecting a tuple of four integer coordinates that represent a rectangular region in an image,which is \n",
    "Left,top,rigth and bottom."
   ]
  },
  {
   "cell_type": "code",
   "execution_count": null,
   "id": "9e168b66",
   "metadata": {},
   "outputs": [],
   "source": [
    "4. Use your image and load in notebook then, How can you find out the width and height of an\n",
    "Image object?\n",
    "\n",
    "#First of all we need to import required module\n",
    "from PIL import Image\n",
    "  \n",
    "#Next we need to Get an imaage\n",
    "filepath = \"annasSar.png\"\n",
    "img = Image.open(filepath)\n",
    "  \n",
    "#After we need to get width and height\n",
    "width = img.width\n",
    "height = img.height\n",
    "  \n",
    "# At the end we need to print width and height\n",
    "print(\"The height of the image is: \", height)\n",
    "print(\"The width of the image is: \", width)"
   ]
  },
  {
   "cell_type": "code",
   "execution_count": null,
   "id": "67321c4e",
   "metadata": {},
   "outputs": [],
   "source": [
    "6. After making changes to an Image object, how could you save it as an image file?\n",
    "We can use Image.save()"
   ]
  },
  {
   "cell_type": "code",
   "execution_count": null,
   "id": "c4ec21b6",
   "metadata": {},
   "outputs": [],
   "source": [
    "7. What module contains Pillow’s shape-drawing code?\n",
    "ImageDraw module of the Python image processing library Pillow (PIL) provides many methods for drawing figures, such as circles, squares, and straight lines\n"
   ]
  },
  {
   "cell_type": "code",
   "execution_count": null,
   "id": "bc56d408",
   "metadata": {},
   "outputs": [],
   "source": [
    "8. Image objects do not have drawing methods. What kind of object does? How do you get this kind\n",
    "of object?\n",
    "wand.drawing---This module provides us with some very basic drawing functions for drawing shapes into images, and then it can draw these shapes into zero or more images."
   ]
  },
  {
   "cell_type": "code",
   "execution_count": null,
   "id": "61fc7bbe",
   "metadata": {},
   "outputs": [],
   "source": []
  },
  {
   "cell_type": "code",
   "execution_count": null,
   "id": "ebf9bc03",
   "metadata": {},
   "outputs": [],
   "source": []
  }
 ],
 "metadata": {
  "kernelspec": {
   "display_name": "Python 3 (ipykernel)",
   "language": "python",
   "name": "python3"
  },
  "language_info": {
   "codemirror_mode": {
    "name": "ipython",
    "version": 3
   },
   "file_extension": ".py",
   "mimetype": "text/x-python",
   "name": "python",
   "nbconvert_exporter": "python",
   "pygments_lexer": "ipython3",
   "version": "3.9.7"
  }
 },
 "nbformat": 4,
 "nbformat_minor": 5
}
