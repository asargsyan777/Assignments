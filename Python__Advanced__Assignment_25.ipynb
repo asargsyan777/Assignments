{
 "cells": [
  {
   "cell_type": "code",
   "execution_count": null,
   "id": "b5897b50",
   "metadata": {},
   "outputs": [],
   "source": [
    "Q1. What is the distinction between a numpy array and a pandas data frame? Is there a way to\n",
    "convert between the two if there is?\n",
    "\n",
    "Simply speaking, use Numpy array when there are complex mathematical operations to be performed. Use Pandas dataframe for ease of usage of data preprocessing including performing group operations, creation of Matplotlib plots, rows and columns operations."
   ]
  },
  {
   "cell_type": "code",
   "execution_count": null,
   "id": "ff1369e9",
   "metadata": {},
   "outputs": [],
   "source": [
    "Q2. What can go wrong when an user enters in a stock-ticker symbol, and how do you handle it?\n",
    "\n",
    "if a ticker symbol has letters added to it such as .PK, .OB or .OTCBB, this means the stock is delisted. No longer trading on the original exchange. "
   ]
  },
  {
   "cell_type": "code",
   "execution_count": null,
   "id": "7baa4175",
   "metadata": {},
   "outputs": [],
   "source": [
    "Q3. Identify some of the plotting techniques that are used to produce a stock-market chart.\n",
    "\n",
    "line chart, bar chart, point and figure chart and candlestick chart."
   ]
  },
  {
   "cell_type": "code",
   "execution_count": null,
   "id": "e82ad1c4",
   "metadata": {},
   "outputs": [],
   "source": [
    "Q4. Why is it essential to print a legend on a stock market chart?\n",
    "By default, each plot of a Stock chart has a legend, its items representing the series on the plot. In addition, the legend displays information about the points that are currently hovered over or, if none are hovered over, about the last points shown on the plot.\n"
   ]
  },
  {
   "cell_type": "code",
   "execution_count": null,
   "id": "41ab1e96",
   "metadata": {},
   "outputs": [],
   "source": [
    "Q5. What is the best way to limit the length of a pandas data frame to less than a year?\n",
    "\n",
    "The upper limit for pandas Dataframe was 100 GB of free disk space on the machine."
   ]
  },
  {
   "cell_type": "code",
   "execution_count": null,
   "id": "da79db48",
   "metadata": {},
   "outputs": [],
   "source": [
    "Q6. What is the definition of a 180-day moving average?\n",
    "\n",
    "Moving averages are momentum indicators used in a range of fields from natural sciences to stock market trading. These calculations measure momentum in observed values over a period of time. For example, the simple moving average can help signal trend reversals in the stock market in 180 day."
   ]
  },
  {
   "cell_type": "code",
   "execution_count": null,
   "id": "f4099582",
   "metadata": {},
   "outputs": [],
   "source": [
    "Q7. Did the chapters final example use \"indirect\" importing? If so, how exactly do you do it?\n",
    "\n",
    "The import statement combines two operations; it searches for the named module, then it binds the results of that search to a name in the local scope. "
   ]
  }
 ],
 "metadata": {
  "kernelspec": {
   "display_name": "Python 3 (ipykernel)",
   "language": "python",
   "name": "python3"
  },
  "language_info": {
   "codemirror_mode": {
    "name": "ipython",
    "version": 3
   },
   "file_extension": ".py",
   "mimetype": "text/x-python",
   "name": "python",
   "nbconvert_exporter": "python",
   "pygments_lexer": "ipython3",
   "version": "3.9.7"
  }
 },
 "nbformat": 4,
 "nbformat_minor": 5
}
