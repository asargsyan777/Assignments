{
 "cells": [
  {
   "cell_type": "code",
   "execution_count": null,
   "id": "44b6f35f",
   "metadata": {},
   "outputs": [],
   "source": [
    "1.What are the two values of the Boolean data type? How do you write them?\n",
    "\n",
    "There are Two Types of Boolean Expression,which are TRUE and False.For Example 20<10 is False ,where 10>5 is True."
   ]
  },
  {
   "cell_type": "code",
   "execution_count": null,
   "id": "49784d9c",
   "metadata": {},
   "outputs": [],
   "source": [
    "2. What are the three different types of Boolean operators?\n",
    "There are 3 different types of Booean Operators,which are AND,OR and NOT.\n",
    "\n"
   ]
  },
  {
   "cell_type": "code",
   "execution_count": null,
   "id": "f4fa61d4",
   "metadata": {},
   "outputs": [],
   "source": [
    "3.Make a list of each Boolean operators truth tables (i.e. every possible combination of Boolean values for the operator and what it evaluate )\n",
    "\n",
    "In Pyton boolean operators represent the truth value of expression.\n",
    "Truth table example:\n",
    "    True and True      True\n",
    "    False and True     False\n",
    "    True and  False   True\n",
    "    False and False   False\n",
    "    \n",
    "    True or False  True\n",
    "    True or True   True\n",
    "    False or True  True\n",
    "    False or False False\n",
    "\n"
   ]
  },
  {
   "cell_type": "code",
   "execution_count": null,
   "id": "e7389698",
   "metadata": {},
   "outputs": [],
   "source": [
    "4. What are the values of the following expressions?\n",
    "(5 > 4) and (3 == 5)                  Answer is True\n",
    "not (5 >4)                            Answer is False\n",
    "(5 > 4) or (3 == 5)                   Answer is True\n",
    "(True and True) and (True == False)   Answer is True\n",
    "(not False) or (not True)             Answer is True\n"
   ]
  },
  {
   "cell_type": "code",
   "execution_count": null,
   "id": "0b765b39",
   "metadata": {},
   "outputs": [],
   "source": [
    "5.What are the six comparison operators?\n",
    "1.<    Less Than\n",
    "2.>    Grather than\n",
    "3.<=   Less than or equal to\n",
    "4.>=   Grather than or equal to\n",
    "5.==   Equal To\n",
    "6.!=   No Equal to"
   ]
  },
  {
   "cell_type": "code",
   "execution_count": null,
   "id": "50b18f1e",
   "metadata": {},
   "outputs": [],
   "source": [
    "6.How do you tell the difference between the equal to and assignment operators?Describe a\n",
    "condition and when you would use one.\n",
    "Assignment \"=\" operator is use to assign the value.Example a = 10;\n",
    "The equal \"==\" operator is checking if two given operators are equal or not.Exampe 10==10 TRue\n"
   ]
  },
  {
   "cell_type": "code",
   "execution_count": null,
   "id": "e486be4a",
   "metadata": {},
   "outputs": [],
   "source": [
    "7. Answer.\n",
    "    \"First Block:\",\n",
    "    \"if spam == 10\",\n",
    "      print('eggs'),\n",
    "    \n",
    "    \"Second Block:\",\n",
    "    \" if spam > 5 \",\n",
    "    \"print('bacon'),\n",
    "    \n",
    "    \"Third Block:\",\n",
    "    \"else:\",\n",
    "    \"print('ham')\",\n",
    "    \"print('spam')\",\n",
    "    \"print('spam')\",\n",
    "    \n",
    "    "
   ]
  },
  {
   "cell_type": "code",
   "execution_count": 5,
   "id": "fa90bc45",
   "metadata": {},
   "outputs": [],
   "source": [
    "8.Write code that prints Hello if 1 is stored in spam, prints Howdy if 2 is stored in spam, and prints\n",
    "Greetings! if anything else is stored in spam.\n",
    "\n",
    "    spam = 4 ,\n",
    "    \n",
    "    if spam == 1:,\n",
    "        print(\\\"Hello\\\"),\n",
    "    elif spam == 2:\",\n",
    "        print(\\\"Howdy\\\"),\n",
    "    else:\n",
    "        print(\\\"Greetings\\\")\"\n"
   ]
  },
  {
   "cell_type": "code",
   "execution_count": null,
   "id": "9098d696",
   "metadata": {},
   "outputs": [],
   "source": [
    "9.If your programme is stuck in an endless loop, what keys you’ll press?\n",
    "Ctrl+C\n"
   ]
  },
  {
   "cell_type": "code",
   "execution_count": null,
   "id": "f01c85ba",
   "metadata": {},
   "outputs": [],
   "source": [
    "10. How can you tell the difference between break and continue\n",
    "In Python break statement stops the loop in which the statement is placed.And continue statement skips a single iteration in a loop.\n",
    "   "
   ]
  },
  {
   "cell_type": "code",
   "execution_count": null,
   "id": "9fed576e",
   "metadata": {},
   "outputs": [],
   "source": [
    "11. In a for loop, what is the difference between range(10), range(0, 10), and range(0, 10, 1)?\n",
    "range(10) ==> It knows that we want numbers starting with 0 and and ending 9 stopping at {10} {Starting with 0 is a Must here},  \n",
    "range(0, 10) ==> It knows that we want numbers staring with 0 and ending 9 stopping at {10} {We can change the number we want to start with},\n",
    "range(0, 10, 1) ==> It knows that we want numbers from  0 to 9 stopping at {10} skipping by 1 ,\n",
    "    "
   ]
  },
  {
   "cell_type": "code",
   "execution_count": null,
   "id": "13234e36",
   "metadata": {},
   "outputs": [],
   "source": [
    "12. Write a short program that prints the numbers 1 to 10 using a for loop. Then write an equivalent\n",
    "program that prints the numbers 1 to 10 using a while loop.\n",
    "\n",
    "Using For loop Example:\n",
    "for i in range(1, 11):\n",
    "    print(i)\n",
    " \n",
    "Using While loop Example:\n",
    "    i = 1,\n",
    "    while(i<=10),\n",
    "        print(i),\n",
    "         i += 1\n"
   ]
  },
  {
   "cell_type": "code",
   "execution_count": null,
   "id": "2d4e1d7f",
   "metadata": {},
   "outputs": [],
   "source": [
    "13. If you had a function named bacon() inside a module named spam, how would you call it after\n",
    "importing spam?\n",
    "spam.bacon()"
   ]
  },
  {
   "cell_type": "code",
   "execution_count": null,
   "id": "941f895c",
   "metadata": {},
   "outputs": [],
   "source": []
  }
 ],
 "metadata": {
  "kernelspec": {
   "display_name": "Python 3 (ipykernel)",
   "language": "python",
   "name": "python3"
  },
  "language_info": {
   "codemirror_mode": {
    "name": "ipython",
    "version": 3
   },
   "file_extension": ".py",
   "mimetype": "text/x-python",
   "name": "python",
   "nbconvert_exporter": "python",
   "pygments_lexer": "ipython3",
   "version": "3.9.7"
  }
 },
 "nbformat": 4,
 "nbformat_minor": 5
}
