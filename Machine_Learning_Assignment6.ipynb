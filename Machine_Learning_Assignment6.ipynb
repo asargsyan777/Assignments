{
 "cells": [
  {
   "cell_type": "code",
   "execution_count": null,
   "id": "d289350b",
   "metadata": {},
   "outputs": [],
   "source": [
    "1. In the sense of machine learning, what is a model? What is the best way to train a model?\n",
    "\n",
    "Training a model simply means learning (determining) good values for all the weights and the bias from labeled examples. In supervised learning, a machine learning algorithm builds a model by examining many examples and attempting to find a model that minimizes loss; this process is called empirical risk minimization"
   ]
  },
  {
   "cell_type": "code",
   "execution_count": null,
   "id": "c228e149",
   "metadata": {},
   "outputs": [],
   "source": [
    "2. In the sense of machine learning, explain the \"No Free Lunch\" theorem.\n",
    "\n",
    "The No Free Lunch Theorem is often thrown around in the field of optimization and machine learning, often with little understanding of what it means or implies. The theorem states that all optimization algorithms perform equally well when their performance is averaged across all possible problems"
   ]
  },
  {
   "cell_type": "code",
   "execution_count": null,
   "id": "ffa6c47e",
   "metadata": {},
   "outputs": [],
   "source": [
    "3. Describe the K-fold cross-validation mechanism in detail.\n",
    "\n",
    "In k-fold cross-validation, the original sample is randomly partitioned into k equal sized subsamples. Of the k subsamples, a single subsample is retained as the validation data for testing the model, and the remaining k − 1 subsamples are used as training data."
   ]
  },
  {
   "cell_type": "code",
   "execution_count": null,
   "id": "14f4a9af",
   "metadata": {},
   "outputs": [],
   "source": [
    "4. Describe the bootstrap sampling method. What is the aim of it?\n",
    "\n",
    "The bootstrap method is a statistical technique for estimating quantities about a population by averaging estimates from multiple small data samples. Importantly, samples are constructed by drawing observations from a large data sample one at a time and returning them to the data sample after they have been chosen."
   ]
  },
  {
   "cell_type": "code",
   "execution_count": null,
   "id": "c6e493aa",
   "metadata": {},
   "outputs": [],
   "source": [
    "5. What is the significance of calculating the Kappa value for a classification model? Demonstrate\n",
    "how to measure the Kappa value of a classification model using a sample collection of result\n",
    "\n",
    "It basically tells you how much better your classifier is performing over the performance of a classifier that simply guesses at random according to the frequency of each class. Cohen's kappa is always less than or equal to 1. Values of 0 or less, indicate that the classifier is useless"
   ]
  },
  {
   "cell_type": "code",
   "execution_count": null,
   "id": "55409693",
   "metadata": {},
   "outputs": [],
   "source": [
    "6. Describe the model ensemble method. In machine learning, what part does it play?\n",
    "\n",
    "Ensemble methods is a machine learning technique that combines several base models in order to produce one optimal predictive model . To better understand this definition lets take a step back into ultimate goal of machine learning and model building."
   ]
  },
  {
   "cell_type": "code",
   "execution_count": null,
   "id": "cb4432b2",
   "metadata": {},
   "outputs": [],
   "source": [
    "7. What is a descriptive models main purpose? Give examples of real-world problems that\n",
    "descriptive models were used to solve.\n",
    "\n",
    "A descriptive model describes a system or other entity and its relationship to its environment. It is generally used to help specify and/or understand what the system is, what it does, and how it does it. A geometric model or spatial model is a descriptive model that represents geometric and/or spatial relationships."
   ]
  },
  {
   "cell_type": "code",
   "execution_count": null,
   "id": "d8a1fa8f",
   "metadata": {},
   "outputs": [],
   "source": [
    "8. Describe how to evaluate a linear regression model.\n",
    "\n",
    "There are 3 main metrics for model evaluation in regression:\n",
    "R Square/Adjusted R Square.\n",
    "Mean Square Error(MSE)/Root Mean Square Error(RMSE)\n",
    "Mean Absolute Error(MAE)"
   ]
  },
  {
   "cell_type": "code",
   "execution_count": null,
   "id": "631b9597",
   "metadata": {},
   "outputs": [],
   "source": [
    "9.Descriptive vs. predictive models\n",
    "\n",
    "A descriptive model will exploit the past data that are stored in databases and provide you with the accurate report. In a Predictive model, it identifies patterns found in past and transactional data to find risks and future outcomes."
   ]
  },
  {
   "cell_type": "code",
   "execution_count": null,
   "id": "ce6ae2f9",
   "metadata": {},
   "outputs": [],
   "source": [
    "10. Make quick notes on:\n",
    "\n",
    "1. LOOCV.LOOCV(Leave One Out Cross-Validation) is a type of cross-validation approach in which each observation is considered as the validation set and the rest (N-1) observations are considered as the training set.\n",
    "\n",
    "2. F-measurement  The F measure (F1 score or F score) is a measure of a test's accuracy and is defined as the weighted harmonic mean of the precision and recall of the test"
   ]
  }
 ],
 "metadata": {
  "kernelspec": {
   "display_name": "Python 3 (ipykernel)",
   "language": "python",
   "name": "python3"
  },
  "language_info": {
   "codemirror_mode": {
    "name": "ipython",
    "version": 3
   },
   "file_extension": ".py",
   "mimetype": "text/x-python",
   "name": "python",
   "nbconvert_exporter": "python",
   "pygments_lexer": "ipython3",
   "version": "3.9.7"
  }
 },
 "nbformat": 4,
 "nbformat_minor": 5
}
