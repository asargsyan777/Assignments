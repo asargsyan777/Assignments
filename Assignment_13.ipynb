{
 "cells": [
  {
   "cell_type": "code",
   "execution_count": null,
   "id": "a935649b",
   "metadata": {},
   "outputs": [],
   "source": [
    "1. What advantages do Excel spreadsheets have over CSV spreadsheets?\n",
    "Excel can connect to external data sources to fetch data.\n",
    "Excel consumes more memory while importing data.\n",
    "Apart from text, data can also be stored in form of charts and graphs.\n",
    "An Excel not only stores data but can also do operations on the data."
   ]
  },
  {
   "cell_type": "code",
   "execution_count": null,
   "id": "252584d2",
   "metadata": {},
   "outputs": [],
   "source": [
    "2.What do you pass to csv.reader() and csv.writer() to create reader and writer objects?\n",
    "\n",
    "Example how to use reader function.\n",
    "\n",
    " import csv\n",
    "  exampleFile = open('example.csv')\n",
    "  exampleReader = csv.reader(exampleFile)\n",
    "   for row in exampleReader:\n",
    "        print('Row ' + str(exampleReader.line_num) + ' ' + str(row))\n",
    "        \n",
    "Example how to use write function.\n",
    "\n",
    "import csv\n",
    "with open('names.csv', 'w') as csvfile:\n",
    "    fieldnames = ['first_name', 'last_name']\n",
    "    writer = csv.DictWriter(csvfile, fieldnames=fieldnames)\n",
    "\n",
    "    writer.writeheader()\n",
    "    writer.writerow({'first_name': 'Anna', 'last_name': 'Sargsyan'})\n",
    "    writer.writerow({'first_name': 'Sudh', 'last_name': 'Kumar'})"
   ]
  },
  {
   "cell_type": "code",
   "execution_count": null,
   "id": "9037a48b",
   "metadata": {},
   "outputs": [],
   "source": [
    " 3. What modes do File objects for reader and writer objects need to be opened in?\n",
    "    In order to open a file for reading or writing purposes, we must use the built-in open() function.The open() function uses two arguments.\n",
    "    file_obj also called handle is the variable to add the file object.\n",
    "    filename: Name of the file.\n"
   ]
  },
  {
   "cell_type": "code",
   "execution_count": null,
   "id": "4c1a7e80",
   "metadata": {},
   "outputs": [],
   "source": [
    "4. What method takes a list argument and writes it to a CSV file?\n",
    "The most common method to write data from a list to CSV file is the writerow() method."
   ]
  },
  {
   "cell_type": "code",
   "execution_count": null,
   "id": "f8e44bb3",
   "metadata": {},
   "outputs": [],
   "source": [
    "5. What do the keyword arguments delimiter and line terminator do?\n",
    "The line terminator is the character that comes at the end of a row.\n",
    "By default, the line terminator is a newline. You can change characters to different values by using the delimiter and lineterminator keyword arguments with csv. writer() .\n"
   ]
  },
  {
   "cell_type": "code",
   "execution_count": null,
   "id": "2e3f9109",
   "metadata": {},
   "outputs": [],
   "source": [
    "6. What function takes a string of JSON data and returns a Python data structure?\n",
    "loads() method return Python data structure of JSON string or data"
   ]
  },
  {
   "cell_type": "code",
   "execution_count": null,
   "id": "f2e1f06c",
   "metadata": {},
   "outputs": [],
   "source": [
    "7. What function takes a Python data structure and returns a string of JSON data?\n",
    "Python supports JSON through a built-in package called json and this module can be used to convert a python dictionary to JSON object."
   ]
  },
  {
   "cell_type": "code",
   "execution_count": null,
   "id": "e1ac5462",
   "metadata": {},
   "outputs": [],
   "source": []
  },
  {
   "cell_type": "code",
   "execution_count": null,
   "id": "abb93b6f",
   "metadata": {},
   "outputs": [],
   "source": []
  },
  {
   "cell_type": "code",
   "execution_count": null,
   "id": "56896337",
   "metadata": {},
   "outputs": [],
   "source": []
  },
  {
   "cell_type": "code",
   "execution_count": null,
   "id": "71e50824",
   "metadata": {},
   "outputs": [],
   "source": []
  }
 ],
 "metadata": {
  "kernelspec": {
   "display_name": "Python 3 (ipykernel)",
   "language": "python",
   "name": "python3"
  },
  "language_info": {
   "codemirror_mode": {
    "name": "ipython",
    "version": 3
   },
   "file_extension": ".py",
   "mimetype": "text/x-python",
   "name": "python",
   "nbconvert_exporter": "python",
   "pygments_lexer": "ipython3",
   "version": "3.9.7"
  }
 },
 "nbformat": 4,
 "nbformat_minor": 5
}
