{
 "cells": [
  {
   "cell_type": "code",
   "execution_count": null,
   "id": "360692ce",
   "metadata": {},
   "outputs": [],
   "source": [
    "Question1\n",
    "Create a function that takes an integer and returns a list from 1 to the given number, where:\n",
    "1. If the number can be divided evenly by 4, amplify it by 10 (i.e. return 10 times the\n",
    "number).\n",
    "2. If the number cannot be divided evenly by 4, simply return the number.\n",
    "\n",
    "int divisible_k(int arr[], int size, int k){\n",
    "   int count = 0;\n",
    "   for(int i = 0; i<size; i++){\n",
    "      if(arr[i]%k==0){\n",
    "         count++;\n",
    "      }\n",
    "   }\n",
    "   return count;\n",
    "}\n",
    "int main(){\n",
    "   int arr[] = {4, 2, 6, 1, 3, 8, 10, 9};\n",
    "   int k = 2;\n",
    "   int size = sizeof(arr) / sizeof(arr[0]);"
   ]
  },
  {
   "cell_type": "code",
   "execution_count": null,
   "id": "db846eb9",
   "metadata": {},
   "outputs": [],
   "source": [
    "Question2.\n",
    "Create a function that takes a list of numbers and return the number thats unique.\n",
    "\n",
    "def unique_list(l):\n",
    "  x = []\n",
    "  for a in l:\n",
    "    if a not in x:\n",
    "      x.append(a)\n",
    "  return x\n",
    "\n",
    "print(unique_list([1,2,3,3,3,3,4,5])) "
   ]
  },
  {
   "cell_type": "code",
   "execution_count": null,
   "id": "b57d40e3",
   "metadata": {},
   "outputs": [],
   "source": [
    "Question3\n",
    "Your task is to create a Circle constructor that creates a circle with a radius provided by an\n",
    "argument. The circles constructed must have two getters getArea() (PIr^2) and\n",
    "getPerimeter() (2PI*r) which give both respective areas and perimeter (circumference).\n",
    "\n",
    "class Circle():\n",
    "    def __init__(self, r):\n",
    "        self.radius = r\n",
    "\n",
    "    def area(self):\n",
    "        return self.radius**2*3.14\n",
    "    \n",
    "    def perimeter(self):\n",
    "        return 2*self.radius*3.14\n",
    "\n",
    "NewCircle = Circle(8)\n",
    "print(NewCircle.area())\n",
    "print(NewCircle.perimeter())"
   ]
  },
  {
   "cell_type": "code",
   "execution_count": null,
   "id": "3ae0b37c",
   "metadata": {},
   "outputs": [],
   "source": [
    "Question4\n",
    "Create a function that takes a list of strings and return a list, sorted from shortest to longest.\n",
    "\n",
    "def Sorting(lst):\n",
    "    lst.sort(key=len)\n",
    "    return lst\n",
    "      \n",
    "lst = [\"rohan\", \"amy\", \"sapna\", \"muhammad\", \n",
    "       \"aakash\", \"raunak\", \"chinmoy\"]\n",
    "print(Sorting(lst))\n"
   ]
  },
  {
   "cell_type": "code",
   "execution_count": null,
   "id": "dc450adb",
   "metadata": {},
   "outputs": [],
   "source": [
    "Question5\n",
    "Create a function that validates whether three given integers form a Pythagorean triplet. \n",
    "\n",
    "import math\n",
    "\n",
    "def main():\n",
    "    for x in range (1, 1000):\n",
    "        for y in range (1, 1000):\n",
    "            for z in range(1, 1000):\n",
    "                if x*x == y*y + z*z:\n",
    "                    print y, z, x\n",
    "                    print '-'*50\n",
    "\n",
    "if __name__ == '__main__':\n",
    "    main()  "
   ]
  }
 ],
 "metadata": {
  "kernelspec": {
   "display_name": "Python 3 (ipykernel)",
   "language": "python",
   "name": "python3"
  },
  "language_info": {
   "codemirror_mode": {
    "name": "ipython",
    "version": 3
   },
   "file_extension": ".py",
   "mimetype": "text/x-python",
   "name": "python",
   "nbconvert_exporter": "python",
   "pygments_lexer": "ipython3",
   "version": "3.9.7"
  }
 },
 "nbformat": 4,
 "nbformat_minor": 5
}
