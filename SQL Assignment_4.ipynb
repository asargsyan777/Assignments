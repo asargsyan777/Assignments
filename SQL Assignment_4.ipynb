{
 "cells": [
  {
   "cell_type": "code",
   "execution_count": null,
   "id": "f50fbb86",
   "metadata": {},
   "outputs": [],
   "source": [
    "Q-1. Write an SQL query to print the FIRST_NAME from Worker table after replacing 'a'\n",
    "with 'A'.\n",
    "\n",
    "Select REPLACE(FIRST_NAME,'a','A') AS \"REPLACE NAME\" Worker;\n"
   ]
  },
  {
   "cell_type": "code",
   "execution_count": null,
   "id": "9d1ee703",
   "metadata": {},
   "outputs": [],
   "source": [
    "Q-2. Write an SQL query to print all Worker details from the Worker table order by\n",
    "FIRST_NAME Ascending and DEPARTMENT Descending.\n",
    "\n",
    "Select * from Worker order by FIRST_NAME asc,DEPARTMENT desc;"
   ]
  },
  {
   "cell_type": "code",
   "execution_count": null,
   "id": "7f9aec69",
   "metadata": {},
   "outputs": [],
   "source": [
    "Q-3. Write an SQL query to fetch the names of workers who earn the highest salary.\n",
    "\n",
    "\n",
    "Select First_Name from Workers where salary = (Select max(salary) from Workers);"
   ]
  }
 ],
 "metadata": {
  "kernelspec": {
   "display_name": "Python 3 (ipykernel)",
   "language": "python",
   "name": "python3"
  },
  "language_info": {
   "codemirror_mode": {
    "name": "ipython",
    "version": 3
   },
   "file_extension": ".py",
   "mimetype": "text/x-python",
   "name": "python",
   "nbconvert_exporter": "python",
   "pygments_lexer": "ipython3",
   "version": "3.9.7"
  }
 },
 "nbformat": 4,
 "nbformat_minor": 5
}
